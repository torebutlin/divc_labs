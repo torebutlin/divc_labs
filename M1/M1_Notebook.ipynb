{
 "cells": [
  {
   "cell_type": "markdown",
   "metadata": {},
   "source": [
    "***\n",
    "<h1><center> Engineering Tripos Part IB, Experiment M1 </center></h1> \n",
    "<h1><center> Experimental Engineering, Materials Teaching Laboratory </center></h1>\n",
    "\n",
    "***\n"
   ]
  },
  {
   "cell_type": "markdown",
   "metadata": {},
   "source": [
    "## Introduction\n",
    "\n",
    "In this experiment you will measure natural frequencies of vibrating beams after impulsive loading, and use these to calculate material properties. The frequency of free vibration of beams depends on the density (the inertia) and the stiffness: low density and high stiffness mean higher frequencies. The stiffness of beams in turn depends on the geometry (the length and cross-sectional shape) and the material (the Young’s modulus). The decay rate of the vibrations also provides information on damping i.e. energy loss during vibration. Two materials will be considered: aluminium alloy and the polymer PMMA."
   ]
  },
  {
   "cell_type": "markdown",
   "metadata": {},
   "source": [
    "## Method\n",
    "\n",
    "Start by importing the necessary modules (pydvma is a python package written for data acquisition at CUED).\n",
    "\n",
    "Remember: \n",
    "* to actually run a cell of code, click inside the cell then press 'shift+enter'\n",
    "* the cell is running while [ * ] is displayed\n",
    "* the cell has finished running when it changes to a number"
   ]
  },
  {
   "cell_type": "code",
   "execution_count": null,
   "metadata": {},
   "outputs": [],
   "source": [
    "%gui qt"
   ]
  },
  {
   "cell_type": "markdown",
   "metadata": {},
   "source": [
    "Wait a second before running the imports: it takes a moment for the previous command to take effect behind the scenes. If you get an error, just try it again."
   ]
  },
  {
   "cell_type": "code",
   "execution_count": null,
   "metadata": {},
   "outputs": [],
   "source": [
    "import matplotlib\n",
    "import numpy as np\n",
    "import pydvma as dvma\n",
    "import m1"
   ]
  },
  {
   "cell_type": "code",
   "execution_count": null,
   "metadata": {},
   "outputs": [],
   "source": [
    "matplotlib.use('nbagg')"
   ]
  },
  {
   "cell_type": "markdown",
   "metadata": {},
   "source": [
    "Choose your acquisition settings. The setting we want for the m1 lab are:\n",
    "\n",
    "* channels=1 (number of channels to record)\n",
    "* fs=8000 (sampling rate in Hz)\n",
    "* stored_time=2 (time in seconds to record data for)\n",
    "* viewed_time=2 (time in seconds to display on oscilloscope)\n",
    "* device_index = 1 (Windows default input)\n",
    "\n",
    "We want to use the default soundcard for the microphone, we only need one channel, and a lower sampling rate works well for this lab:"
   ]
  },
  {
   "cell_type": "code",
   "execution_count": null,
   "metadata": {},
   "outputs": [],
   "source": [
    "settings = dvma.MySettings(channels=1,\n",
    "                           fs=8000,\n",
    "                           stored_time=2,\n",
    "                           viewed_time=2,\n",
    "                           device_index=1)"
   ]
  },
  {
   "cell_type": "markdown",
   "metadata": {},
   "source": [
    "Now open an oscilloscope using your settings. This shows three plots:\n",
    "\n",
    "* the top one is like a normal oscilloscope showing the signal (toggle on/off with 'T');\n",
    "* the middle one shows the frequency spectrum of the signal (toggle on/off with 'F');\n",
    "* the bottom one shows the signal amplitudes (toggle on/off with 'L') - you probably want to turn this one off;\n",
    "\n",
    "The oscilloscope window will always be on top: to turn that off make sure the oscilloscope window is selected then press 'A'.\n",
    "\n",
    "Try the following:\n",
    "\n",
    "* **Tap a tuning fork** on your knee or the table, hold it over the microphone, then watch the oscilloscope window. You should see a signal in the time-domain plot (top), and a sharp peak in the frequency-domain plot (middle) at the tuning fork's natural frequency.\n",
    "* **Whistle at the microphone** and change pitch: you should see a peak which moves with the changing frequency.\n",
    "* **Place the beam on the rubber band supports** (so it's suspended over the microphone) and tap the beam while watching oscilloscope window. You will see the signal pass through the time-domain view, and clear peaks in the frequency domain view."
   ]
  },
  {
   "cell_type": "code",
   "execution_count": null,
   "metadata": {},
   "outputs": [],
   "source": [
    "osc = dvma.Oscilloscope(settings)"
   ]
  },
  {
   "cell_type": "markdown",
   "metadata": {},
   "source": [
    "Press the **space bar** to record data from the past 'stored_time' seconds.\n",
    "\n",
    "* The first time you press it you will be prompted for where to save your data.\n",
    "* The default location should be the folder 'lab_M1' in your filespace on the teaching system.\n",
    "* Subsequent times you press it will auto-save to the same folder with a number added to the filename.\n",
    "* Press 's' if you want to save data to a new filename or location. Pressing space after that will auto-save with the new name.\n",
    "\n",
    "If needed then you can restart this notebook using the 'kernel' menu and select 'restart kernel and clear output'. You can then run the import section above and start again from the top, or jump to the dvma.read_data() section below.\n",
    "\n",
    "**Note that pressing 'space' captures the past N seconds of data: so you need to tap the beam, wait a second or so, then press space!**\n",
    "\n",
    "Once you have a good example dataset you can read your data files and plot them."
   ]
  },
  {
   "cell_type": "code",
   "execution_count": null,
   "metadata": {},
   "outputs": [],
   "source": [
    "dataset = dvma.load_data()\n",
    "dataset"
   ]
  },
  {
   "cell_type": "code",
   "execution_count": null,
   "metadata": {},
   "outputs": [],
   "source": [
    "time_plot = dataset.plot_time_data()"
   ]
  },
  {
   "cell_type": "markdown",
   "metadata": {},
   "source": [
    "**Use the box-zoom tool** to zoom in on the section of time where you can see an impact and its decay down to (nearly) zero. We will use this section of data to calculate its spectrum and find the resonant peaks of the beam."
   ]
  },
  {
   "cell_type": "code",
   "execution_count": null,
   "metadata": {},
   "outputs": [],
   "source": [
    "dataset.calculate_fft_set(time_range=time_plot)"
   ]
  },
  {
   "cell_type": "code",
   "execution_count": null,
   "metadata": {},
   "outputs": [],
   "source": [
    "freq_plot = dataset.plot_freq_data()"
   ]
  },
  {
   "cell_type": "markdown",
   "metadata": {},
   "source": [
    "**Zoom in on the required resonant peaks** in the frequency domain plot, then use 'find_peaks' from the m1 labs module to record their exact values.\n",
    "\n",
    "Note that the peak finder is using the zoomed range of your 'freqplot'. It will only find peaks in this frequency range, and only those that are in view on the y-axis. So if you zoom in and chop off the noisy low-amplitude data then that can help isolate the most prominant peaks."
   ]
  },
  {
   "cell_type": "code",
   "execution_count": null,
   "metadata": {},
   "outputs": [],
   "source": [
    "p,a = m1.find_peaks(dataset.freq_data_list[0],freq_range=freq_plot)"
   ]
  },
  {
   "cell_type": "markdown",
   "metadata": {},
   "source": [
    "Next, we will be calculating the Young's Modulus of the beam.\n",
    "\n",
    "First of all, measure the length **(L)**, width **(b)**, thickness **(d)** and mass **(M)** of your beam in millimeters and grams, and enter their values below."
   ]
  },
  {
   "cell_type": "code",
   "execution_count": null,
   "metadata": {},
   "outputs": [],
   "source": [
    "### enter measured values\n",
    "L = ...  # mm\n",
    "b = ...  # mm\n",
    "d = ...  # mm\n",
    "M = ...  # g\n",
    "\n",
    "### convert to m and kg (already completed) ###\n",
    "L /= 1e3 # convert to kg\n",
    "b /= 1e3 # convert to kg\n",
    "d /= 1e3 # convert to kg\n",
    "M /= 1e3 # convert to kg"
   ]
  },
  {
   "cell_type": "markdown",
   "metadata": {},
   "source": [
    "Finally, use the code cell below to find the Young's Modulus of aluminium. \n",
    "\n",
    "You need to enter:\n",
    "* the natural frequency in Hz of one of the modes of the beam\n",
    "* the mode number corresponding to that frequency (counting 1 as the first mode)\n",
    "\n",
    "Now run the cell below for each mode and make sure your values agree with databook values. If any value is very far from what you expect then this is probably because the frequency and mode number are not matched correctly. Also check that the calculated density is reasonable.\n",
    "\n",
    "E is calculated using the following equation:\n",
    "$$(2\\pi f)^2\\times\\left(\\frac{L}{\\alpha_L}\\right)^4\\times\\rho\\times\\frac{A}{I}$$\n",
    "\n",
    "Record the measured natural frequencies and calculated Young’s modulus values on the Results Sheet"
   ]
  },
  {
   "cell_type": "code",
   "execution_count": null,
   "metadata": {},
   "outputs": [],
   "source": [
    "### Enter values for natural frequency and corresponding mode\n",
    "frequency = ... # Hz\n",
    "mode = ...      # mode number, counting 1 as first mode\n",
    "\n",
    "### Don't change this bit ###\n",
    "alphaL = np.array([4.730, 7.853, 10.996, 14.137]) # properties of a free-free beam - don't change\n",
    "alpha = alphaL[mode-1]/L # select alpha for chosen mode\n",
    "#############################\n",
    "\n",
    "### calculate properties\n",
    "rho = M/(L*b*d) # density\n",
    "A = b*d # cross-section area\n",
    "I = (b*d**3)/12 # second moment of area\n",
    "E = ((2*np.pi*frequency)**2)*((1/alpha)**4)*rho*A/I# Young's Modulus\n",
    "\n",
    "### print results\n",
    "print('The Young''s Modulus calculated from Mode {} is {:.2f} GPa'.format(mode,E*1e-9))\n",
    "print('Density = {:.2f} kgm^-3'.format(rho))"
   ]
  },
  {
   "cell_type": "markdown",
   "metadata": {},
   "source": [
    "## AT THE END OF THE EXPERIMENT... \n",
    "\n",
    "* double check that your data files (*.npy) are stored in your teaching system file space (use the desktop shortcut to 'Home' $\\rightarrow$ 'Documents' $\\rightarrow$ 'lab_M1')\n",
    "* share your data with lab-group partners (e.g. using [Firefox Send](https://send.firefox.com/) or [wetransfer](https://wetransfer.com/))\n",
    "* **sign out** from the PC.\n",
    "\n",
    "## ... or if time allows: PMMA polymer beam\n",
    "\n",
    "Repeat the testing procedure above using the PMMA beam (the code is copied below).\n",
    "\n",
    "Record the measured natural frequencies and calculated Young’s modulus values on the Results Sheet."
   ]
  },
  {
   "cell_type": "code",
   "execution_count": null,
   "metadata": {},
   "outputs": [],
   "source": [
    "osc = dvma.Oscilloscope(settings)"
   ]
  },
  {
   "cell_type": "markdown",
   "metadata": {},
   "source": [
    "How does the time series response for the PMMA beam compare with the aluminium case?\n",
    "\n",
    "The most notable difference is the much higher damping for this material. Recall from IA linear vibrations that damping may be characterised by the damping factor $\\zeta$\n",
    "\n",
    "This can be estimated from the time series data using the ‘logarithmic decrement’ approach (see the Mechanics Data Book, p.7) which compares the amplitudes of successive peaks ($y_1$ and $y_2$). Rearranging the Data Book formula gives:\n",
    "\n",
    "$$ \\zeta = \\left[ 1 + \\left(\\frac{2\\pi}{\\text{ln}(y_1/y_2)}\\right)^2 \\right]^{-\\frac{1}{2}}$$\n",
    "\n",
    "Apply this equation to successive pairs of peaks to estimate the damping factor, and note this\n",
    "on the Results Sheet."
   ]
  },
  {
   "cell_type": "code",
   "execution_count": null,
   "metadata": {},
   "outputs": [],
   "source": [
    "dataset_pmma = dvma.load_data()\n",
    "time_plot = dataset_pmma.plot_time_data()"
   ]
  },
  {
   "cell_type": "code",
   "execution_count": null,
   "metadata": {},
   "outputs": [],
   "source": [
    "y1 = \n",
    "y2 = \n",
    "zeta = ( 1 + (2*np.pi/np.log(y1/y2))**2 )**(-1/2)\n",
    "print(zeta)"
   ]
  },
  {
   "cell_type": "markdown",
   "metadata": {},
   "source": [
    "As discussed in IA linear vibrations, damping also alters the modal frequencies. The damped frequencies ($\\omega_d$) are related to the undamped frequencies ($\\omega_n$) via the equation in the Data Book):\n",
    "\n",
    "$$ \\omega_d = \\omega_n \\sqrt{1-\\zeta^2}$$\n",
    "\n",
    "We neglected this correction in the calculation of Young’s modulus: was this a significant omission?"
   ]
  },
  {
   "cell_type": "code",
   "execution_count": null,
   "metadata": {},
   "outputs": [],
   "source": []
  },
  {
   "cell_type": "markdown",
   "metadata": {},
   "source": [
    "## AT THE END OF THE EXPERIMENT\n",
    "\n",
    "* double check that your data files (*.npy) are stored in your teaching system file space (use the desktop shortcut to 'Home' $\\rightarrow$ 'Documents' $\\rightarrow$ 'lab_M1')\n",
    "* share your data with lab-group partners (e.g. using [Firefox Send](https://send.firefox.com/) or [wetransfer](https://wetransfer.com/))\n",
    "* **sign out** from the PC."
   ]
  },
  {
   "cell_type": "code",
   "execution_count": null,
   "metadata": {},
   "outputs": [],
   "source": []
  }
 ],
 "metadata": {
  "kernelspec": {
   "display_name": "Python 3",
   "language": "python",
   "name": "python3"
  },
  "language_info": {
   "codemirror_mode": {
    "name": "ipython",
    "version": 3
   },
   "file_extension": ".py",
   "mimetype": "text/x-python",
   "name": "python",
   "nbconvert_exporter": "python",
   "pygments_lexer": "ipython3",
   "version": "3.7.3"
  }
 },
 "nbformat": 4,
 "nbformat_minor": 2
}
