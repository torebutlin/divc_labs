{
 "cells": [
  {
   "cell_type": "markdown",
   "metadata": {},
   "source": [
    "# Logger template"
   ]
  },
  {
   "cell_type": "markdown",
   "metadata": {},
   "source": [
    "Start by importing the necessary modules (pydvma is a python package written for data acquisition at CUED).\n",
    "\n",
    "Remember: \n",
    "* to actually run a cell of code, click inside the cell then press 'shift+enter'\n",
    "* the cell is running while [ * ] is displayed\n",
    "* the cell has finished running when it changes to a number"
   ]
  },
  {
   "cell_type": "code",
   "execution_count": null,
   "metadata": {},
   "outputs": [],
   "source": [
    "%gui qt"
   ]
  },
  {
   "cell_type": "code",
   "execution_count": null,
   "metadata": {},
   "outputs": [],
   "source": [
    "import pydvma as dvma"
   ]
  },
  {
   "cell_type": "markdown",
   "metadata": {},
   "source": [
    "Choose your acquisition settings:\n",
    "\n",
    "* channels=2 (number of channels to record)\n",
    "* fs=44100 (sampling rate in Hz)\n",
    "* chunk_size=200 (how many samples to collect at a time, effectively controls refresh rate of oscilloscope)\n",
    "* stored_time=2 (time in seconds to record data for)\n",
    "* viewed_time=2 (time in seconds to display on oscilloscope)\n",
    "* device_index = 1 (Windows default input)"
   ]
  },
  {
   "cell_type": "code",
   "execution_count": null,
   "metadata": {},
   "outputs": [],
   "source": [
    "settings = dvma.MySettings(channels=2,\n",
    "                           fs=44100,\n",
    "                           chunk_size=1024,\n",
    "                           stored_time=2,\n",
    "                           viewed_time=2,\n",
    "                           device_driver='soundcard',\n",
    "                           device_index=1)"
   ]
  },
  {
   "cell_type": "markdown",
   "metadata": {},
   "source": [
    "Now open an oscilloscope using your settings. This shows three plots:\n",
    "\n",
    "* the top one is like a normal oscilloscope showing the signal (toggle on/off with 'T');\n",
    "* the middle one shows the frequency spectrum of the signal (toggle on/off with 'F');\n",
    "* the bottom one shows the signal amplitudes (toggle on/off with 'L');\n",
    "\n",
    "Try the following:\n",
    "\n",
    "* **Tap a tuning fork** on your knee or the table, hold it over the microphone, then watch the oscilloscope window. You should see a signal in the time-domain plot (top), and a sharp peak in the frequency-domain plot (middle) at the tuning fork's natural frequency.\n",
    "* **Whistle at the microphone** and change pitch: you should see a peak which moves with the changing frequency.\n",
    "* **Place the beam on the rubber band supports** (so it's suspended over the microphone) and tap the beam while watching oscilloscope window. You will see the signal pass through the time-domain view, and clear peaks in the frequency domain view."
   ]
  },
  {
   "cell_type": "code",
   "execution_count": null,
   "metadata": {},
   "outputs": [],
   "source": [
    "osc = dvma.Oscilloscope(settings)"
   ]
  },
  {
   "cell_type": "markdown",
   "metadata": {},
   "source": [
    "Press the **space bar** to record data from the past 'stored_time' seconds.\n",
    "\n",
    "* The first time you press it you will be prompted for where to save your data.\n",
    "* Use the save dialog to navigate to where you want to save your data\n",
    "* Subsequent times you press it will auto-save to the same folder with a number added to the filename.\n",
    "* Press 's' if you want to save data to a new filename or location. Pressing space after that will auto-save with the new name.\n",
    "\n",
    "If needed then you can restart this notebook using the 'kernel' menu and select 'restart kernel and clear output'. You can then run the import section above and start again from the top, or jump to the dvma.read_data() section below.\n",
    "\n",
    "**Note that pressing 'space' captures the past N seconds of data: so you need to tap the beam, wait a second or so, then press space!**\n",
    "\n",
    "Once you have a good example dataset you can read your data files and plot them."
   ]
  },
  {
   "cell_type": "code",
   "execution_count": null,
   "metadata": {},
   "outputs": [],
   "source": [
    "dataset = dvma.load_data()"
   ]
  },
  {
   "cell_type": "markdown",
   "metadata": {},
   "source": [
    "Another way to log data with / without the oscilloscope:"
   ]
  },
  {
   "cell_type": "code",
   "execution_count": null,
   "metadata": {},
   "outputs": [],
   "source": [
    "dataset = dvma.log_data(settings)"
   ]
  },
  {
   "cell_type": "code",
   "execution_count": null,
   "metadata": {},
   "outputs": [],
   "source": [
    "dvma.save_data(dataset)"
   ]
  },
  {
   "cell_type": "code",
   "execution_count": null,
   "metadata": {},
   "outputs": [],
   "source": [
    "%matplotlib notebook\n",
    "timeplot = dvma.PlotData(dataset.time_data_list,channels='all')"
   ]
  },
  {
   "cell_type": "markdown",
   "metadata": {},
   "source": [
    "**Use the box-zoom tool** to zoom in on the section of time where you can see an impact and its decay down to (nearly) zero. We will use this section of data to calculate its spectrum and find the resonant peaks of the beam."
   ]
  },
  {
   "cell_type": "code",
   "execution_count": null,
   "metadata": {},
   "outputs": [],
   "source": [
    "freqdata = dvma.calculate_fft(dataset.time_data_list[0])\n",
    "dataset.add_to_dataset(freqdata)\n",
    "freqplot = dvma.PlotData(dataset.freq_data_list,channels='all')"
   ]
  },
  {
   "cell_type": "code",
   "execution_count": null,
   "metadata": {},
   "outputs": [],
   "source": []
  }
 ],
 "metadata": {
  "kernelspec": {
   "display_name": "Python 3",
   "language": "python",
   "name": "python3"
  },
  "language_info": {
   "codemirror_mode": {
    "name": "ipython",
    "version": 3
   },
   "file_extension": ".py",
   "mimetype": "text/x-python",
   "name": "python",
   "nbconvert_exporter": "python",
   "pygments_lexer": "ipython3",
   "version": "3.6.6"
  }
 },
 "nbformat": 4,
 "nbformat_minor": 2
}
