{
 "cells": [
  {
   "cell_type": "markdown",
   "id": "a3805a70",
   "metadata": {},
   "source": [
    "***\n",
    "# Engineering Tripos Part IIA Project: GC4\n",
    "## Vibration Isolation for a Rocket Payload\n",
    "***\n",
    "\n",
    "This Jupyter Notebook provides basic template code for GC4 to get you started. It uses the package `pydvma`: a Python package for Dynamics and Vibration Measurement and Analysis.\n"
   ]
  },
  {
   "cell_type": "code",
   "execution_count": null,
   "id": "86091db1",
   "metadata": {},
   "outputs": [],
   "source": [
    "# Imports\n",
    "import pydvma as dvma\n",
    "import matplotlib\n",
    "import matplotlib.pyplot as plt\n",
    "import numpy as np"
   ]
  },
  {
   "cell_type": "code",
   "execution_count": null,
   "id": "37b9ea35",
   "metadata": {},
   "outputs": [],
   "source": [
    "# Allows matplotlib to be interactive\n",
    "%matplotlib notebook"
   ]
  },
  {
   "cell_type": "code",
   "execution_count": null,
   "id": "f6c4cf3f",
   "metadata": {},
   "outputs": [],
   "source": [
    "# Choose settings\n",
    "settings = dvma.MySettings(fs=1000,\n",
    "                           channels=5,\n",
    "                           stored_time=2,\n",
    "                           pretrig_samples=None,\n",
    "                           device_driver='nidaq',\n",
    "                           VmaxNI=10)"
   ]
  },
  {
   "cell_type": "code",
   "execution_count": null,
   "id": "731180be",
   "metadata": {},
   "outputs": [],
   "source": [
    "# Run the logger\n",
    "logger = dvma.Logger(settings)"
   ]
  },
  {
   "cell_type": "markdown",
   "id": "0cfe4796",
   "metadata": {},
   "source": [
    "Note that the logger is a separate thread so you can't do anything in the notebook until you close it. If you get any errors appearing here, save your data, close the window, then restart the kernel and try again.\n",
    "\n",
    "Feedback is welcome: email tb267@cam.ac.uk"
   ]
  },
  {
   "cell_type": "markdown",
   "id": "247357b9",
   "metadata": {},
   "source": [
    "***\n",
    "To analyse your data, you can either:\n",
    "\n",
    "1. use the logger by installing pydvma on your own laptop:\n",
    "    - download and install anaconda [https://www.anaconda.com/download/](https://www.anaconda.com/download/)\n",
    "    - open `Anaconda Prompt` and type `pip install pydvma`\n",
    "    - then you can use this notebook and the code above to open a logger window and load / analyse the data\n",
    "\n",
    "    ... OR ...\n",
    "\n",
    "2. save the data as a numpy array (now! - while you're in the lab), then use numpy / scipy to manipulate the data as you choose:\n",
    "    - this method lets you use your own installation of anaconda as above, but without needing to install pydvma\n",
    "    - or you can save your data to your Google Drive and use [https://colab.research.google.com](https://colab.research.google.com)\n",
    "    - to extract the data from the logger format you can use the template code below:\n"
   ]
  },
  {
   "cell_type": "code",
   "execution_count": null,
   "id": "4f039f29",
   "metadata": {},
   "outputs": [],
   "source": [
    "# First load the data file you want to extract from\n",
    "d = dvma.load_data()"
   ]
  },
  {
   "cell_type": "code",
   "execution_count": null,
   "id": "30536484",
   "metadata": {},
   "outputs": [],
   "source": [
    "# To extract the time-series data:\n",
    "# (you can change which dataset you want to extract from by changing the index in the square brackets)\n",
    "t = d.time_data_list[0].time_axis\n",
    "y = d.time_data_list[0].time_data\n",
    "np.savez('filename.npz',t=t,y=y) # don't forget to rename your file!\n",
    "np.load('filename.npz') # will load the variables saved"
   ]
  },
  {
   "cell_type": "code",
   "execution_count": null,
   "id": "7b6ab495",
   "metadata": {},
   "outputs": [],
   "source": [
    "# To extract the FFT data:\n",
    "# (you can change which dataset you want to extract from by changing the index in the square brackets)\n",
    "f = d.freq_data_list[0].freq_axis\n",
    "y = d.freq_data_list[0].freq_data\n",
    "np.savez('filename.npz',f=f,y=y) # don't forget to rename your file!\n",
    "np.load('filename.npz') # will load the variables saved"
   ]
  },
  {
   "cell_type": "code",
   "execution_count": null,
   "id": "607b99bf",
   "metadata": {},
   "outputs": [],
   "source": [
    "# To extract the Transfer Function data:\n",
    "# (you can change which dataset you want to extract from by changing the index in the square brackets)\n",
    "f = d.tf_data_list[0].freq_axis\n",
    "y = d.tf_data_list[0].tf_data\n",
    "np.savez('filename.npz',f=f,y=y) # don't forget to rename your file!\n",
    "np.load('filename.npz') # will load the variables saved"
   ]
  },
  {
   "cell_type": "markdown",
   "id": "d03160a3",
   "metadata": {},
   "source": [
    "Then to share the data with your group, it's probably easiest to use [wetransfer.com](wetransfer.com) or equivalent."
   ]
  },
  {
   "cell_type": "markdown",
   "id": "47b242ad",
   "metadata": {},
   "source": [
    "***\n",
    "Here are a few general instructions for running the logger:\n",
    "\n",
    "* Press __`Log Data` (top-middle panel)__ to log data using the specified settings\n",
    "* Press __`Save Figure` (bottom-middle panel)__ to save the time data plot as a \\*.png and \\*.pdf file\n",
    "* Press __`Calc FFT` (right panel)__ to calculate the FFT using the window function specified beneath it: the default 'hann' is appropriate here\n",
    "* Press __`Save Figure` (bottom-middle panel)__ to save the plot\n",
    "* Press __`Calc TF` (right panel)__ to calculate the Transfer Function: the defaults window='hann' and average='None' are appropriate here. We will use the averaging option later.\n",
    "* Press __`Save Figure`__ to save the plot. It will save a \\*.png and \\*.pdf of the figure as seen on the screen:\n",
    "    * You can adjust the x-y scales using the box zoom (under the plot) and the axis tools (left panel)\n",
    "    * You can choose the legend location (left panel)\n",
    "    * You can toggle which lines are displayed by clicking on the lines inside the legend (when 'off' they will be still visible as transparent lines, and you can choose which line is on 'top' by deselecting and reselecting it)\n",
    "* Press __`Save Dataset`__ to save all the data (it will save the data that has been calculated so far, so press it after you have calculated the FFT and Transfer Functions)\n",
    "\n"
   ]
  },
  {
   "cell_type": "markdown",
   "id": "23c2dfa2",
   "metadata": {},
   "source": [
    "***\n",
    "    \n",
    "### Understanding the logger:\n",
    "\n",
    "When you press __`Save Dataset`__, the logger saves a `<DataSet>` object which has the following structure:\n",
    "\n",
    "```\n",
    "<DataSet> class:\n",
    "          time_data_list: [<TimeData>,<TimeData>,<TimeData>]\n",
    "          freq_data_list: [<FreqData>, <FreqData>, <FreqData>]\n",
    "    cross_spec_data_list: []\n",
    "            tf_data_list: [<TfData>, <TfData>, <TfData>]\n",
    "         modal_data_list: []\n",
    "          sono_data_list: []\n",
    "          meta_data_list: []\n",
    "```          \n",
    "\n",
    "\n",
    "    \n",
    "Each type of data is arranged in 'sets', e.g. each measurement will add another <TimeData> set to time_data_list. This example has three sets of each data type. Similarly each time you load data it will add the loaded sets to the appropriate data list.\n",
    "\n",
    "* When you press __`Calc FFT`__ then a `<FreqData>` item is calculated for each `<TimeData>` set.\n",
    "* When you press __`Calc TF`__ then a `<TfData>` item is calculated for each `<TimeData>` set\n",
    "* When you press __`Calc TF`__ with `average='across sets'` then a single `<TfData>` item is calculated averaging across all `<TimeData>` items, with an assumption that the time data sets all have the same settings.\n"
   ]
  },
  {
   "cell_type": "code",
   "execution_count": null,
   "id": "aab8be43",
   "metadata": {},
   "outputs": [],
   "source": []
  }
 ],
 "metadata": {
  "kernelspec": {
   "display_name": "Python 3 (ipykernel)",
   "language": "python",
   "name": "python3"
  },
  "language_info": {
   "codemirror_mode": {
    "name": "ipython",
    "version": 3
   },
   "file_extension": ".py",
   "mimetype": "text/x-python",
   "name": "python",
   "nbconvert_exporter": "python",
   "pygments_lexer": "ipython3",
   "version": "3.10.9"
  }
 },
 "nbformat": 4,
 "nbformat_minor": 5
}
