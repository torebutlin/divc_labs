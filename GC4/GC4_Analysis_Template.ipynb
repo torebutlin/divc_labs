{
 "cells": [
  {
   "cell_type": "markdown",
   "id": "64093266",
   "metadata": {},
   "source": [
    "***\n",
    "# Engineering Tripos Part IIA Project: GC4\n",
    "## Vibration Isolation for a Rocket Payload\n",
    "## Analysis template\n",
    "***\n",
    "\n",
    "This Jupyter Notebook provides basic template code for GC4 to get you started.\n"
   ]
  },
  {
   "cell_type": "code",
   "execution_count": null,
   "id": "4339a603",
   "metadata": {},
   "outputs": [],
   "source": [
    "# Imports\n",
    "import matplotlib\n",
    "import matplotlib.pyplot as plt\n",
    "import numpy as np"
   ]
  },
  {
   "cell_type": "code",
   "execution_count": null,
   "id": "86a14190",
   "metadata": {},
   "outputs": [],
   "source": [
    "# Allows matplotlib to be interactive\n",
    "%matplotlib notebook"
   ]
  },
  {
   "cell_type": "code",
   "execution_count": null,
   "id": "30b29fff",
   "metadata": {},
   "outputs": [],
   "source": [
    "# Load the data from the npz files\n",
    "data = np.load('data.npz') # will load the variables saved"
   ]
  },
  {
   "cell_type": "code",
   "execution_count": null,
   "id": "166ba03a",
   "metadata": {},
   "outputs": [],
   "source": [
    "# Put the data into easier-to-access variables\n",
    "t = data['t']\n",
    "y = data['y']\n",
    "\n",
    "f_fft = data['f_fft']\n",
    "y_fft = data['y_fft']\n",
    "\n",
    "f_tf = data['f_tf']\n",
    "y_tf = data['y_tf']"
   ]
  },
  {
   "cell_type": "code",
   "execution_count": null,
   "id": "ead309e4",
   "metadata": {},
   "outputs": [],
   "source": [
    "# Continue analysis...\n"
   ]
  },
  {
   "cell_type": "code",
   "execution_count": null,
   "id": "06dbf1af",
   "metadata": {},
   "outputs": [],
   "source": [
    "# Plot\n",
    "plt.plot(t,y)"
   ]
  },
  {
   "cell_type": "code",
   "execution_count": null,
   "id": "e8e0e6f5",
   "metadata": {},
   "outputs": [],
   "source": []
  }
 ],
 "metadata": {
  "kernelspec": {
   "display_name": "Python 3 (ipykernel)",
   "language": "python",
   "name": "python3"
  },
  "language_info": {
   "codemirror_mode": {
    "name": "ipython",
    "version": 3
   },
   "file_extension": ".py",
   "mimetype": "text/x-python",
   "name": "python",
   "nbconvert_exporter": "python",
   "pygments_lexer": "ipython3",
   "version": "3.10.11"
  }
 },
 "nbformat": 4,
 "nbformat_minor": 5
}
