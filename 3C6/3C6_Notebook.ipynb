{
 "cells": [
  {
   "cell_type": "markdown",
   "metadata": {},
   "source": [
    "<hr style=\"height:2px;border:none\" />\n",
    "<h1><center> Engineering Tripos Part IIA Module Experiment: 3C6 </center></h1> \n",
    "<h1><center> Digital Vibration Analysis, South Wing Mechanics Laboratory </center></h1>\n",
    "<hr style=\"height:2px;border:none\" />\n",
    "\n",
    "## Objectives\n",
    "\n",
    "-  To investigate alternative methods of determining calibrated frequency response transfer functions of a mechanical vibrating system, using a digital measuring system;\n",
    "-   To predict the response of a system from measured responses of its decoupled subsystems, and to compare with the measured response of the coupled system.\n",
    "\n",
    "## Introduction\n",
    "\n",
    "Problems involving vibration occur in every area of mechanical engineering, such as wave loading of offshore platforms, cabin noise in aircraft, performance of machine tools, and design of loudspeakers. To tackle such problems, one generally needs a combination of theoretical modelling and measurement. Theoretical modelling may take the form of simple analytical calculations, but is more likely to involve computer packages (for example to perform finite-element calculations).\n",
    "\n",
    "Most vibration measurements also involve computers. A force of some kind is applied to the structure, and signals corresponding to this driving force and the response of the structure are sampled at regular intervals using an analogue-to-digital converter, so that they are represented in the computer by vectors of discrete values. This operation is usually described as “data-logging”. These sampled signals can then be processed to yield frequency response functions, vibration resonance frequencies, damping factors, mode shapes, and other more complicated quantities such as fatigue life predictions. The fundamental building block in any such analysis is the transfer function between a force applied at one point on the structure and the response (displacement, velocity or acceleration) at another point. The main approaches to the determination of vibration transfer functions are illustrated in this experiment.\n",
    "\n",
    "_Note on jargon: a confusing array of different names is used to describe such transfer functions. We will use “(mechanical) admittance”, based on an analogy between mechanical and electrical systems. This is defined to be the ratio of velocity response to force, at a given frequency. Velocity is the natural response variable for many purposes, because it is the “energy conjugate” of force — force times velocity at the driven point gives the rate of doing work, just as does voltage times current. Another common name for admittance is “mobility”._\n",
    "\n",
    "## Apparatus\n",
    "\n",
    "The apparatus comprises a mechanical vibrating system, actuators to apply controlled forces to it, a sensor to measure the response, a data-logging computer with analysis software, and some miscellaneous electronic instrumentation. The vibrating system consists of two flexible cantilever beams, fixed to a heavy base. The base rests on soft rubber feet, to minimise the pick-up of background vibration transmitted through the floor and bench. An electromagnetic shaker (moving-coil actuator, constructed like a normal loudspeaker) can be coupled to the lower beam using a magnetic attachment. The two beams may be coupled together by wedging a small brass rod between the two beams. There is enough contact pressure to ensure that the beams remain in good contact for the purposes of vibration transmission.\n",
    "\n",
    "Force can also be applied to the structure impulsively, using an instrumented hammer. This has a piezoelectric force transducer built into it, so that the precise waveform of force can be determined. The signal from this transducer is buffered by a suitable charge amplifier. The hammer has a soft tip which has the effect of limiting the frequency content of the impulse to a maximum of about 800Hz. The charge amplifiers used in this experiment have a low-frequency cutoff of 8 Hz. This makes vibration measurement easier by rapidly removing any DC drift or offset.\n",
    "\n",
    "Vibration response is measured using an accelerometer mounted on a magnetic base. It can be placed on the top or bottom beam as required. The signal from the accelerometer passes through a charge amplifier, and is then integrated by analogue circuitry to produce an output proportional to velocity at the measurement point. In this experiment the accelerometer should always be placed as near as possible to the point on the structure at which the driving force is applied — this is achieved by placing it on the opposite side to the force-application point, in line with it. In this way, all your measurements will be of driving-point admittance.\n",
    "\n",
    "Signals corresponding to the force and the velocity response go to the PC, which is used to perform data logging and analysis via a Python package, which this notebook uses. The person who logs in will hold all saved files. Make sure your file quota is not near its limit before you begin! If the power is not on at the benches, turn on the switches on the pillar at the north end of the bench, labelled “computers” and “bench sockets”. You may need to plug in the two BNC cables carrying your input and output signals to the diecast box at the rear of the computer trolley. Your cables are labelled “3C6 CH1” and “3C6 CH2”, to be plugged into the corresponding channels.\n",
    "\n",
    "Magnets are not really the best way to attach accelerometers to a structure. As in this experiment they can be very convenient, but they have two major disadvantages. Firstly, the contact force is quite small (compared with a bolted or glued connection) and this causes problems if the acceleration levels are high. The second problem is that heavy magnets should not be used on light structures since the added mass will seriously modify the vibration characteristics of the structure, at the very least by lowering natural frequencies. You will observe this effect in this experiment and you should comment on it.\n",
    "\n",
    "***\n",
    "__When using the magnets make sure they are well seated. If they are not, you will hear buzzing or rattling. Remove the magnet and wipe both surfaces with your finger to remove any grit. Moving the magnet slightly is often all that is needed to get rid of the buzz. If the buzz persists, try using a lower vibration level.__\n",
    "***"
   ]
  },
  {
   "cell_type": "markdown",
   "metadata": {},
   "source": [
    "## Experimental procedure\n",
    "### Sine wave measurements (30 minutes)\n",
    "\n",
    "For the first part of the experiment you will explore the frequency response of the cantilever system using a sine-wave generator, much as you did in the Part IA vibration experiment. The computer will be used only to collect the results and plot them. Attach the shaker to the bottom beam using the magnetic connector and insert the brass coupling rod between the two beams if it is not already there. Attach the accelerometer to the top beam directly above the coupling rod. Set the selector switch to “Sine”.\n",
    "\n",
    "Start by importing the necessary modules (pydvma is a python package written for data acquisition at CUED).\n",
    "\n",
    "Remember:\n",
    "\n",
    "* to actually run a cell of code, click inside the cell then press 'shift+enter'\n",
    "* the cell is running while [ * ] is displayed\n",
    "* the cell has finished running when it changes to a number"
   ]
  },
  {
   "cell_type": "code",
   "execution_count": null,
   "metadata": {},
   "outputs": [],
   "source": [
    "%gui qt"
   ]
  },
  {
   "cell_type": "markdown",
   "metadata": {},
   "source": [
    "Wait a second before running the imports: it takes a moment for the previous command to take effect behind the scenes. If you get an error, just try it again."
   ]
  },
  {
   "cell_type": "code",
   "execution_count": null,
   "metadata": {},
   "outputs": [],
   "source": [
    "import matplotlib\n",
    "import numpy as np\n",
    "import lab_3c6\n",
    "import pydvma as dvma"
   ]
  },
  {
   "cell_type": "code",
   "execution_count": null,
   "metadata": {},
   "outputs": [],
   "source": [
    "matplotlib.use('nbagg')"
   ]
  },
  {
   "cell_type": "markdown",
   "metadata": {},
   "source": [
    "Choose your acquisition settings. The settings for this part of the 3C6 lab are:\n",
    "\n",
    "* channels=2 (number of channels to record)\n",
    "* fs=3000 (sampling rate in Hz)\n",
    "* chunk_size=100 (how many samples to collect at a time, effectively controls refresh rate of oscilloscope)\n",
    "* stored_time=1 (time in seconds to record data for)\n",
    "* viewed_time=1 (time in seconds to display on oscilloscope)\n",
    "* device_driver = 'nidaq'\n",
    "* device_index = 0"
   ]
  },
  {
   "cell_type": "code",
   "execution_count": null,
   "metadata": {},
   "outputs": [],
   "source": [
    "# acquisition setup\n",
    "settings = dvma.MySettings(channels=2,\n",
    "                           fs=3000,\n",
    "                           stored_time=2,\n",
    "                           device_driver = 'nidaq')"
   ]
  },
  {
   "cell_type": "markdown",
   "metadata": {},
   "source": [
    "Now open an oscilloscope using your settings. This shows three plots:\n",
    "\n",
    "* the top one is like a normal oscilloscope showing the signal (toggle on/off with 'T');\n",
    "* the middle one shows the frequency spectrum of the signal (toggle on/off with 'F');\n",
    "* the bottom one shows the signal amplitudes (toggle on/off with 'L');\n",
    "* you can pause the data shown by pressing 'P' (press again to continue streaming data);\n",
    "* you can toggle whether the window is always on top by pressing 'A'"
   ]
  },
  {
   "cell_type": "code",
   "execution_count": null,
   "metadata": {},
   "outputs": [],
   "source": [
    "# open oscilloscope\n",
    "osc = dvma.Oscilloscope(settings)"
   ]
  },
  {
   "cell_type": "markdown",
   "metadata": {},
   "source": [
    "In this part of the lab we want to measure the gain and phase shift from input to output at the specific frequencies of the generator. \n",
    "\n",
    "1. Start the stepped-sine logging widget by running the code in the next cell\n",
    "* Use the sine-wave generator to explore the system response in the frequency range 0–500 Hz. \n",
    "* For each frequency tested, watch the oscilloscope display to be sure that the vibration has settled to a steady state, then click the “Measure” button on the computer. \n",
    "* The input and output signals will be sampled, and a dot will be plotted on the screen showing the corresponding value of the admittance function. As is usual in vibration measurements, the results are plotted with a logarithmic vertical scale, in decibels (dB). Actually the admittance function is complex (or equivalently each value has a phase shift associated with it), and what is plotted here is the magnitude of the admittance.\n",
    "\n",
    "You can explore up and down in frequency at will, until you have dotted out a reasonable picture of the admittance (you should find at least four resonance peaks). Unwanted data points can be deleted using the “Delete Last Measurement” button. Be particularly careful to catch the peak values, where the system has resonances. When you have gathered sufficient data points, click on the \"Save Data\" and \"Save Fig\" buttons: you will be prompted for a file name. You need to save your data as well as the figure so you can read it back again later.\n",
    "\n",
    "__Any files you save during this experiment should be put in your own file space on the central computer network: this space is mounted as the drive z: when you logged in to the Teaching System. Do not put files on the local disk of the PC you are using. Make sure you avoid file names containing a dot! Windows doesn’t like them.__\n",
    "\n"
   ]
  },
  {
   "cell_type": "code",
   "execution_count": null,
   "metadata": {},
   "outputs": [],
   "source": [
    "# log data\n",
    "log_stepped_sine = lab_3c6.measure_stepped_sine(settings)"
   ]
  },
  {
   "cell_type": "markdown",
   "metadata": {},
   "source": [
    "__Make sure you remembered to save both the data and the figure!__\n",
    "\n",
    "You will need the data later: to check that you have saved it, you can reload and replot it. Note that the individual points are now plotted as a continuous line."
   ]
  },
  {
   "cell_type": "code",
   "execution_count": null,
   "metadata": {},
   "outputs": [],
   "source": [
    "data_stepped_sine = dvma.load_data()\n",
    "data_stepped_sine.plot_tf_data()"
   ]
  },
  {
   "cell_type": "markdown",
   "metadata": {},
   "source": [
    "### Noise input\n",
    "\n",
    "The sine-wave method of obtaining the admittance, as you will now know, is laborious and not particularly accurate unless considerable care is taken. An improvement is to employ a forcing signal which contains the whole range of frequencies simultaneously, and to use Fourier analysis to sort out both the input and output signals into frequency components, and thus to obtain the transfer function. One kind of forcing signal which has a broad range of frequency components is random noise. Switch to “Noise” on the selector, and you will hear the sound of the cantilever system responding to such a signal, generated by an analogue noise generator."
   ]
  },
  {
   "cell_type": "markdown",
   "metadata": {},
   "source": [
    "You can bring up the oscilloscope at any time using:"
   ]
  },
  {
   "cell_type": "code",
   "execution_count": null,
   "metadata": {},
   "outputs": [],
   "source": [
    "osc = dvma.Oscilloscope(settings)"
   ]
  },
  {
   "cell_type": "markdown",
   "metadata": {},
   "source": [
    "We will explore the effect of some different logging options: first change the settings to store 2 seconds of data, then open the interactive logger:\n",
    "\n",
    "1. Press 'Log Data' to log data using the specified settings\n",
    "* You should have a single measurement, shown as two lines in the figure.\n",
    "* If you have made more measurements then use the 'Delete Last Measurement' button until you just have one measurement left.\n",
    "* Press 'Save Fig' to save the plot to disk\n",
    "* Press 'FFT' to calculate the FFT using the window function specified beneath it: the default 'hanning' is appropriate here\n",
    "* Press 'Save Fig' to save the plot to disk\n",
    "* Press 'Plot TF' to calculate the Transfer Function: the default window 'hanning' and N_frames=1 are appropriate here.\n",
    "* We don't need 'Plot TF av' yet: this will be used later\n",
    "* Press 'Save Fig' to save the plot to disk\n",
    "* Press 'Save Dataset' to save all the data to disk (it will save the data that has been calculated so far)    "
   ]
  },
  {
   "cell_type": "code",
   "execution_count": null,
   "metadata": {},
   "outputs": [],
   "source": [
    "# acquisition setup\n",
    "settings = dvma.MySettings(channels=2,\n",
    "                           fs=3000,\n",
    "                           stored_time=2,\n",
    "                           device_driver = 'nidaq')\n",
    "logger1 = dvma.InteractiveLogging(settings,\n",
    "                                  test_name = 'noise_input_' + str(settings.stored_time) + 's')"
   ]
  },
  {
   "cell_type": "markdown",
   "metadata": {},
   "source": [
    "__Remember to save your data and figures to the teaching system__\n",
    "\n",
    "Next repeat the steps using the interactive logger above, but logging for 30 seconds instead. You will need to change the settings line above to 'settings.stored_time=30'"
   ]
  },
  {
   "cell_type": "markdown",
   "metadata": {},
   "source": [
    "We can compare the transfer functions from the two measurements using the interactive viewer:\n",
    "* Press 'Load Data' and open your data from the 2 second noise test\n",
    "* Press 'Load Data' and open your data from the 30 second noise test\n",
    "* Press 'View TF' to compare the datasets from the two measurements\n",
    "\n",
    "__Remember to save your data and figures to the teaching system__"
   ]
  },
  {
   "cell_type": "code",
   "execution_count": null,
   "metadata": {},
   "outputs": [],
   "source": [
    "viewer = dvma.InteractiveView()"
   ]
  },
  {
   "cell_type": "markdown",
   "metadata": {},
   "source": [
    "To smooth out the transfer functions we can average the data: recall that the transfer function is given by:\n",
    "\n",
    "$$G(\\omega) = \\frac{E[YX^*]}{E[XX^*]}$$\n",
    "\n",
    "where $X$ and $Y$ are the FFTs of the input and output respectively, and $E[\\cdot]$ denotes the expectation (or average). If we take the whole time series then no averages are taken. But we can split the time data into sections (or 'frames'), calculate the FFT of each frame, then take the averages of those.\n",
    "\n",
    "1. Press 'Load Data' and find the 30 second noise data file\n",
    "* Press 'Calc TF'\n",
    "* Use the 'N_frames' slider to investigate the effect of averaging with different numbers of frames\n",
    "* Save plots for the cases N=1, N=30 and your choice of N that gives the 'best' transfer function estimate\n",
    "* Be careful to watch the coherence near the peaks as N increases."
   ]
  },
  {
   "cell_type": "code",
   "execution_count": null,
   "metadata": {},
   "outputs": [],
   "source": [
    "# Load interactive tool to investigate N_frames\n",
    "logger2 = dvma.InteractiveLogging(settings)"
   ]
  },
  {
   "cell_type": "markdown",
   "metadata": {},
   "source": [
    "### Hammer input\n",
    "\n",
    "There is an entirely different kind of forcing signal which contains a broad range of frequencies. This arises if you excite the structure impulsively with a short pulse. This could be done using the shaker, but it is more naturally done using a hammer. Remove the magnet and rod which attaches the shaker to the beams, then move the accelerometer to the underneath of the beams to the position where this coupling was previously attached. Switch the selector to “Hammer”. \n",
    "\n",
    "You can now capture the response of the system to a gentle tap with the instrumented hammer: tap on the top of the beams vertically above the accelerometer. Provided you tap within 20 s of starting logging, the computer will detect the moment when your input signal (the hammer force) exceeds a threshold value, and it will automatically save the signal starting just before this moment, by the 100 samples specified by the pretrigger variable.\n",
    "\n",
    "__Data will be collected by the computer for 6 s: hold the hammer still until it is finished, and don’t put it down on the bench.__\n",
    "\n",
    "__Check your hammer impulse in the time-domain display window. Is it clipped? Was there a single, clean impact or multiple impacts? Be prepared to practice your tapping technique until you get good results. Don't proceed until you've got a single clean impulse. Was there any vibration before the impulse? Make sure the beams were not still vibrating from a previous impulse. Did you hear any rattling or buzzing sounds? Try a lighter tap.__\n",
    "\n",
    "The data logger converts voltages in the range $\\pm 5$ V into discrete levels with 16-bit accuracy and normalises the $2^{16}$ bit integer to be in the range $-1<y<1$. If the sampled data are much less than about 0.1 (corresponding to 0.5 Volts), then some useful dynamic range has been wasted. But if the signal reaches 1 (5 Volts) then the signal has been clipped. This will produce nonlinearity in the frequency response. The program will warn you if either signal is clipped: repeat the measurement if so.\n",
    "\n",
    "Before looking at the transfer function, it is always prudent to examine the time signals of both input and output, and you should do this. If you zoom in on the time signals, you will see the individual samples. Examine the hammer pulse in detail: find out how long it is, and comment in your write-up on what governs this length, and what influence it might have on the transfer function. Examine the signals, both input and output, before the hammer strike. They are probably slightly non-zero: are there different reasons for the input and the output?\n",
    "\n",
    "Next, calculate frequency spectra with the FFT option (set window to None), and look at the spectra of input and output signals. What governs the form of the input spectrum? What force spectrum would you expect from an ideal impulse? Why does the spectrum tail off at high frequencies? Why does it tail off at low frequencies? Why should no window function be used for this test?\n",
    "\n",
    "Obtain a transfer function to compare with those obtained by the earlier methods. You should find that the result is satisfactory, with sharp clear peaks and troughs, without any need for averaging. If it is not, try again. You may have to develop your hammering technique a little to obtain best results. If you find it hard to get a clean transfer function then try moving the magnet, and checking that the brass coupling rod between the beams is well seated. It takes very little time to repeat the impulse response procedure. __You will find the write-up much easier with good data.__\n",
    "\n",
    "Try measuring an averaged transfer function using the hammer: this time you will do this by averaging across each measurement, rather than dividing a single long measurement into frames. You should find that just two or three hammer taps are sufficient to produce excellent coherence in the frequency range up to 500 Hz.\n",
    "\n",
    "__Remember to save your data and figures to the teaching system__"
   ]
  },
  {
   "cell_type": "code",
   "execution_count": null,
   "metadata": {},
   "outputs": [],
   "source": [
    "# acquisition setup\n",
    "settings = dvma.MySettings(channels=2,\n",
    "                           fs=3000,\n",
    "                           stored_time=2,\n",
    "                           pretrig_samples=100,\n",
    "                           device_driver = 'nidaq')\n",
    "logger2 = dvma.InteractiveLogging(settings, \n",
    "                                  test_name = 'hammer_input_' + str(settings.stored_time) + 's',\n",
    "                                  default_window=None)"
   ]
  },
  {
   "cell_type": "markdown",
   "metadata": {},
   "source": [
    "Now load the data from each of your previous measurements, and plot the transfer functions.\n",
    "\n",
    "The most obvious difference should be that the hammer results are shifted vertically relative to the noise results. This is because the two input signals need different calibration factors. The computer can calculate an appropriate scale factor which would allow the peaks in the noise results to be scaled to fit those from the hammer: adjust the display window so that it shows a frequency range around the biggest two or three peaks, then press 'Match Amplitude'. The scale factor is printed above the plot, and the factor is applied to the data (all datasets are scaled to match the dataset that was loaded first.\n",
    "\n",
    "Now compare the results from the three measurement methods (stepped sine, noise and impulse hammer), and scale the data as above. The three methods should now show good agreement at all the resonance peaks. You should see that there are one or more resonance peaks at low frequency in the admittance functions when measured using the hammer, but not when measured using the shaker. Can you explain why? Hint: notice that the shaker force is applied between the cantilevers and the base. Why is the hammer force different? What is the consequence?"
   ]
  },
  {
   "cell_type": "code",
   "execution_count": null,
   "metadata": {},
   "outputs": [],
   "source": [
    "viewer = dvma.InteractiveView()"
   ]
  },
  {
   "cell_type": "markdown",
   "metadata": {},
   "source": [
    "### Calibration\n",
    "\n",
    "The final stage of the measurement is to calibrate your transfer functions to give results in physical\n",
    "units. Move the accelerometer to the suspended mass behind the cantilevers. Use the hammer to\n",
    "measure a good transfer function of this mass, swinging in a straight line. Log several measurements. Newton’s law\n",
    "tells us that this transfer function should be very simple: the force should equal the mass times the\n",
    "acceleration, and the mass (weight plus accelerometer) is given on a label on the apparatus: approximately 0.3 kg."
   ]
  },
  {
   "cell_type": "code",
   "execution_count": null,
   "metadata": {},
   "outputs": [],
   "source": [
    "# acquisition setup\n",
    "settings = dvma.MySettings(channels=2,\n",
    "                           fs=3000,\n",
    "                           stored_time=6,\n",
    "                           pretrig_samples=100,\n",
    "                           device_driver = 'nidaq')\n",
    "logger3 = dvma.InteractiveLogging(settings,\n",
    "                                  test_name = 'calibration_' + str(settings.stored_time) + 's',\n",
    "                                  default_window=None)"
   ]
  },
  {
   "cell_type": "markdown",
   "metadata": {},
   "source": [
    "Your measured transfer function relates to velocity rather than acceleration,\n",
    "so it must be converted. In the frequency domain, all that is needed is to multiply each point of the transfer function by $i\\omega$, using the appropriate angular frequency. To do this:\n",
    "\n",
    "1. After logging the data, press 'Calc TF av'\n",
    "* Press 'multiply iw'\n",
    "\n",
    "The transfer function should now show a near-horizontal line over a range of frequencies. \n",
    "\n",
    "__Remember to save your data and figures to the teaching system__"
   ]
  },
  {
   "cell_type": "markdown",
   "metadata": {},
   "source": [
    "Make your best estimate of the value of this constant level: to convert the decibel value back to a linear value note that\n",
    "\n",
    "$$Y_\\text{dB} = 20 \\log_{10} \\left|Y_\\text{linear}\\right|$$\n",
    "\n",
    "Hence deduce the factor by which the measured transfer function must be multiplied in order to give a\n",
    "calibrated result. Verify that your procedure is correct by loading your data, applying the factor you deduced and plotting the results.\n",
    "\n",
    "Note that the calibration factor is defined here to be the factor by which the measured data should be multiplied in order to give the actual values."
   ]
  },
  {
   "cell_type": "code",
   "execution_count": null,
   "metadata": {},
   "outputs": [],
   "source": [
    "calibration_factor = ### enter or calculate your value here\n",
    "print(calibration_factor)"
   ]
  },
  {
   "cell_type": "code",
   "execution_count": null,
   "metadata": {},
   "outputs": [],
   "source": [
    "# load data\n",
    "data_calibration = dvma.load_data()"
   ]
  },
  {
   "cell_type": "code",
   "execution_count": null,
   "metadata": {},
   "outputs": [],
   "source": [
    "data_calibration.tf_data_list.set_calibration_factor(factor=calibration_factor)\n",
    "data_calibration.plot_tf_data()"
   ]
  },
  {
   "cell_type": "markdown",
   "metadata": {},
   "source": [
    "### Calibrated Comparison\n",
    "\n",
    "Now load, calibrate and compare your data from all three measurements as the culmination of this part of the experiment. What are the units of this calibrated admittance?\n",
    "\n",
    "1. Use 'Load Data' to load each of the datasets to be compared: __LOAD THE CALIBRATED HAMMER DATA FIRST.__\n",
    "* Use 'View TF' to see the transfer function data.\n",
    "* When all three transfer functions are shown, then zoom into a suitable frequency range where the data is reliable and press 'Match Amplitudes'. This finds and applies a calibration factor to match the amplitudes of the visible datasets to the amplitude of the first dataset: this is why you needed to load the calibrated hammer data first."
   ]
  },
  {
   "cell_type": "code",
   "execution_count": null,
   "metadata": {},
   "outputs": [],
   "source": [
    "viewer = dvma.InteractiveView()"
   ]
  },
  {
   "cell_type": "markdown",
   "metadata": {},
   "source": [
    "### Coupling\n",
    "\n",
    "Finally, the measurement of driving-point admittances can be used to learn something about the system behaviour. Using the hammer method, obtain admittances for the two cantilevers separately (by removing the coupling rod, removing the magnetic shaker attachment, and moving the accelerometer appropriately — you may need to practice your upside-down hammering technique!)\n",
    "\n",
    "Use the interactive logger below with the 'Calc TF average' function for each beam, changing the 'test_name' as appropriate in each case. Get the best result you can, using a few averages. Save each transfer function in a file.\n",
    "\n",
    "__Remember to save your data and figures to the teaching system__"
   ]
  },
  {
   "cell_type": "code",
   "execution_count": null,
   "metadata": {},
   "outputs": [],
   "source": [
    "settings = default_settings\n",
    "settings.stored_time = 6\n",
    "settings.pretrig_samples = 100\n",
    "logger4 = dvma.InteractiveLogging(settings, test_name = 'upper beam')"
   ]
  },
  {
   "cell_type": "markdown",
   "metadata": {},
   "source": [
    "Now you can use these measurements to predict the response of the coupled system: when the two cantilevers are coupled together, the motion at the coupling point must be the same, while the applied force is the sum of the forces applied to the two separate cantilevers. Thus the admittance of the coupled system is related to the admittances $Y_1(\\omega)$, $Y_2(\\omega)$ of the two separate systems by the formula:\n",
    "\n",
    "$$\\frac{1}{Y_\\text{coupled}} = \\frac{1}{Y_1(\\omega)} + \\frac{1}{Y_2(\\omega)}$$\n",
    "\n",
    "which will be familiar from, for example, parallel electrical resistances.\n",
    "\n",
    "To calculate the coupled admittance using these measurements, load the data then use the \"lab_3c6.coupled_TF\" function:"
   ]
  },
  {
   "cell_type": "code",
   "execution_count": null,
   "metadata": {},
   "outputs": [],
   "source": [
    "data_lower = dvma.load_data()"
   ]
  },
  {
   "cell_type": "code",
   "execution_count": null,
   "metadata": {},
   "outputs": [],
   "source": [
    "data_upper = dvma.load_data()"
   ]
  },
  {
   "cell_type": "code",
   "execution_count": null,
   "metadata": {},
   "outputs": [],
   "source": [
    "data_coupled = lab_3c6.coupled_TF(data_lower,data_upper)"
   ]
  },
  {
   "cell_type": "code",
   "execution_count": null,
   "metadata": {},
   "outputs": [],
   "source": [
    "data_coupled.save_data()"
   ]
  },
  {
   "cell_type": "markdown",
   "metadata": {},
   "source": [
    "Load the saved data using the interactive viewer. You can also compare the result with the earlier measurement of the actual coupled system, by loading in an earlier file. Comment on the accuracy of the result. Does this method give a reliable way to deduce the behaviour of coupled systems? If not, why not?"
   ]
  },
  {
   "cell_type": "code",
   "execution_count": null,
   "metadata": {},
   "outputs": [],
   "source": [
    "viewer = dvma.InteractiveView()"
   ]
  },
  {
   "cell_type": "markdown",
   "metadata": {},
   "source": [
    "## Write-up for laboratory report (3 hours)\n",
    "\n",
    "The write-up of this experiment as coursework for module 3C6 should be short. Download the template from the 3C6 moodle site (bit.ly/cued3c6). The text should occupy a maximum 3 A4 sides word processed, plus appropriate plots of experimental results. Your report should include representative results from all the stages of the experiment, including the final calibrated comparison of all measurement methods. It need only give a very brief description of the experimental procedure, but it should contain answers to the various questions asked in this sheet, and a critical discussion of the results which might take the form of short bullet points accompanying annotated plots of experimental results.\n",
    "\n",
    "When writing up, please concentrate on the following:\n",
    "\n",
    "* Use diagrams to illustrate your points and tables to summarise data.\n",
    "* Label the plots carefully and identify interesting features (frequency and amplitude of peaks, units of vertical axis, unexpected glitches, etc.). Your plots should not end up looking just like everyone else's.\n",
    "* Make sure you discuss the major features of the measured data (the main peaks, comparison between methods, validity of system-coupling theory).\n",
    "* There is no need to regurgitate chunks of Part I material. Refer to such material in passing while making particular observations on measured data.\n",
    "* This is primarily a vibration experiment. Concentrate on the 'vibration analysis' rather than the 'digital analysis'. The digital signal processing is a means to an end.\n",
    "\n",
    "The report should be submitted online using the 3C6 Moodle page as a PDF file, within the usual time allowed for lab hand-ins. You should then attend the next available feedback session for discussion and to collect your marked report — please allow at least 24 hours for report marking between hand-in and attending a feedback session. Feedback sessions last for 30 minutes, and will be held on certain Friday afternoons. The feedback dates and locations are on the sign-up web page. Attendance at the feedback session is very strongly advised — but if you can’t make the designated session and there is a later one available, you can attend that instead. If you intend to submit an FTR on this experiment, you are strongly advised to do the experiment early enough in the term that you can attend a feedback session well before the FTR hand-in deadline."
   ]
  },
  {
   "cell_type": "markdown",
   "metadata": {},
   "source": [
    "## Write-up for Full Technical Report (10 additional hours)\n",
    "\n",
    "Guidance on the preparation of Full Technical Reports is provided both in Appendix I of the General Instructions document and in the CUED booklet A guide to report writing, with which you were issued in the first year. The experimental plots from your Laboratory Report should be included. The written material from your Laboratory Report will be superseded by this fuller account, perhaps corrected in the light of information from the feedback session. Remember that this report will be assessed both on technical content and on quality of presentation.\n",
    "\n",
    "The following additional questions should be discussed in your Full Technical Report:\n",
    "\n",
    "1. Does the form of the transfer functions you have measured agree with what you expect based on the lecture notes for the module?\n",
    "* What governs the shape of the force pulse from the hammer? How does this then determine the bandwidth of the frequency spectrum of the force? *Hint: look in the Information Data Book.* Why does the hammer have a rubber tip?\n",
    "* How well do the measured and “predicted” admittances of the coupled cantilevers agree? Are the predicted frequencies the same? Are there other discrepancies? How do these discrepancies arise? How could the measurement procedure be improved to reduce discrepancies?\n",
    "* What are the main advantages and drawbacks of the three approaches to forcing (sinusoidal, random and impulsive)? For each of the three, suggest a type of application for which it might be the best. Think about size, power, method of attachment, test speed, frequency range, signal-to-noise ratio .... Do not fall into the trap of thinking that the “best” test method is the one which has an input force “most similar” to the type of forcing in the real application — remember that provided linear theory is applicable, any type of input force should theoretically give the same transfer function.\n",
    "* What do your measurements tell you about the damping of the cantilever system? *Hint: refer to your Mechanics Data Book.* Why might you expect more damping in the coupled system?\n",
    "\n",
    "The report should be submitted online using the 3C6 Moodle page as a PDF file."
   ]
  },
  {
   "cell_type": "code",
   "execution_count": null,
   "metadata": {},
   "outputs": [],
   "source": []
  }
 ],
 "metadata": {
  "kernelspec": {
   "display_name": "Python 3",
   "language": "python",
   "name": "python3"
  },
  "language_info": {
   "codemirror_mode": {
    "name": "ipython",
    "version": 3
   },
   "file_extension": ".py",
   "mimetype": "text/x-python",
   "name": "python",
   "nbconvert_exporter": "python",
   "pygments_lexer": "ipython3",
   "version": "3.6.7"
  }
 },
 "nbformat": 4,
 "nbformat_minor": 2
}
