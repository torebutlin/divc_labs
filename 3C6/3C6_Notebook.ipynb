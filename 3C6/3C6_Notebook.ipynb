{
 "cells": [
  {
   "cell_type": "markdown",
   "metadata": {},
   "source": [
    "<hr style=\"height:2px;border:none\" />\n",
    "<h1><center> Engineering Tripos Part IIA Module Experiment: 3C6 </center></h1> \n",
    "<h1><center> Digital Vibration Analysis, South Wing Mechanics Laboratory </center></h1>\n",
    "<hr style=\"height:2px;border:none\" />\n",
    "\n",
    "## 1. Objectives\n",
    "\n",
    "-  To investigate alternative methods of determining calibrated frequency response transfer functions of a mechanical vibrating system, using a digital measuring system;\n",
    "-   To predict the response of a system from measured responses of its decoupled subsystems, and to compare with the measured response of the coupled system.\n",
    "\n",
    "## 2. Introduction\n",
    "\n",
    "Problems involving vibration occur in every area of mechanical engineering, such as wave loading of offshore platforms, cabin noise in aircraft, performance of machine tools, and design of loudspeakers. To tackle such problems, one generally needs a combination of theoretical modelling and measurement. Theoretical modelling may take the form of simple analytical calculations, but is more likely to involve computer packages (for example to perform finite-element calculations).\n",
    "\n",
    "Most vibration measurements also involve computers. A force of some kind is applied to the structure, and signals corresponding to this driving force and the response of the structure are sampled at regular intervals using an analogue-to-digital converter, so that they are represented in the computer by vectors of discrete values. This operation is usually described as “data-logging”. These sampled signals can then be processed to yield frequency response functions, vibration resonance frequencies, damping factors, mode shapes, and other more complicated quantities such as fatigue life predictions. The fundamental building block in any such analysis is the transfer function between a force applied at one point on the structure and the response (displacement, velocity or acceleration) at another point. The main approaches to the determination of vibration transfer functions are illustrated in this experiment.\n",
    "\n",
    "_Note on jargon: a confusing array of different names is used to describe such transfer functions. We will use “(mechanical) admittance”, based on an analogy between mechanical and electrical systems. This is defined to be the ratio of velocity response to force, at a given frequency. Velocity is the natural response variable for many purposes, because it is the “energy conjugate” of force: force times velocity at the driven point gives the rate of doing work, just as does voltage times current. Another common name for admittance is “mobility”._\n",
    "\n",
    "## 3. Apparatus\n",
    "\n",
    "__DO THIS FIRST: Turn on the PC and log in using your usual Teaching System ID and password. It can take a while for the windows profile to load.__\n",
    "\n",
    "The apparatus comprises a mechanical vibrating system, actuators to apply controlled forces to it, a sensor to measure the response, a data-logging computer with analysis software, and some miscellaneous electronic instrumentation. The vibrating system consists of two flexible cantilever beams, fixed to a heavy base. The base rests on soft rubber feet, to minimise the pick-up of background vibration transmitted through the floor and bench. An electromagnetic shaker (moving-coil actuator, constructed like a normal loudspeaker) can be coupled to the lower beam using a magnetic attachment. The two beams may be coupled together by wedging a small brass rod between the two beams. There is enough contact pressure to ensure that the beams remain in good contact for the purposes of vibration transmission.\n",
    "\n",
    "Force can also be applied to the structure impulsively, using an instrumented hammer. This has a piezoelectric force transducer built into it, so that the precise waveform of force can be determined. The signal from this transducer is buffered by a suitable charge amplifier. The hammer has a soft tip which has the effect of limiting the frequency content of the impulse to a maximum of about 800Hz. The charge amplifiers used in this experiment have a low-frequency cutoff of 8 Hz. This makes vibration measurement easier by rapidly removing any DC drift or offset.\n",
    "\n",
    "Vibration response is measured using an accelerometer mounted on a magnetic base. It can be placed on the top or bottom beam as required. The signal from the accelerometer passes through a charge amplifier, and is then integrated by analogue circuitry to produce an output proportional to velocity at the measurement point. In this experiment the accelerometer should always be placed as near as possible to the point on the structure at which the driving force is applied — this is achieved by placing it on the opposite side to the force-application point, in line with it. In this way, all your measurements will be of driving-point admittance.\n",
    "\n",
    "Signals corresponding to the force and the velocity response go to the PC, which is used to perform data logging and analysis via a Python package, which this notebook uses. The person who logs in will hold all saved files. Make sure your file quota is not near its limit before you begin! __If the power is not on at the benches, turn on the switches on the pillar at the north end of the bench, labelled “computers” and “bench sockets”.__ You may need to plug in the two BNC cables carrying your input and output signals to the diecast box at the rear of the computer trolley. Your cables are labelled “3C6 CH1” and “3C6 CH2”, to be plugged into the corresponding channels.\n",
    "\n",
    "Magnets are not really the best way to attach accelerometers to a structure. As in this experiment they can be very convenient, but they have two major disadvantages. Firstly, the contact force is quite small (compared with a bolted or glued connection) and this causes problems if the acceleration levels are high. The second problem is that heavy magnets should not be used on light structures since the added mass will seriously modify the vibration characteristics of the structure, at the very least by lowering natural frequencies. You will observe this effect in this experiment and you should comment on it.\n",
    "\n",
    "\n",
    "__When using the magnets make sure they are well seated. If they are not, you will hear buzzing or rattling. Remove the magnet and wipe both surfaces with your finger to remove any grit. Moving the magnet slightly is often all that is needed to get rid of the buzz. If the buzz persists, try using a lower vibration level.__\n",
    "\n",
    "<hr style=\"height:2px;border:none\" />\n",
    "\n",
    "## 4. Experimental procedure\n",
    "\n",
    "\n",
    "### 4.1 Sine wave measurements (30 minutes)\n",
    "\n",
    "<hr style=\"height:2px;border:none\" />\n",
    "\n",
    "__If the computer is not already on, switch it on, then log in using your usual Teaching System ID and password.__\n",
    "\n",
    "For the first part of the experiment you will explore the frequency response of the cantilever system using a sine-wave generator, much as you did in the Part IA vibration experiment. The computer will be used only to collect the results and plot them. Attach the shaker to the bottom beam using the magnetic connector and insert the brass coupling rod between the two beams if it is not already there. Attach the accelerometer to the top beam directly above the coupling rod. Set the selector switch to “Sine”.\n",
    "\n",
    "Start by double-clicking on the 'Start 3C6.bat' file on the desktop. This copies across a fresh copy of this notebook to the folder 'lab_3C6' in your teaching system filespace, then it opens Jupyter Notebooks starting in this folder. You will likely see some error messages in the command prompt: these are normal and are just part of the system looking in different directories for your teaching system username. If you need to (e.g. if you accidentally deleted part of this notebook), then you can get a fresh copy by running 'Start_3C6.bat' again.\n",
    "\n",
    "Click '3C6_Notebook.ipynb' to open.\n",
    "\n",
    "Start by importing the necessary modules (pydvma is a python package written for data acquisition at CUED).\n",
    "\n",
    "Remember:\n",
    "\n",
    "* to actually run a cell of code, click inside the cell then press 'shift+enter'\n",
    "* the cell is running while [ * ] is displayed\n",
    "* the cell has finished running when it changes to a number\n",
    "* under the 'view' menu above you can toggle off the header and toolbar, which is useful to give a bit more screen space\n",
    "* you can control the cell output view by clicking on the left beside the cell: single click to expand/compress, double-click to hide.\n",
    "\n",
    "***"
   ]
  },
  {
   "cell_type": "code",
   "execution_count": null,
   "metadata": {},
   "outputs": [],
   "source": [
    "%gui qt"
   ]
  },
  {
   "cell_type": "markdown",
   "metadata": {},
   "source": [
    "Wait a second before running the imports: it takes a moment for the previous command to take effect behind the scenes. If you get an error, just try it again."
   ]
  },
  {
   "cell_type": "code",
   "execution_count": null,
   "metadata": {},
   "outputs": [],
   "source": [
    "import matplotlib\n",
    "import numpy as np\n",
    "import lab_3c6\n",
    "import pydvma as dvma"
   ]
  },
  {
   "cell_type": "code",
   "execution_count": null,
   "metadata": {},
   "outputs": [],
   "source": [
    "matplotlib.use('nbagg')"
   ]
  },
  {
   "cell_type": "markdown",
   "metadata": {},
   "source": [
    "Choose your acquisition settings. The settings for this part of the 3C6 lab are:\n",
    "\n",
    "* channels=2 (number of channels to record)\n",
    "* fs=3000 (sampling rate in Hz)\n",
    "* viewed_time=1 (time in seconds to view data for in oscilloscope)\n",
    "* device_driver = 'nidaq'"
   ]
  },
  {
   "cell_type": "code",
   "execution_count": null,
   "metadata": {},
   "outputs": [],
   "source": [
    "# acquisition setup\n",
    "settings = dvma.MySettings(channels=2,\n",
    "                           fs=3000,\n",
    "                           viewed_time=1,\n",
    "                           device_driver = 'nidaq')"
   ]
  },
  {
   "cell_type": "markdown",
   "metadata": {},
   "source": [
    "Now open a PC oscilloscope using your settings. This shows three plots:\n",
    "\n",
    "* the top one is like a normal oscilloscope showing the signal (toggle on/off with 'T');\n",
    "* the middle one shows the frequency spectrum of the signal (toggle on/off with 'F');\n",
    "* the bottom one shows the signal amplitudes (toggle on/off with 'L');\n",
    "* you can pause the data shown by pressing 'P' (press again to continue streaming data);\n",
    "* you can toggle whether the window is always on top by pressing 'A'\n",
    "\n",
    "Tap the top beam gently with a finger. Check that you can see a response in the oscilloscope: the top plot shows the time data, the middle shows the FFT, and the bottom shows the levels. If you get no data at all, check that you've plugged the cables into the computer and that everything is switched on.\n",
    "\n",
    "Once you have checked that the logger is picking up signals, close the oscilloscope or move and rescale the window to a corner of the screen so you can carry on working in this notebook."
   ]
  },
  {
   "cell_type": "code",
   "execution_count": null,
   "metadata": {},
   "outputs": [],
   "source": [
    "# open oscilloscope\n",
    "osc = dvma.Oscilloscope(settings)"
   ]
  },
  {
   "cell_type": "markdown",
   "metadata": {},
   "source": [
    "In this part of the lab we want to measure the gain and phase shift from input to output at the specific frequencies of the generator. To do this we will use a simple interface embedded in the notebook.\n",
    "\n",
    "1. Start the stepped-sine logging widget by running the code in the next cell\n",
    "* Use the sine-wave generator to explore the system response in the frequency range 0–500 Hz. \n",
    "* For each frequency tested, watch the oscilloscope display to be sure that the vibration has settled to a steady state, then click the “Measure” button on the computer. \n",
    "* The input and output signals will be sampled, and a dot will be plotted on the screen showing the corresponding value of the admittance function. As is usual in vibration measurements, the results are plotted with a logarithmic vertical scale, in decibels (dB). Actually the admittance function is complex (or equivalently each value has a phase shift associated with it), and what is plotted here is the magnitude of the admittance.\n",
    "\n",
    "You can explore up and down in frequency at will, until you have dotted out a reasonable picture of the admittance (you should find at least four resonance peaks). Unwanted data points can be deleted using the “Delete Last Measurement” button. Be particularly careful to catch the peak values, where the system has resonances. When you have gathered sufficient data points, click on the \"Save Data\" and \"Save Fig\" buttons: you will be prompted for a file name. You need to save your data as well as the figure so you can read it back again later.\n",
    "\n",
    "__Any files you save during this experiment should be put in your own file space on the central computer network: this space is mounted as the Drive Y when you logged in to the Teaching System (it should be where this notebook has already been copied to and is the default location for all saved data). Do not put files on the local disk of the PC you are using.__\n",
    "\n"
   ]
  },
  {
   "cell_type": "code",
   "execution_count": null,
   "metadata": {},
   "outputs": [],
   "source": [
    "# log data\n",
    "logger1 = lab_3c6.measure_stepped_sine(settings)"
   ]
  },
  {
   "cell_type": "markdown",
   "metadata": {},
   "source": [
    "__Make sure you remembered to save both the data and the figure!__\n",
    "\n",
    "__CHECK: Have you saved the data (you should have a \\*.npy file)__\n",
    "\n",
    "__CHECK: Have you used saved the figure (you should have both a \\*.pdf and \\*.png file - the 'Save Fig' button saves both at once)__\n",
    "\n",
    "You will need the data later: to check that you have saved it, you can reload and replot it. Note that the individual points are now plotted as a continuous line. There's no need to save the figure below as well, having saved it above. "
   ]
  },
  {
   "cell_type": "code",
   "execution_count": null,
   "metadata": {},
   "outputs": [],
   "source": [
    "data_stepped_sine = dvma.load_data()\n",
    "data_stepped_sine.plot_tf_data()"
   ]
  },
  {
   "cell_type": "markdown",
   "metadata": {},
   "source": [
    "<hr style=\"height:2px;border:none\" />\n",
    "\n",
    "### 4.2 Random noise excitation (30 minutes)\n",
    "\n",
    "<hr style=\"height:2px;border:none\" />\n",
    "\n",
    "The sine-wave method of obtaining the admittance, as you will now know, is laborious and not particularly accurate unless considerable care is taken. An improvement is to employ a forcing signal which contains the whole range of frequencies simultaneously, and to use Fourier analysis to sort out both the input and output signals into frequency components, and thus to obtain the transfer function. One kind of forcing signal which has a broad range of frequency components is random noise. Switch to “Noise” on the selector, and you will hear the sound of the cantilever system responding to such a signal, generated by an analogue noise generator."
   ]
  },
  {
   "cell_type": "markdown",
   "metadata": {},
   "source": [
    "You can bring up the oscilloscope at any time using:"
   ]
  },
  {
   "cell_type": "code",
   "execution_count": null,
   "metadata": {},
   "outputs": [],
   "source": [
    "osc = dvma.Oscilloscope(settings)"
   ]
  },
  {
   "cell_type": "markdown",
   "metadata": {},
   "source": [
    "The oscilloscope is useful for checking signal levels and that the input / output is giving the kinds of signals expected.\n",
    "\n",
    "The actual data acquisition used for the rest of the lab will use a logger interface that is more general than the embedded widget above. Open the logger window by running the next cell (shift+enter).\n",
    "\n",
    "Familiarise yourself with the logger window:\n",
    "- the centre panel contains the figure - note the zooming / panning tools under the figure.\n",
    "- when data is shown, you can click on the legend lines to select which channels are shown.\n",
    "- when using the box-zoom tool (from under the figure), then left-click-drag will zoom to the rectangle, and right-click-drag will zoom out.\n",
    "- the left panel controls what is plotted (you can select which plot to show using the top dropdown).\n",
    "- use the 'auto x' and 'auto y' buttons to automatically adjust the x and y axes to fit the selected data ('auto y' changes the y-limits to fit the selected data, 'auto x' changes the x-limits to the whole data range).\n",
    "- the right panel provides data analysis tools (you can select which tools are displayed using the top dropdown).\n",
    "- the centre top panel is for basic data management (logging / loading / deleting).\n",
    "- the centre bottom panel is to save data or figures."
   ]
  },
  {
   "cell_type": "code",
   "execution_count": null,
   "metadata": {
    "scrolled": false
   },
   "outputs": [],
   "source": [
    "# acquisition setup\n",
    "settings = dvma.MySettings(channels=2,\n",
    "                           fs=3000,\n",
    "                           stored_time=2,\n",
    "                           device_driver = 'nidaq')\n",
    "logger2 = dvma.Logger(settings,\n",
    "                      test_name = 'noise_input_' + str(settings.stored_time) + 's',\n",
    "                      default_window='hann')"
   ]
  },
  {
   "cell_type": "markdown",
   "metadata": {},
   "source": [
    "We will explore the effect of some different logging options, starting with 'stored_time=2' seconds. Open the logger interface:\n",
    "\n",
    "1. Press __'Log Data' (top-middle panel)__ to log data using the specified settings\n",
    "* You should have a single measurement, shown as two lines in the figure.\n",
    "* If you have made more measurements then use 'Delete All' (top-middle panel) and carry out a single measurement.\n",
    "* Press __'Save Figure' (bottom-middle panel)__ to save the time data plot as a \\*.png and \\*.pdf file\n",
    "* Press __'Calc FFT' (right panel)__ to calculate the FFT using the window function specified beneath it: the default 'hann' is appropriate here\n",
    "* Press __'Save Figure' (bottom-middle panel)__ to save the plot\n",
    "* Press __'Calc TF' (right panel)__ to calculate the Transfer Function: the defaults window='hann' and average='None' are appropriate here. We will use the averaging option later.\n",
    "* Press __'Save Figure'__ to save the plot. It will save a \\*.png and \\*.pdf of the figure as seen on the screen:\n",
    "    * You can adjust the x-y scales using the box zoom (under the plot) and the axis tools (left panel)\n",
    "    * You can choose the legend location (left panel)\n",
    "    * You can toggle which lines are displayed by clicking on the lines inside the legend (when 'off' they will be still visible as transparent lines, and you can choose which line is on 'top' by deselecting and reselecting it)\n",
    "    \n",
    "    \n",
    "* Press __'Save Dataset'__ to save all the data (it will save the data that has been calculated so far, so press it after you have calculated the FFT and Transfer Functions)\n",
    "\n",
    "__Next repeat the steps above, but logging for 30 seconds instead. You will need to change the settings line to 'stored_time=30' and re-run the logger.__"
   ]
  },
  {
   "cell_type": "markdown",
   "metadata": {},
   "source": [
    "__CHECK 1: Did you remember to re-run the test using stored_time=30 seconds?__\n",
    "\n",
    "__CHECK 2: Did you remember to save your data *after* calculating the transfer function?__\n",
    "\n",
    "__CHECK 3: Did you remember to save the figures that you want to keep for the report?__ \n",
    "\n",
    "__Remember to save your data as well as all figures to the teaching system__"
   ]
  },
  {
   "cell_type": "markdown",
   "metadata": {},
   "source": [
    "<div class=\"alert alert-block alert-info\">\n",
    "    \n",
    "<b> Understanding the logger: </b><br/>\n",
    "\n",
    "When you press 'Save Dataset', the logger saves a &lt;DataSet&gt; object which has the following structure:\n",
    "\n",
    "<pre><code>\n",
    "    &lt;DataSet> class:\n",
    "          time_data_list: [&lt;TimeData>, &lt;TimeData>, &lt;TimeData>]\n",
    "          freq_data_list: [&lt;FreqData>, &lt;FreqData>, &lt;FreqData>]\n",
    "    cross_spec_data_list: []\n",
    "            tf_data_list: [&lt;TfData>, &lt;TfData>, &lt;TfData>]\n",
    "         modal_data_list: []\n",
    "          sono_data_list: []\n",
    "          meta_data_list: []\n",
    "          \n",
    "</code></pre>\n",
    "\n",
    "    \n",
    "Each type of data is arranged in 'sets', e.g. each measurement will add another &lt;TimeData&gt; set to time_data_list. This example has three sets of each data type. Similarly each time you load data it will add the loaded sets to the appropriate data list.<br/><br/>\n",
    "\n",
    "<li> When you press 'Calc FFT' then a &lt;FreqData&gt; item is calculated for each &lt;TimeData&gt; set.</li>\n",
    "<li> When you press 'Calc TF' then a &lt;TfData&gt; item is calculated for each &lt;TimeData&gt; set.</li>\n",
    "<li> When you press 'Calc TF' with average='across sets' then a single &lt;TfData&gt; item is calculated averaging across all &lt;TimeData&gt; items, with an assumption that the time data sets all have the same settings.</li>\n",
    "</div>"
   ]
  },
  {
   "cell_type": "markdown",
   "metadata": {},
   "source": [
    "We can compare the transfer functions from the two measurements as follows:\n",
    "1. Keep your 30 second noise test data (don't delete it)\n",
    "* Press 'Load Data' (top-middle panel) and open your data from the 2 second noise test\n",
    "* Select 'TF Data' from the 'Figure selection' dropdown (left panel) to compare the datasets from the two measurements\n",
    "\n",
    "Note that pressing 'Calc TF' (right panel) will also work here as the settings used to calculate both transfer functions are the same. *BUT later you will want to compare transfer functions computed using different settings, in which case you will need to load the data separately and use the 'Figure selection' dropdown.*\n",
    "\n",
    "__Remember to save your comparison data and figures to the teaching system__"
   ]
  },
  {
   "cell_type": "markdown",
   "metadata": {},
   "source": [
    "__If you accidentally close the logger window, you can re-open it using:__"
   ]
  },
  {
   "cell_type": "code",
   "execution_count": null,
   "metadata": {},
   "outputs": [],
   "source": [
    "logger2.show()"
   ]
  },
  {
   "cell_type": "markdown",
   "metadata": {},
   "source": [
    "To smooth out the transfer functions we can average the data: recall that the transfer function is given by:\n",
    "\n",
    "$$G(\\omega) = \\frac{E[YX^*]}{E[XX^*]}$$\n",
    "\n",
    "where $X$ and $Y$ are the FFTs of the input and output respectively, and $E[\\cdot]$ denotes the expectation (or average). If we take the whole time series then no averages are taken. But we can split the time data into sections (or 'frames'), calculate the FFT of each frame, then take the averages of those.\n",
    "\n",
    "1. Press 'Load Data' and find the 30 second noise data file\n",
    "* Under 'Calc TF' select window='hann' and average='within each set'\n",
    "* Use the 'N_frames' slider to investigate the effect of averaging with different numbers of frames (you can also use the text box)\n",
    "* Save plots for the cases N=1, N=30 and your choice of N that gives the 'best' transfer function estimate\n",
    "* Be careful to watch the coherence near the peaks as N increases.\n",
    "\n",
    "Note that you can use the matplotlib viewing tools underneath the plot (e.g. box zoom), or for more careful control you can use the axes controls in the left panel. Note that the coherence axis is labelled on the right-y-axis and is controlled by 'co. min' and 'co. max' in the left panel, separately to the transfer function y-axis scale."
   ]
  },
  {
   "cell_type": "markdown",
   "metadata": {},
   "source": [
    "__If you accidentally close the logger window, you can re-open it using:__"
   ]
  },
  {
   "cell_type": "code",
   "execution_count": null,
   "metadata": {},
   "outputs": [],
   "source": [
    "logger2.show()"
   ]
  },
  {
   "cell_type": "markdown",
   "metadata": {},
   "source": [
    "__CHECK 1: Did you remember to save your data *after* calculating the transfer function *using your best choice of N_frames*?__\n",
    "\n",
    "__CHECK 2: Did you remember to save the figures that you want to keep for the report?__ \n",
    "\n",
    "__Remember to save your data as well as all figures to the teaching system__"
   ]
  },
  {
   "cell_type": "markdown",
   "metadata": {},
   "source": [
    "<hr style=\"height:2px;border:none\" />\n",
    "\n",
    "### 4.3 Impulsive excitation (20 minutes)\n",
    "\n",
    "<hr style=\"height:2px;border:none\" />\n",
    "\n",
    "There is an entirely different kind of forcing signal which contains a broad range of frequencies. This arises if you excite the structure impulsively with a short pulse. This could be done using the shaker, but it is more naturally done using a hammer. Remove the magnet and rod which attaches the shaker to the beams, then move the accelerometer to the underneath of the beams to the position where this coupling was previously attached. Switch the selector to “Hammer”. \n",
    "\n",
    "Using a logger window with new settings (next cell below), you can now capture the response of the system to a gentle tap with the instrumented hammer: tap on the top of the beams vertically above the accelerometer. Provided you tap within 20 seconds of pressing 'Log Data', the computer will detect the moment when your input signal (the hammer force) exceeds a threshold value, and it will automatically save the signal starting just before this moment, by the 100 samples specified by the 'pretrig_samples' variable.\n",
    "\n",
    "__Data will be collected by the computer for 6 s: hold the hammer still until it is finished, and don’t put it down on the bench.__\n",
    "\n",
    "__Check your hammer impulse in the time-domain display window. Is it clipped? Was there a single, clean impact or multiple impacts? Be prepared to practice your tapping technique until you get good results. Don't proceed until you've got a single clean impulse. Was there any vibration before the impulse? Make sure the beams were not still vibrating from a previous impulse. Did you hear any rattling or buzzing sounds? Try a lighter tap.__"
   ]
  },
  {
   "cell_type": "markdown",
   "metadata": {},
   "source": [
    "The data logger converts voltages in the range $\\pm 5$ V into discrete levels with 16-bit accuracy and normalises the $2^{16}$ bit integer to be in the range $-1<y<1$. If the sampled data are much less than about 0.1 (corresponding to 0.5 Volts), then some useful dynamic range has been wasted. But if the signal reaches 1 (5 Volts) then the signal has been clipped. This will produce nonlinearity in the frequency response. The program will warn you if either signal is clipped: repeat the measurement if so.\n",
    "\n",
    "Before looking at the transfer function, it is always prudent to examine the time signals of both input and output, and you should do this. If you zoom in on the time signals, you will see the individual samples. Examine the hammer pulse in detail: find out how long it is, and comment in your write-up on what governs this length, and what influence it might have on the transfer function. Examine the signals, both input and output, before the hammer strike. They are probably slightly non-zero: are there different reasons for the input and the output?\n",
    "\n",
    "Next, calculate frequency spectra using 'Calc FFT' (check that window is set to 'None'), and look at the spectra of input and output signals. What governs the form of the input spectrum? What force spectrum would you expect from an ideal impulse? Why does the spectrum tail off at high frequencies? Why does it tail off at low frequencies? Why should no window function be used for this test?\n",
    "\n",
    "Obtain a transfer function to compare with those obtained by the earlier methods. You should find that the result is satisfactory, with sharp clear peaks and troughs, without any need for averaging. If it is not, try again. You may have to develop your hammering technique a little to obtain best results. If you find it hard to get a clean transfer function then try moving the magnet, and checking that the brass coupling rod between the beams is well seated. It takes very little time to repeat the impulse response procedure. __You will find the write-up much easier with good data.__\n",
    "\n",
    "__Remember to save your data (after calculating the FFT and transfer function) and figures to the teaching system__\n",
    "\n",
    "__CHECK 1: Did you remember to save your data *after* calculating the transfer function?__\n",
    "\n",
    "__CHECK 2: Did you remember to save the figures that you want to keep for the report?__ "
   ]
  },
  {
   "cell_type": "code",
   "execution_count": null,
   "metadata": {},
   "outputs": [],
   "source": [
    "# acquisition setup\n",
    "settings = dvma.MySettings(channels=2,\n",
    "                           fs=3000,\n",
    "                           stored_time=6,\n",
    "                           pretrig_samples=100,\n",
    "                           device_driver = 'nidaq')\n",
    "logger3 = dvma.Logger(settings, \n",
    "                      test_name = 'hammer_input_' + str(settings.stored_time) + 's',\n",
    "                      default_window=None)"
   ]
  },
  {
   "cell_type": "markdown",
   "metadata": {},
   "source": [
    "Try measuring an averaged transfer function using the hammer: this time you will do this by averaging across each measurement, rather than dividing a single long measurement into frames. \n",
    "\n",
    "1. Press 'Log Data'\n",
    "* Tap the structure with the hammer (a message will appear above the logger to confirm when it was detected)\n",
    "* Repeat (press 'Log Data' and tap the structure) to obtain several measurements\n",
    "* Under 'Calc TF' select average='across sets', then press 'Calc TF' to obtain the transfer function averaged across these measurements\n",
    "\n",
    "You should find that just two or three hammer taps are sufficient to produce excellent coherence in the frequency range up to 500 Hz.\n",
    "\n",
    "__Be careful:__\n",
    "* tap in the same location and direction for each measurement, otherwise the measurements won't be consistent and averaging can lead to artefacts.\n",
    "* make sure each measurement input is a single clean impulse: multiple impacts can make the spectrum appear different."
   ]
  },
  {
   "cell_type": "markdown",
   "metadata": {},
   "source": [
    "__Remember to save your data (after calculating the FFT and transfer function) and figures to the teaching system__\n",
    "\n",
    "__CHECK 1: Did you remember to save your data *after* calculating the transfer function?__\n",
    "\n",
    "__CHECK 2: Did you remember to save the figures that you want to keep for the report?__ "
   ]
  },
  {
   "cell_type": "markdown",
   "metadata": {},
   "source": [
    "Now load the data from each of your previous measurements, and plot the transfer functions.\n",
    "\n",
    "* __DO:__ use 'Delete All' to clear existing data\n",
    "\n",
    "* __DO:__ use 'Load Data' to load your chosen datasets\n",
    "\n",
    "* __DO:__ load your hammer data first: for reasons that become clear later\n",
    "\n",
    "* __DO:__ use the 'Plot selection' dropdown to choose 'TF Data' for comparisons\n",
    "\n",
    "* __DON'T:__ press 'Calc TF' otherwise the transfer functions will all be recalculated using the same settings. You don't want this: you want to compare your transfer functions that have each been calculated using the right choices of windows and averaging.\n",
    "\n",
    "__If you accidentally close the logger window, you can re-open it using:__"
   ]
  },
  {
   "cell_type": "code",
   "execution_count": null,
   "metadata": {},
   "outputs": [],
   "source": [
    "logger3.show()"
   ]
  },
  {
   "cell_type": "markdown",
   "metadata": {},
   "source": [
    "The most obvious difference should be that the hammer results are shifted vertically relative to the noise results. This is because the two input signals need different calibration factors. The computer can calculate an appropriate scale factor which would allow the peaks in the noise results to be scaled to fit those from the hammer: adjust the display window so that it shows a frequency range around the biggest two or three peaks, then press 'Best Match (to ref)'. The scale factor is printed above the plot, and the factor is applied to the data. All datasets are scaled to match the dataset that was loaded first, which is why you should load this first. If you didn't then you can use the 'Ref set / chan' options and specify which 'set' corresponds to the reference hammer data (look at the legend labels to see the set numbers).\n",
    "\n",
    "Now compare the results from the three measurement methods (stepped sine, noise and impulse hammer), and scale the data as above. The three methods should now show good agreement at all the resonance peaks. You should see that there are one or more resonance peaks at low frequency in the admittance functions when measured using the hammer, but not when measured using the shaker. Can you explain why? Hint: notice that the shaker force is applied between the cantilevers and the base. Why is the hammer force different? What is the consequence?"
   ]
  },
  {
   "cell_type": "markdown",
   "metadata": {},
   "source": [
    "<hr style=\"height:2px;border:none\" />\n",
    "\n",
    "### 4.4 Calibration (20 minutes)\n",
    "\n",
    "<hr style=\"height:2px;border:none\" />\n",
    "\n",
    "The final stage of the measurement is to calibrate your transfer functions to give results in physical units. Move the accelerometer to the suspended mass behind the cantilevers. \n",
    "\n",
    "Start a new logger with the settings below then use the hammer to measure a good transfer function of this mass, swinging in a straight line. Log several measurements. Newton’s law tells us that this transfer function should be very simple: the force should equal the mass times the acceleration, and the mass (weight plus accelerometer) is given on a label on the apparatus: approximately 0.3 kg.\n",
    "\n",
    "Your measured transfer function relates force to velocity rather than acceleration, so it must be converted. In the frequency domain, all that is needed is to multiply each point of the transfer function by $i\\omega$, using the appropriate angular frequency. To do this:\n",
    "\n",
    "1. After logging the data, press 'Calc TF' with window=None and average='across sets'\n",
    "* Press 'x (iw)', i.e. multiplication by $i\\omega$\n",
    "\n",
    "The transfer function should now show a near-horizontal line over a range of frequencies. \n",
    "\n",
    "Make your best estimate of the value of this constant level: to convert the decibel value back to a linear value note that\n",
    "\n",
    "$$Y_\\text{dB} = 20 \\log_{10} \\left|Y_\\text{linear}\\right|$$\n",
    "\n",
    "Hence deduce the factor by which the measured transfer function must be multiplied in order to give a\n",
    "calibrated result. \n",
    "\n",
    "* __The calibration factor is defined here to be the factor by which the measured data should be multiplied in order to give the actual values.__\n",
    "\n",
    "* __The calibration factor is not the value of the horizontal line: you need to compare this value with what you expect for the transfer function of a free mass.__"
   ]
  },
  {
   "cell_type": "code",
   "execution_count": null,
   "metadata": {},
   "outputs": [],
   "source": [
    "# acquisition setup\n",
    "settings = dvma.MySettings(channels=2,\n",
    "                           fs=3000,\n",
    "                           stored_time=6,\n",
    "                           pretrig_samples=100,\n",
    "                           device_driver = 'nidaq')\n",
    "logger4 = dvma.InteractiveLogging(settings,\n",
    "                                  test_name = 'calibration_' + str(settings.stored_time) + 's',\n",
    "                                  default_window=None)"
   ]
  },
  {
   "cell_type": "markdown",
   "metadata": {},
   "source": [
    "\n",
    "\n",
    "__Remember to save your data and figures to the teaching system__\n",
    "\n"
   ]
  },
  {
   "cell_type": "markdown",
   "metadata": {},
   "source": [
    "Verify that your procedure is correct by loading your data, applying the factor you deduced and plotting the results:"
   ]
  },
  {
   "cell_type": "code",
   "execution_count": null,
   "metadata": {},
   "outputs": [],
   "source": [
    "calibration_factor = ### enter or calculate your value here\n",
    "print(calibration_factor)"
   ]
  },
  {
   "cell_type": "code",
   "execution_count": null,
   "metadata": {},
   "outputs": [],
   "source": [
    "# load data\n",
    "data_calibration = dvma.load_data()"
   ]
  },
  {
   "cell_type": "code",
   "execution_count": null,
   "metadata": {},
   "outputs": [],
   "source": [
    "data_calibration.tf_data_list.set_calibration_factor(factor=calibration_factor)\n",
    "p = data_calibration.plot_tf_data()"
   ]
  },
  {
   "cell_type": "code",
   "execution_count": null,
   "metadata": {},
   "outputs": [],
   "source": [
    "dvma.save_fig(p)"
   ]
  },
  {
   "cell_type": "markdown",
   "metadata": {},
   "source": [
    "Now apply your calibration factor to your measured transfer function from the impulsive excitation test and resave your calibrated data using a different filename:"
   ]
  },
  {
   "cell_type": "code",
   "execution_count": null,
   "metadata": {},
   "outputs": [],
   "source": [
    "# load data\n",
    "data_hammer = dvma.load_data()"
   ]
  },
  {
   "cell_type": "code",
   "execution_count": null,
   "metadata": {},
   "outputs": [],
   "source": [
    "# Apply factor\n",
    "data_hammer.tf_data_list.set_calibration_factor(factor=calibration_factor)"
   ]
  },
  {
   "cell_type": "code",
   "execution_count": null,
   "metadata": {},
   "outputs": [],
   "source": [
    "# Save data using new filename\n",
    "data_hammer.save_data()"
   ]
  },
  {
   "cell_type": "markdown",
   "metadata": {},
   "source": [
    "__Note that this will only work if you saved your datasets above after calculating the transfer functions. If you didn't, then you can go back to any of the logger tools, recalculate what you need, and resave your data. You don't need to restart each logger, you can continue wherever you left off using:__"
   ]
  },
  {
   "cell_type": "code",
   "execution_count": null,
   "metadata": {},
   "outputs": [],
   "source": [
    "loggerN.show() # for N=2,3,4 corresponding to the different sections of the lab"
   ]
  },
  {
   "cell_type": "markdown",
   "metadata": {},
   "source": [
    "#### Calibrated Comparison\n",
    "\n",
    "Now load, calibrate and compare your data from all three measurements as the culmination of this part of the experiment. What are the units of this calibrated admittance?\n",
    "\n",
    "1. Use 'Load Data' to load each of the datasets to be compared:\n",
    "    * LOAD THE CALIBRATED HAMMER DATA FIRST\n",
    "    * Then load the uncalibrated data from the stepped sine and noise input tests\n",
    "    * When loading the noise input dataset choose the one with your best choice of N_frames\n",
    "* Select 'TF Data' from the 'Figure selection' dropdown to see the transfer function data.\n",
    "* When all three transfer functions are shown, then zoom into a suitable frequency range where the data is reliable and press 'Match Amplitudes'. This finds and applies a calibration factor to match the amplitudes of the visible datasets to the amplitude of the first dataset: this is why you needed to load the calibrated hammer data first."
   ]
  },
  {
   "cell_type": "markdown",
   "metadata": {},
   "source": [
    "__Remember to save your calibrated comparison data and figures to the teaching system__\n",
    "\n",
    "__CHECK 1: Did you remember to save your data calibrating the data?__\n",
    "\n",
    "__CHECK 2: Did you remember to save the figures that you want to keep for the report?__ "
   ]
  },
  {
   "cell_type": "markdown",
   "metadata": {},
   "source": [
    "<hr style=\"height:2px;border:none\" />\n",
    "\n",
    "### 4.5 Coupling of subsystems (20 minutes)\n",
    "\n",
    "<hr style=\"height:2px;border:none\" />\n",
    "\n",
    "Finally, the measurement of driving-point admittances can be used to learn something about the system behaviour. Using the hammer method obtain admittances for the two cantilevers separately (by removing the coupling rod, removing the magnetic shaker attachment, and moving the accelerometer appropriately — you may need to practice your upside-down hammering technique!).\n",
    "\n",
    "Start a new logger below, and change the 'test_name' as appropriate for each beam. Get the best result you can, using a few averages if needed and taking care to make the impulses consistent. Save the dataset for each beam, after calculating the transfer function.\n",
    "\n",
    "__Remember to save your data and figures to the teaching system__"
   ]
  },
  {
   "cell_type": "code",
   "execution_count": null,
   "metadata": {},
   "outputs": [],
   "source": [
    "settings = dvma.MySettings(channels=2,\n",
    "                           fs=3000,\n",
    "                           stored_time=6,\n",
    "                           pretrig_samples=100,\n",
    "                           device_driver = 'nidaq')\n",
    "logger5 = dvma.Logger(settings,\n",
    "                      test_name = 'upper beam',\n",
    "                      default_window=None)"
   ]
  },
  {
   "cell_type": "markdown",
   "metadata": {},
   "source": [
    "Now you can use these measurements to predict the response of the coupled system: when the two cantilevers are coupled together, the motion at the coupling point must be the same, while the applied force is the sum of the forces applied to the two separate cantilevers. Thus the admittance of the coupled system is related to the admittances $Y_1(\\omega)$, $Y_2(\\omega)$ of the two separate systems by the formula:\n",
    "\n",
    "$$\\frac{1}{Y_\\text{coupled}} = \\frac{1}{Y_1(\\omega)} + \\frac{1}{Y_2(\\omega)}$$\n",
    "\n",
    "which will be familiar from, for example, parallel electrical resistances.\n",
    "\n",
    "To calculate the coupled admittance using these measurements, load the data then use the \"lab_3c6.coupled_TF\" function.\n",
    "\n",
    "__Note that this will only work if you saved your datasets above after calculating the transfer functions. If you didn't, then you can go back to each logger tool and resave your data. You don't need to restart each logger, you can continue wherever you left off.__"
   ]
  },
  {
   "cell_type": "code",
   "execution_count": null,
   "metadata": {},
   "outputs": [],
   "source": [
    "data_lower = dvma.load_data()"
   ]
  },
  {
   "cell_type": "code",
   "execution_count": null,
   "metadata": {},
   "outputs": [],
   "source": [
    "data_upper = dvma.load_data()"
   ]
  },
  {
   "cell_type": "code",
   "execution_count": null,
   "metadata": {},
   "outputs": [],
   "source": [
    "data_coupled = lab_3c6.coupled_TF(data_lower,data_upper)"
   ]
  },
  {
   "cell_type": "code",
   "execution_count": null,
   "metadata": {},
   "outputs": [],
   "source": [
    "data_coupled.save_data()"
   ]
  },
  {
   "cell_type": "markdown",
   "metadata": {},
   "source": [
    "Load the saved data using the interactive viewer. You can also compare the result with the earlier measurement of the actual coupled system, by loading in an earlier file. Comment on the accuracy of the result. Does this method give a reliable way to deduce the behaviour of coupled systems? If not, why not?"
   ]
  },
  {
   "cell_type": "code",
   "execution_count": null,
   "metadata": {},
   "outputs": [],
   "source": [
    "logger5.show()"
   ]
  },
  {
   "cell_type": "markdown",
   "metadata": {},
   "source": [
    "## AT THE END OF THE EXPERIMENT\n",
    "* __check you have saved your data and figures to the teaching system__\n",
    "* __share your data with lab-group partners and your own devices (e.g. using [Firefox Send](https://send.firefox.com/) or [wetransfer](https://wetransfer.com/))__\n",
    "* __sign-out of the pc__"
   ]
  },
  {
   "cell_type": "markdown",
   "metadata": {},
   "source": [
    "<div class=\"alert alert-block alert-danger\">\n",
    "    \n",
    "<b> NOTE: </b><br/>\n",
    "\n",
    "* __Please note that the state of the loggers is not saved along with the notebook itself, so when you close the notebook then you can no longer use logger.show().__\n",
    "\n",
    "* __Therefore, please remember to save data and figures as needed for the report before leaving the lab__\n",
    "\n",
    "* __The pydvma logger is opensource, so you can install it on your own device (windows/mac/linux), however it is still in development so may not work.__\n",
    "\n",
    "</div>"
   ]
  },
  {
   "cell_type": "markdown",
   "metadata": {},
   "source": [
    "<hr style=\"height:2px;border:none\" />\n",
    "\n",
    "## 5. Write-up for laboratory report (3 hours)\n",
    "\n",
    "<hr style=\"height:2px;border:none\" />\n",
    "\n",
    "The write-up of this experiment as coursework for module 3C6 should be short. Download the template from the 3C6 moodle site (bit.ly/cued3c6). The text should occupy a maximum 3 A4 sides word processed, plus appropriate plots of experimental results. Your report should include representative results from all the stages of the experiment, including the final calibrated comparison of all measurement methods. It need only give a very brief description of the experimental procedure, but it should contain answers to the various questions asked in this sheet, and a critical discussion of the results which might take the form of short bullet points accompanying annotated plots of experimental results.\n",
    "\n",
    "When writing up, please concentrate on the following:\n",
    "\n",
    "* Use diagrams to illustrate your points and tables to summarise data.\n",
    "* Label the plots carefully and identify interesting features (frequency and amplitude of peaks, units of vertical axis, unexpected glitches, etc.). Your plots should not end up looking just like everyone else's.\n",
    "* Make sure you discuss the major features of the measured data (the main peaks, comparison between methods, validity of system-coupling theory).\n",
    "* There is no need to regurgitate chunks of Part I material. Refer to such material in passing while making particular observations on measured data.\n",
    "* This is primarily a vibration experiment. Concentrate on the 'vibration analysis' rather than the 'digital analysis'. The digital signal processing is a means to an end.\n",
    "\n",
    "The report should be submitted online using the 3C6 Moodle page as a PDF file, within the usual time allowed for lab hand-ins. You should then attend the next available feedback session for discussion and to collect your marked report — please allow at least 24 hours for report marking between hand-in and attending a feedback session. Feedback sessions last for 30 minutes, and will be held on certain Friday afternoons. The feedback dates and locations are on the sign-up web page. Attendance at the feedback session is very strongly advised — but if you can’t make the designated session and there is a later one available, you can attend that instead. If you intend to submit an FTR on this experiment, you are strongly advised to do the experiment early enough in the term that you can attend a feedback session well before the FTR hand-in deadline."
   ]
  },
  {
   "cell_type": "markdown",
   "metadata": {},
   "source": [
    "<hr style=\"height:2px;border:none\" />\n",
    "\n",
    "## 6. Write-up for Full Technical Report (10 additional hours)\n",
    "\n",
    "<hr style=\"height:2px;border:none\" />\n",
    "\n",
    "Guidance on the preparation of Full Technical Reports is provided both in Appendix I of the General Instructions document and in the CUED booklet A guide to report writing, with which you were issued in the first year. The experimental plots from your Laboratory Report should be included. The written material from your Laboratory Report will be superseded by this fuller account, perhaps corrected in the light of information from the feedback session. Remember that this report will be assessed both on technical content and on quality of presentation.\n",
    "\n",
    "The following additional questions should be discussed in your Full Technical Report:\n",
    "\n",
    "1. Does the form of the transfer functions you have measured agree with what you expect based on the lecture notes for the module?\n",
    "* What governs the shape of the force pulse from the hammer? How does this then determine the bandwidth of the frequency spectrum of the force? *Hint: look in the Information Data Book.* Why does the hammer have a rubber tip?\n",
    "* How well do the measured and “predicted” admittances of the coupled cantilevers agree? Are the predicted frequencies the same? Are there other discrepancies? How do these discrepancies arise? How could the measurement procedure be improved to reduce discrepancies?\n",
    "* What are the main advantages and drawbacks of the three approaches to forcing (sinusoidal, random and impulsive)? For each of the three, suggest a type of application for which it might be the best. Think about size, power, method of attachment, test speed, frequency range, signal-to-noise ratio .... Do not fall into the trap of thinking that the “best” test method is the one which has an input force “most similar” to the type of forcing in the real application — remember that provided linear theory is applicable, any type of input force should theoretically give the same transfer function.\n",
    "* What do your measurements tell you about the damping of the cantilever system? *Hint: refer to your Mechanics Data Book.* Why might you expect more damping in the coupled system?\n",
    "\n",
    "The report should be submitted online using the 3C6 Moodle page as a PDF file."
   ]
  },
  {
   "cell_type": "code",
   "execution_count": null,
   "metadata": {},
   "outputs": [],
   "source": []
  }
 ],
 "metadata": {
  "kernelspec": {
   "display_name": "Python 3",
   "language": "python",
   "name": "python3"
  },
  "language_info": {
   "codemirror_mode": {
    "name": "ipython",
    "version": 3
   },
   "file_extension": ".py",
   "mimetype": "text/x-python",
   "name": "python",
   "nbconvert_exporter": "python",
   "pygments_lexer": "ipython3",
   "version": "3.7.6"
  }
 },
 "nbformat": 4,
 "nbformat_minor": 2
}
