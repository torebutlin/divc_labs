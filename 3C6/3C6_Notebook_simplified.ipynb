{
 "cells": [
  {
   "cell_type": "markdown",
   "metadata": {
    "collapsed": true
   },
   "source": [
    "\n",
    "<hr style=\"height:2px;border:none\" />\n",
    "<h1><center> Engineering Tripos Part IIA Module Experiment: 3C6 </center></h1> \n",
    "<h1><center> Digital Vibration Analysis, South Wing Mechanics Laboratory </center></h1>\n",
    "<hr style=\"height:2px;border:none\" />\n",
    "\n",
    "## Objectives\n",
    "\n",
    "-  To investigate alternative methods of determining calibrated frequency response transfer functions of a mechanical vibrating system, using a digital measuring system;\n",
    "-   To predict the response of a system from measured responses of its decoupled subsystems, and to compare with the measured response of the coupled system.\n",
    "\n",
    "## Introduction\n",
    "\n",
    "Problems involving vibration occur in every area of mechanical engineering, such as wave loading of offshore platforms, cabin noise in aircraft, performance of machine tools, and design of loudspeakers. To tackle such problems, one generally needs a combination of theoretical modelling and measurement. Theoretical modelling may take the form of simple analytical calculations, but is more likely to involve computer packages (for example to perform finite-element calculations).\n",
    "\n",
    "Most vibration measurements also involve computers. A force of some kind is applied to the structure, and signals corresponding to this driving force and the response of the structure are sampled at regular intervals using an analogue-to-digital converter, so that they are represented in the computer by vectors of discrete values. This operation is usually described as “data-logging”. These sampled signals can then be processed to yield frequency response functions, vibration resonance frequencies, damping factors, mode shapes, and other more complicated quantities such as fatigue life predictions. The fundamental building block in any such analysis is the transfer function between a force applied at one point on the structure and the response (displacement, velocity or acceleration) at another point. The main approaches to the determination of vibration transfer functions are illustrated in this experiment.\n",
    "\n",
    "_Note on jargon: a confusing array of different names is used to describe such transfer functions. We will use “(mechanical) admittance”, based on an analogy between mechanical and electrical systems. This is defined to be the ratio of velocity response to force, at a given frequency. Velocity is the natural response variable for many purposes, because it is the “energy conjugate” of force — force times velocity at the driven point gives the rate of doing work, just as does voltage times current. Another common name for admittance is “mobility”._\n",
    "\n",
    "## Apparatus\n",
    "\n",
    "The apparatus comprises a mechanical vibrating system, actuators to apply controlled forces to it, a sensor to measure the response, a data-logging computer with analysis software, and some miscellaneous electronic instrumentation. The vibrating system consists of two flexible cantilever beams, fixed to a heavy base. The base rests on soft rubber feet, to minimise the pick-up of background vibration transmitted through the floor and bench. An electromagnetic shaker (moving-coil actuator, constructed like a normal loudspeaker) can be coupled to the lower beam using a magnetic attachment. The two beams may be coupled together by wedging a small brass rod between the two beams. There is enough contact pressure to ensure that the beams remain in good contact for the purposes of vibration transmission.\n",
    "\n",
    "Force can also be applied to the structure impulsively, using an instrumented hammer. This has a piezoelectric force transducer built into it, so that the precise waveform of force can be determined. The signal from this transducer is buffered by a suitable charge amplifier. The hammer has a soft tip which has the effect of limiting the frequency content of the impulse to a maximum of about 800Hz. The charge amplifiers used in this experiment have a low-frequency cutoff of 8 Hz. This makes vibration measurement easier by rapidly removing any DC drift or offset.\n",
    "\n",
    "Vibration response is measured using an accelerometer mounted on a magnetic base. It can be placed on the top or bottom beam as required. The signal from the accelerometer passes through a charge amplifier, and is then integrated by analogue circuitry to produce an output proportional to velocity at the measurement point. In this experiment the accelerometer should always be placed as near as possible to the point on the structure at which the driving force is applied — this is achieved by placing it on the opposite side to the force-application point, in line with it. In this way, all your measurements will be of driving-point admittance.\n",
    "\n",
    "Signals corresponding to the force and the velocity response go to the PC, which is used to perform data logging and analysis via a Python package, which this notebook uses. The person who logs in will hold all saved files. Make sure your file quota is not near its limit before you begin! If the power is not on at the benches, turn on the switches on the pillar at the north end of the bench, labelled “computers” and “bench sockets”. You may need to plug in the two BNC cables carrying your input and output signals to the diecast box at the rear of the computer trolley. Your cables are labelled “3C6 CH1” and “3C6 CH2”, to be plugged into the corresponding channels.\n",
    "\n",
    "Magnets are not really the best way to attach accelerometers to a structure. As in this experiment they can be very convenient, but they have two major disadvantages. Firstly, the contact force is quite small (compared with a bolted or glued connection) and this causes problems if the acceleration levels are high. The second problem is that heavy magnets should not be used on light structures since the added mass will seriously modify the vibration characteristics of the structure, at the very least by lowering natural frequencies. You will observe this effect in this experiment and you should comment on it.\n",
    "\n",
    "***\n",
    "__When using the magnets make sure they are well seated. If they are not, you will hear buzzing or rattling. Remove the magnet and wipe both surfaces with your finger to remove any grit. Moving the magnet slightly is often all that is needed to get rid of the buzz. If the buzz persists, try using a lower vibration level.__\n",
    "***\n",
    "\n",
    "## Experimental procedure\n",
    "\n",
    "This experiment uses the 'pydvma' package. This package is for dynamics and vibration measurement and analysis, and has been written specifically for CUED dynamics labs. Follow the instructions below for how to use the datalogger and dataprocess packages."
   ]
  },
  {
   "cell_type": "code",
   "execution_count": null,
   "metadata": {},
   "outputs": [],
   "source": [
    "import pydvma as dvma"
   ]
  },
  {
   "cell_type": "markdown",
   "metadata": {
    "collapsed": true
   },
   "source": [
    "### Stepped sine test"
   ]
  },
  {
   "cell_type": "code",
   "execution_count": null,
   "metadata": {},
   "outputs": [],
   "source": [
    "# acquisition setup\n",
    "settings = dvm.setup(labsettings = \"3c6_stepped_sine\") # loads 3c6 defaults specific to stepped sine tests\n",
    "dvm.oscilloscope(settings) # runs popup window with time, freq, and levels"
   ]
  },
  {
   "cell_type": "code",
   "execution_count": null,
   "metadata": {},
   "outputs": [],
   "source": [
    "# log data\n",
    "tf = dvm.logdata(settings, testname = \"Stepped sine tests\") # these settings will return transfer function data\n",
    "data_steppedsine = dva.newDataSet(tf) # initialise new dataset class with transfer function data\n",
    "dvm.save(data_steppedsine,\"data_steppedsine\")"
   ]
  },
  {
   "cell_type": "code",
   "execution_count": null,
   "metadata": {},
   "outputs": [],
   "source": [
    "# process and view\n",
    "dva.plot(data_steppedsine.transferFunction)"
   ]
  },
  {
   "cell_type": "markdown",
   "metadata": {
    "collapsed": true
   },
   "source": [
    "### Noise input"
   ]
  },
  {
   "cell_type": "code",
   "execution_count": null,
   "metadata": {},
   "outputs": [],
   "source": [
    "# acquisition setup\n",
    "settings = dvm.setup(labsettings = \"3c6\") # loads 3c6 defaults\n",
    "dvm.oscilloscope(settings) # runs popup window with time, freq, and levels"
   ]
  },
  {
   "cell_type": "markdown",
   "metadata": {
    "collapsed": true
   },
   "source": [
    "The following code logs data using the 3C6 default settings. But you can specify the logging time (logTime) and number of averages (N_averages) yourself. What happens when you try increasing the number of averages? Or the logging time?\n",
    "\n",
    "Don't forget to save your data after logging each time!"
   ]
  },
  {
   "cell_type": "code",
   "execution_count": null,
   "metadata": {},
   "outputs": [],
   "source": [
    "# log data\n",
    "settings = dvm.setup(labsettings = \"3c6\",\n",
    "                     logTime = 2,\n",
    "                     N_averages = 1)\n",
    "tf = dvm.logdata(settings, testname = \"Noise input: 2s, no averaging\") # returns time and transfer function data\n",
    "data_noise_2s_1av = dva.newDataSet(tf)\n",
    "dvm.save(data_noise_2s,\"data_noise_2s_1av\")\n",
    "dva.plot(data_noise_2s.transferFunction)"
   ]
  },
  {
   "cell_type": "code",
   "execution_count": null,
   "metadata": {},
   "outputs": [],
   "source": []
  },
  {
   "cell_type": "code",
   "execution_count": null,
   "metadata": {},
   "outputs": [],
   "source": []
  },
  {
   "cell_type": "markdown",
   "metadata": {
    "collapsed": true
   },
   "source": [
    "### Hammer input"
   ]
  },
  {
   "cell_type": "code",
   "execution_count": null,
   "metadata": {},
   "outputs": [],
   "source": [
    "# acquisition setup\n",
    "settings = dvm.setup(labsettings = \"3c6\",\n",
    "                     preTrig = 200,\n",
    "                     trigThreshold = 0.5,\n",
    "                     logTime = 6,\n",
    "                     Naverages = 1) # change input settings ready for hammer"
   ]
  },
  {
   "cell_type": "code",
   "execution_count": null,
   "metadata": {},
   "outputs": [],
   "source": [
    "# log data\n",
    "td = dvm.logdata(settings, testname = \"Hammer input: 6s, no averaging\") # returns time and tf data\n",
    "data_hammer = dva.newDataSet(td)\n",
    "dva.plot(data_hammer.timeSeries)"
   ]
  },
  {
   "cell_type": "code",
   "execution_count": null,
   "metadata": {},
   "outputs": [],
   "source": [
    "# Process and view\n",
    "fd = dva.convert_to_frequency(data_hammer.timeSeries)\n",
    "tf = dva.convert_to_transferFunction(data_hammer.timeSeries)\n",
    "data_hammer.addData(fd,tf)\n",
    "\n",
    "dva.plot(data_hammer.transferFunction)"
   ]
  },
  {
   "cell_type": "markdown",
   "metadata": {
    "collapsed": true
   },
   "source": [
    "### Calibration"
   ]
  },
  {
   "cell_type": "code",
   "execution_count": null,
   "metadata": {},
   "outputs": [],
   "source": [
    "data_hammer.calibrate_data([0.0018])\n",
    "\n",
    "dva.plot(data_hammer.transferFunction)\n",
    "dva.plot(data_noise.transferFunction)\n",
    "\n",
    "factor = dva.best_match(data_hammer.freqData,data_noise.freqData, freqrange = [150,250])\n",
    "data_noise.calibrate_data(factor)\n",
    "data_steppedsine.calibrate_data(factor)"
   ]
  },
  {
   "cell_type": "markdown",
   "metadata": {},
   "source": [
    "### 3 way comparison"
   ]
  },
  {
   "cell_type": "code",
   "execution_count": null,
   "metadata": {},
   "outputs": [],
   "source": [
    "dva.plot(data_steppedsine.transferFunction)\n",
    "dva.plot(data_noise.transferFunction)\n",
    "dva.plot(data_hammer.transferFunction)"
   ]
  },
  {
   "cell_type": "markdown",
   "metadata": {},
   "source": [
    "### Coupling"
   ]
  },
  {
   "cell_type": "code",
   "execution_count": null,
   "metadata": {},
   "outputs": [],
   "source": [
    "settings = dvm.setup(labsettings = \"3c6\",\n",
    "                     preTrig = 200,\n",
    "                     trigThreshold = 0.5,\n",
    "                     logTime = 6,\n",
    "                     Naverages = 1) # change input settings ready for hammer\n",
    "td = dvm.logdata(settings, testname = \"lower beam\") # returns time data\n",
    "data_lower_beam = dva.newDataSet(td)"
   ]
  },
  {
   "cell_type": "code",
   "execution_count": null,
   "metadata": {},
   "outputs": [],
   "source": [
    "td = dvm.logdata(settings, testname = \"upper beam\") # returns time data\n",
    "data_upper_beam = dva.newDataSet(td)"
   ]
  },
  {
   "cell_type": "code",
   "execution_count": null,
   "metadata": {},
   "outputs": [],
   "source": [
    "coupled_TF = 1/(data_upper_beam.transferFunction + data_lower_beam.transferFunction)"
   ]
  },
  {
   "cell_type": "code",
   "execution_count": null,
   "metadata": {},
   "outputs": [],
   "source": [
    "dva.plot(data_hammer.transferFunction)\n",
    "dva.plot(coupled_TF)"
   ]
  },
  {
   "cell_type": "code",
   "execution_count": null,
   "metadata": {},
   "outputs": [],
   "source": []
  }
 ],
 "metadata": {
  "kernelspec": {
   "display_name": "Python 3",
   "language": "python",
   "name": "python3"
  },
  "language_info": {
   "codemirror_mode": {
    "name": "ipython",
    "version": 3
   },
   "file_extension": ".py",
   "mimetype": "text/x-python",
   "name": "python",
   "nbconvert_exporter": "python",
   "pygments_lexer": "ipython3",
   "version": "3.6.6"
  }
 },
 "nbformat": 4,
 "nbformat_minor": 2
}
