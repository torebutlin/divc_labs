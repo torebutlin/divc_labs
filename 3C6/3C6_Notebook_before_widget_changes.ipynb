{
 "cells": [
  {
   "cell_type": "markdown",
   "metadata": {},
   "source": [
    "<hr style=\"height:2px;border:none\" />\n",
    "<h1><center> Engineering Tripos Part IIA Module Experiment: 3C6 </center></h1> \n",
    "<h1><center> Digital Vibration Analysis, South Wing Mechanics Laboratory </center></h1>\n",
    "<hr style=\"height:2px;border:none\" />\n",
    "\n",
    "## Objectives\n",
    "\n",
    "-  To investigate alternative methods of determining calibrated frequency response transfer functions of a mechanical vibrating system, using a digital measuring system;\n",
    "-   To predict the response of a system from measured responses of its decoupled subsystems, and to compare with the measured response of the coupled system.\n",
    "\n",
    "## Introduction\n",
    "\n",
    "Problems involving vibration occur in every area of mechanical engineering, such as wave loading of offshore platforms, cabin noise in aircraft, performance of machine tools, and design of loudspeakers. To tackle such problems, one generally needs a combination of theoretical modelling and measurement. Theoretical modelling may take the form of simple analytical calculations, but is more likely to involve computer packages (for example to perform finite-element calculations).\n",
    "\n",
    "Most vibration measurements also involve computers. A force of some kind is applied to the structure, and signals corresponding to this driving force and the response of the structure are sampled at regular intervals using an analogue-to-digital converter, so that they are represented in the computer by vectors of discrete values. This operation is usually described as “data-logging”. These sampled signals can then be processed to yield frequency response functions, vibration resonance frequencies, damping factors, mode shapes, and other more complicated quantities such as fatigue life predictions. The fundamental building block in any such analysis is the transfer function between a force applied at one point on the structure and the response (displacement, velocity or acceleration) at another point. The main approaches to the determination of vibration transfer functions are illustrated in this experiment.\n",
    "\n",
    "_Note on jargon: a confusing array of different names is used to describe such transfer functions. We will use “(mechanical) admittance”, based on an analogy between mechanical and electrical systems. This is defined to be the ratio of velocity response to force, at a given frequency. Velocity is the natural response variable for many purposes, because it is the “energy conjugate” of force — force times velocity at the driven point gives the rate of doing work, just as does voltage times current. Another common name for admittance is “mobility”._\n",
    "\n",
    "## Apparatus\n",
    "\n",
    "The apparatus comprises a mechanical vibrating system, actuators to apply controlled forces to it, a sensor to measure the response, a data-logging computer with analysis software, and some miscellaneous electronic instrumentation. The vibrating system consists of two flexible cantilever beams, fixed to a heavy base. The base rests on soft rubber feet, to minimise the pick-up of background vibration transmitted through the floor and bench. An electromagnetic shaker (moving-coil actuator, constructed like a normal loudspeaker) can be coupled to the lower beam using a magnetic attachment. The two beams may be coupled together by wedging a small brass rod between the two beams. There is enough contact pressure to ensure that the beams remain in good contact for the purposes of vibration transmission.\n",
    "\n",
    "Force can also be applied to the structure impulsively, using an instrumented hammer. This has a piezoelectric force transducer built into it, so that the precise waveform of force can be determined. The signal from this transducer is buffered by a suitable charge amplifier. The hammer has a soft tip which has the effect of limiting the frequency content of the impulse to a maximum of about 800Hz. The charge amplifiers used in this experiment have a low-frequency cutoff of 8 Hz. This makes vibration measurement easier by rapidly removing any DC drift or offset.\n",
    "\n",
    "Vibration response is measured using an accelerometer mounted on a magnetic base. It can be placed on the top or bottom beam as required. The signal from the accelerometer passes through a charge amplifier, and is then integrated by analogue circuitry to produce an output proportional to velocity at the measurement point. In this experiment the accelerometer should always be placed as near as possible to the point on the structure at which the driving force is applied — this is achieved by placing it on the opposite side to the force-application point, in line with it. In this way, all your measurements will be of driving-point admittance.\n",
    "\n",
    "Signals corresponding to the force and the velocity response go to the PC, which is used to perform data logging and analysis via a Python package, which this notebook uses. The person who logs in will hold all saved files. Make sure your file quota is not near its limit before you begin! If the power is not on at the benches, turn on the switches on the pillar at the north end of the bench, labelled “computers” and “bench sockets”. You may need to plug in the two BNC cables carrying your input and output signals to the diecast box at the rear of the computer trolley. Your cables are labelled “3C6 CH1” and “3C6 CH2”, to be plugged into the corresponding channels.\n",
    "\n",
    "Magnets are not really the best way to attach accelerometers to a structure. As in this experiment they can be very convenient, but they have two major disadvantages. Firstly, the contact force is quite small (compared with a bolted or glued connection) and this causes problems if the acceleration levels are high. The second problem is that heavy magnets should not be used on light structures since the added mass will seriously modify the vibration characteristics of the structure, at the very least by lowering natural frequencies. You will observe this effect in this experiment and you should comment on it.\n",
    "\n",
    "***\n",
    "__When using the magnets make sure they are well seated. If they are not, you will hear buzzing or rattling. Remove the magnet and wipe both surfaces with your finger to remove any grit. Moving the magnet slightly is often all that is needed to get rid of the buzz. If the buzz persists, try using a lower vibration level.__\n",
    "***\n",
    "\n",
    "## Experimental procedure\n",
    "\n",
    "For the first part of the experiment you will explore the frequency response of the cantilever system using a sine-wave generator, much as you did in the Part IA vibration experiment. The computer will be used only to collect the results and plot them. Attach the shaker to the bottom beam using the magnetic connector and insert the brass coupling rod between the two beams if it is not already there. Attach the accelerometer to the top beam directly above the coupling rod. Set the selector switch to “Sine”. Now go to the computer. On the Desktop double click on the “Matlab” icon, to launch the Matlab environment. When the Matlab Command Window appears, type “sinesweep” there and press “Enter”. A window will appear, allowing data points to be measured and plotted. Now use the sine-wave generator to explore the system response in the frequency range 0–500 Hz. For each frequency tested, watch the oscilloscope display to be sure that the vibration has settled to a steady state, then click the “Measure” button on the computer. The input and output signals will be sampled, and a dot will be plotted on the screen showing the corresponding value of the admittance function. As is usual in vibration measurements, the results are plotted with a logarithmic vertical scale, in decibels (dB). Actually the admittance function is complex (or equivalently each value has a phase shift associated with it), and what is plotted here is the magnitude of the admittance.\n",
    "\n",
    "You can explore up and down in frequency at will, until you have dotted out a reasonable picture of the admittance (you should find at least four resonance peaks). Unwanted data points can be deleted using the “Delete last point” button. Be particularly careful to catch the peak values, where the system has resonances. You need not print the results at this stage: a better opportunity will arise later, when you will be able to print these results superimposed on other measurements of the admittance. When you have gathered sufficient data points, click on the \"Save and quit\" button, and the program will prompt for a file name, save your results and terminate. You don’t need to plot the results at this stage, you will read your results back in later and plot them then.\n",
    "\n",
    "__Any files you save during this experiment should be put in your own file space on the central computer network: this space is mounted as the drive z: when you logged in to the Teaching System. Do not put files on the local disk of the PC you are using. Make sure you avoid file names containing a dot! Windows doesn’t like them.__"
   ]
  },
  {
   "cell_type": "markdown",
   "metadata": {},
   "source": [
    "Start by importing the necessary modules (pydvma is a python package written for data acquisition at CUED).\n",
    "\n",
    "Remember:\n",
    "\n",
    "* to actually run a cell of code, click inside the cell then press 'shift+enter'\n",
    "* the cell is running while [ * ] is displayed\n",
    "* the cell has finished running when it changes to a number"
   ]
  },
  {
   "cell_type": "code",
   "execution_count": 1,
   "metadata": {},
   "outputs": [],
   "source": [
    "%gui qt5"
   ]
  },
  {
   "cell_type": "code",
   "execution_count": 2,
   "metadata": {},
   "outputs": [],
   "source": [
    "import pydvma as dvma\n",
    "import lab_3c6\n",
    "import matplotlib"
   ]
  },
  {
   "cell_type": "code",
   "execution_count": 3,
   "metadata": {},
   "outputs": [],
   "source": [
    "matplotlib.use('nbagg')"
   ]
  },
  {
   "cell_type": "markdown",
   "metadata": {},
   "source": [
    "### Stepped sine test"
   ]
  },
  {
   "cell_type": "markdown",
   "metadata": {},
   "source": [
    "Choose your acquisition settings. The settings for this part of the 3C6 lab are:\n",
    "\n",
    "* channels=2 (number of channels to record)\n",
    "* fs=3000 (sampling rate in Hz)\n",
    "* chunk_size=100 (how many samples to collect at a time, effectively controls refresh rate of oscilloscope)\n",
    "* stored_time=1 (time in seconds to record data for)\n",
    "* viewed_time=1 (time in seconds to display on oscilloscope)\n",
    "* device_driver = 'nidaq'\n",
    "* device_index = 0"
   ]
  },
  {
   "cell_type": "code",
   "execution_count": 4,
   "metadata": {},
   "outputs": [],
   "source": [
    "# acquisition setup\n",
    "settings = dvma.MySettings(channels=2,\n",
    "                           fs=3000,\n",
    "                           chunk_size=100,\n",
    "                           stored_time=0.5,\n",
    "                           viewed_time=0.5,\n",
    "                           device_driver = 'soundcard',\n",
    "                           device_index=1)"
   ]
  },
  {
   "cell_type": "markdown",
   "metadata": {},
   "source": [
    "Now open an oscilloscope using your settings. This shows three plots:\n",
    "\n",
    "* the top one is like a normal oscilloscope showing the signal (toggle on/off with 'T');\n",
    "* the middle one shows the frequency spectrum of the signal (toggle on/off with 'F');\n",
    "* the bottom one shows the signal amplitudes (toggle on/off with 'L');"
   ]
  },
  {
   "cell_type": "code",
   "execution_count": 5,
   "metadata": {},
   "outputs": [
    {
     "name": "stdout",
     "output_type": "stream",
     "text": [
      "1 Microphone Array (Realtek High \n",
      "Selected device: 1 : Microphone Array (Realtek High \n"
     ]
    }
   ],
   "source": [
    "# open oscilloscope\n",
    "osc = dvma.Oscilloscope(settings)"
   ]
  },
  {
   "cell_type": "markdown",
   "metadata": {},
   "source": [
    "In this part of the lab we want to measure the gain and phase shift from input to output at the specific frequencies of the generator."
   ]
  },
  {
   "cell_type": "code",
   "execution_count": 6,
   "metadata": {},
   "outputs": [
    {
     "data": {
      "application/vnd.jupyter.widget-view+json": {
       "model_id": "af1d44a477f94a48bbce101678ccd078",
       "version_major": 2,
       "version_minor": 0
      },
      "text/plain": [
       "HBox(children=(Button(button_style='success', description='Measure', layout=Layout(width='25%'), style=ButtonS…"
      ]
     },
     "metadata": {},
     "output_type": "display_data"
    },
    {
     "data": {
      "application/javascript": [
       "/* Put everything inside the global mpl namespace */\n",
       "window.mpl = {};\n",
       "\n",
       "\n",
       "mpl.get_websocket_type = function() {\n",
       "    if (typeof(WebSocket) !== 'undefined') {\n",
       "        return WebSocket;\n",
       "    } else if (typeof(MozWebSocket) !== 'undefined') {\n",
       "        return MozWebSocket;\n",
       "    } else {\n",
       "        alert('Your browser does not have WebSocket support.' +\n",
       "              'Please try Chrome, Safari or Firefox ≥ 6. ' +\n",
       "              'Firefox 4 and 5 are also supported but you ' +\n",
       "              'have to enable WebSockets in about:config.');\n",
       "    };\n",
       "}\n",
       "\n",
       "mpl.figure = function(figure_id, websocket, ondownload, parent_element) {\n",
       "    this.id = figure_id;\n",
       "\n",
       "    this.ws = websocket;\n",
       "\n",
       "    this.supports_binary = (this.ws.binaryType != undefined);\n",
       "\n",
       "    if (!this.supports_binary) {\n",
       "        var warnings = document.getElementById(\"mpl-warnings\");\n",
       "        if (warnings) {\n",
       "            warnings.style.display = 'block';\n",
       "            warnings.textContent = (\n",
       "                \"This browser does not support binary websocket messages. \" +\n",
       "                    \"Performance may be slow.\");\n",
       "        }\n",
       "    }\n",
       "\n",
       "    this.imageObj = new Image();\n",
       "\n",
       "    this.context = undefined;\n",
       "    this.message = undefined;\n",
       "    this.canvas = undefined;\n",
       "    this.rubberband_canvas = undefined;\n",
       "    this.rubberband_context = undefined;\n",
       "    this.format_dropdown = undefined;\n",
       "\n",
       "    this.image_mode = 'full';\n",
       "\n",
       "    this.root = $('<div/>');\n",
       "    this._root_extra_style(this.root)\n",
       "    this.root.attr('style', 'display: inline-block');\n",
       "\n",
       "    $(parent_element).append(this.root);\n",
       "\n",
       "    this._init_header(this);\n",
       "    this._init_canvas(this);\n",
       "    this._init_toolbar(this);\n",
       "\n",
       "    var fig = this;\n",
       "\n",
       "    this.waiting = false;\n",
       "\n",
       "    this.ws.onopen =  function () {\n",
       "            fig.send_message(\"supports_binary\", {value: fig.supports_binary});\n",
       "            fig.send_message(\"send_image_mode\", {});\n",
       "            if (mpl.ratio != 1) {\n",
       "                fig.send_message(\"set_dpi_ratio\", {'dpi_ratio': mpl.ratio});\n",
       "            }\n",
       "            fig.send_message(\"refresh\", {});\n",
       "        }\n",
       "\n",
       "    this.imageObj.onload = function() {\n",
       "            if (fig.image_mode == 'full') {\n",
       "                // Full images could contain transparency (where diff images\n",
       "                // almost always do), so we need to clear the canvas so that\n",
       "                // there is no ghosting.\n",
       "                fig.context.clearRect(0, 0, fig.canvas.width, fig.canvas.height);\n",
       "            }\n",
       "            fig.context.drawImage(fig.imageObj, 0, 0);\n",
       "        };\n",
       "\n",
       "    this.imageObj.onunload = function() {\n",
       "        fig.ws.close();\n",
       "    }\n",
       "\n",
       "    this.ws.onmessage = this._make_on_message_function(this);\n",
       "\n",
       "    this.ondownload = ondownload;\n",
       "}\n",
       "\n",
       "mpl.figure.prototype._init_header = function() {\n",
       "    var titlebar = $(\n",
       "        '<div class=\"ui-dialog-titlebar ui-widget-header ui-corner-all ' +\n",
       "        'ui-helper-clearfix\"/>');\n",
       "    var titletext = $(\n",
       "        '<div class=\"ui-dialog-title\" style=\"width: 100%; ' +\n",
       "        'text-align: center; padding: 3px;\"/>');\n",
       "    titlebar.append(titletext)\n",
       "    this.root.append(titlebar);\n",
       "    this.header = titletext[0];\n",
       "}\n",
       "\n",
       "\n",
       "\n",
       "mpl.figure.prototype._canvas_extra_style = function(canvas_div) {\n",
       "\n",
       "}\n",
       "\n",
       "\n",
       "mpl.figure.prototype._root_extra_style = function(canvas_div) {\n",
       "\n",
       "}\n",
       "\n",
       "mpl.figure.prototype._init_canvas = function() {\n",
       "    var fig = this;\n",
       "\n",
       "    var canvas_div = $('<div/>');\n",
       "\n",
       "    canvas_div.attr('style', 'position: relative; clear: both; outline: 0');\n",
       "\n",
       "    function canvas_keyboard_event(event) {\n",
       "        return fig.key_event(event, event['data']);\n",
       "    }\n",
       "\n",
       "    canvas_div.keydown('key_press', canvas_keyboard_event);\n",
       "    canvas_div.keyup('key_release', canvas_keyboard_event);\n",
       "    this.canvas_div = canvas_div\n",
       "    this._canvas_extra_style(canvas_div)\n",
       "    this.root.append(canvas_div);\n",
       "\n",
       "    var canvas = $('<canvas/>');\n",
       "    canvas.addClass('mpl-canvas');\n",
       "    canvas.attr('style', \"left: 0; top: 0; z-index: 0; outline: 0\")\n",
       "\n",
       "    this.canvas = canvas[0];\n",
       "    this.context = canvas[0].getContext(\"2d\");\n",
       "\n",
       "    var backingStore = this.context.backingStorePixelRatio ||\n",
       "\tthis.context.webkitBackingStorePixelRatio ||\n",
       "\tthis.context.mozBackingStorePixelRatio ||\n",
       "\tthis.context.msBackingStorePixelRatio ||\n",
       "\tthis.context.oBackingStorePixelRatio ||\n",
       "\tthis.context.backingStorePixelRatio || 1;\n",
       "\n",
       "    mpl.ratio = (window.devicePixelRatio || 1) / backingStore;\n",
       "\n",
       "    var rubberband = $('<canvas/>');\n",
       "    rubberband.attr('style', \"position: absolute; left: 0; top: 0; z-index: 1;\")\n",
       "\n",
       "    var pass_mouse_events = true;\n",
       "\n",
       "    canvas_div.resizable({\n",
       "        start: function(event, ui) {\n",
       "            pass_mouse_events = false;\n",
       "        },\n",
       "        resize: function(event, ui) {\n",
       "            fig.request_resize(ui.size.width, ui.size.height);\n",
       "        },\n",
       "        stop: function(event, ui) {\n",
       "            pass_mouse_events = true;\n",
       "            fig.request_resize(ui.size.width, ui.size.height);\n",
       "        },\n",
       "    });\n",
       "\n",
       "    function mouse_event_fn(event) {\n",
       "        if (pass_mouse_events)\n",
       "            return fig.mouse_event(event, event['data']);\n",
       "    }\n",
       "\n",
       "    rubberband.mousedown('button_press', mouse_event_fn);\n",
       "    rubberband.mouseup('button_release', mouse_event_fn);\n",
       "    // Throttle sequential mouse events to 1 every 20ms.\n",
       "    rubberband.mousemove('motion_notify', mouse_event_fn);\n",
       "\n",
       "    rubberband.mouseenter('figure_enter', mouse_event_fn);\n",
       "    rubberband.mouseleave('figure_leave', mouse_event_fn);\n",
       "\n",
       "    canvas_div.on(\"wheel\", function (event) {\n",
       "        event = event.originalEvent;\n",
       "        event['data'] = 'scroll'\n",
       "        if (event.deltaY < 0) {\n",
       "            event.step = 1;\n",
       "        } else {\n",
       "            event.step = -1;\n",
       "        }\n",
       "        mouse_event_fn(event);\n",
       "    });\n",
       "\n",
       "    canvas_div.append(canvas);\n",
       "    canvas_div.append(rubberband);\n",
       "\n",
       "    this.rubberband = rubberband;\n",
       "    this.rubberband_canvas = rubberband[0];\n",
       "    this.rubberband_context = rubberband[0].getContext(\"2d\");\n",
       "    this.rubberband_context.strokeStyle = \"#000000\";\n",
       "\n",
       "    this._resize_canvas = function(width, height) {\n",
       "        // Keep the size of the canvas, canvas container, and rubber band\n",
       "        // canvas in synch.\n",
       "        canvas_div.css('width', width)\n",
       "        canvas_div.css('height', height)\n",
       "\n",
       "        canvas.attr('width', width * mpl.ratio);\n",
       "        canvas.attr('height', height * mpl.ratio);\n",
       "        canvas.attr('style', 'width: ' + width + 'px; height: ' + height + 'px;');\n",
       "\n",
       "        rubberband.attr('width', width);\n",
       "        rubberband.attr('height', height);\n",
       "    }\n",
       "\n",
       "    // Set the figure to an initial 600x600px, this will subsequently be updated\n",
       "    // upon first draw.\n",
       "    this._resize_canvas(600, 600);\n",
       "\n",
       "    // Disable right mouse context menu.\n",
       "    $(this.rubberband_canvas).bind(\"contextmenu\",function(e){\n",
       "        return false;\n",
       "    });\n",
       "\n",
       "    function set_focus () {\n",
       "        canvas.focus();\n",
       "        canvas_div.focus();\n",
       "    }\n",
       "\n",
       "    window.setTimeout(set_focus, 100);\n",
       "}\n",
       "\n",
       "mpl.figure.prototype._init_toolbar = function() {\n",
       "    var fig = this;\n",
       "\n",
       "    var nav_element = $('<div/>')\n",
       "    nav_element.attr('style', 'width: 100%');\n",
       "    this.root.append(nav_element);\n",
       "\n",
       "    // Define a callback function for later on.\n",
       "    function toolbar_event(event) {\n",
       "        return fig.toolbar_button_onclick(event['data']);\n",
       "    }\n",
       "    function toolbar_mouse_event(event) {\n",
       "        return fig.toolbar_button_onmouseover(event['data']);\n",
       "    }\n",
       "\n",
       "    for(var toolbar_ind in mpl.toolbar_items) {\n",
       "        var name = mpl.toolbar_items[toolbar_ind][0];\n",
       "        var tooltip = mpl.toolbar_items[toolbar_ind][1];\n",
       "        var image = mpl.toolbar_items[toolbar_ind][2];\n",
       "        var method_name = mpl.toolbar_items[toolbar_ind][3];\n",
       "\n",
       "        if (!name) {\n",
       "            // put a spacer in here.\n",
       "            continue;\n",
       "        }\n",
       "        var button = $('<button/>');\n",
       "        button.addClass('ui-button ui-widget ui-state-default ui-corner-all ' +\n",
       "                        'ui-button-icon-only');\n",
       "        button.attr('role', 'button');\n",
       "        button.attr('aria-disabled', 'false');\n",
       "        button.click(method_name, toolbar_event);\n",
       "        button.mouseover(tooltip, toolbar_mouse_event);\n",
       "\n",
       "        var icon_img = $('<span/>');\n",
       "        icon_img.addClass('ui-button-icon-primary ui-icon');\n",
       "        icon_img.addClass(image);\n",
       "        icon_img.addClass('ui-corner-all');\n",
       "\n",
       "        var tooltip_span = $('<span/>');\n",
       "        tooltip_span.addClass('ui-button-text');\n",
       "        tooltip_span.html(tooltip);\n",
       "\n",
       "        button.append(icon_img);\n",
       "        button.append(tooltip_span);\n",
       "\n",
       "        nav_element.append(button);\n",
       "    }\n",
       "\n",
       "    var fmt_picker_span = $('<span/>');\n",
       "\n",
       "    var fmt_picker = $('<select/>');\n",
       "    fmt_picker.addClass('mpl-toolbar-option ui-widget ui-widget-content');\n",
       "    fmt_picker_span.append(fmt_picker);\n",
       "    nav_element.append(fmt_picker_span);\n",
       "    this.format_dropdown = fmt_picker[0];\n",
       "\n",
       "    for (var ind in mpl.extensions) {\n",
       "        var fmt = mpl.extensions[ind];\n",
       "        var option = $(\n",
       "            '<option/>', {selected: fmt === mpl.default_extension}).html(fmt);\n",
       "        fmt_picker.append(option)\n",
       "    }\n",
       "\n",
       "    // Add hover states to the ui-buttons\n",
       "    $( \".ui-button\" ).hover(\n",
       "        function() { $(this).addClass(\"ui-state-hover\");},\n",
       "        function() { $(this).removeClass(\"ui-state-hover\");}\n",
       "    );\n",
       "\n",
       "    var status_bar = $('<span class=\"mpl-message\"/>');\n",
       "    nav_element.append(status_bar);\n",
       "    this.message = status_bar[0];\n",
       "}\n",
       "\n",
       "mpl.figure.prototype.request_resize = function(x_pixels, y_pixels) {\n",
       "    // Request matplotlib to resize the figure. Matplotlib will then trigger a resize in the client,\n",
       "    // which will in turn request a refresh of the image.\n",
       "    this.send_message('resize', {'width': x_pixels, 'height': y_pixels});\n",
       "}\n",
       "\n",
       "mpl.figure.prototype.send_message = function(type, properties) {\n",
       "    properties['type'] = type;\n",
       "    properties['figure_id'] = this.id;\n",
       "    this.ws.send(JSON.stringify(properties));\n",
       "}\n",
       "\n",
       "mpl.figure.prototype.send_draw_message = function() {\n",
       "    if (!this.waiting) {\n",
       "        this.waiting = true;\n",
       "        this.ws.send(JSON.stringify({type: \"draw\", figure_id: this.id}));\n",
       "    }\n",
       "}\n",
       "\n",
       "\n",
       "mpl.figure.prototype.handle_save = function(fig, msg) {\n",
       "    var format_dropdown = fig.format_dropdown;\n",
       "    var format = format_dropdown.options[format_dropdown.selectedIndex].value;\n",
       "    fig.ondownload(fig, format);\n",
       "}\n",
       "\n",
       "\n",
       "mpl.figure.prototype.handle_resize = function(fig, msg) {\n",
       "    var size = msg['size'];\n",
       "    if (size[0] != fig.canvas.width || size[1] != fig.canvas.height) {\n",
       "        fig._resize_canvas(size[0], size[1]);\n",
       "        fig.send_message(\"refresh\", {});\n",
       "    };\n",
       "}\n",
       "\n",
       "mpl.figure.prototype.handle_rubberband = function(fig, msg) {\n",
       "    var x0 = msg['x0'] / mpl.ratio;\n",
       "    var y0 = (fig.canvas.height - msg['y0']) / mpl.ratio;\n",
       "    var x1 = msg['x1'] / mpl.ratio;\n",
       "    var y1 = (fig.canvas.height - msg['y1']) / mpl.ratio;\n",
       "    x0 = Math.floor(x0) + 0.5;\n",
       "    y0 = Math.floor(y0) + 0.5;\n",
       "    x1 = Math.floor(x1) + 0.5;\n",
       "    y1 = Math.floor(y1) + 0.5;\n",
       "    var min_x = Math.min(x0, x1);\n",
       "    var min_y = Math.min(y0, y1);\n",
       "    var width = Math.abs(x1 - x0);\n",
       "    var height = Math.abs(y1 - y0);\n",
       "\n",
       "    fig.rubberband_context.clearRect(\n",
       "        0, 0, fig.canvas.width, fig.canvas.height);\n",
       "\n",
       "    fig.rubberband_context.strokeRect(min_x, min_y, width, height);\n",
       "}\n",
       "\n",
       "mpl.figure.prototype.handle_figure_label = function(fig, msg) {\n",
       "    // Updates the figure title.\n",
       "    fig.header.textContent = msg['label'];\n",
       "}\n",
       "\n",
       "mpl.figure.prototype.handle_cursor = function(fig, msg) {\n",
       "    var cursor = msg['cursor'];\n",
       "    switch(cursor)\n",
       "    {\n",
       "    case 0:\n",
       "        cursor = 'pointer';\n",
       "        break;\n",
       "    case 1:\n",
       "        cursor = 'default';\n",
       "        break;\n",
       "    case 2:\n",
       "        cursor = 'crosshair';\n",
       "        break;\n",
       "    case 3:\n",
       "        cursor = 'move';\n",
       "        break;\n",
       "    }\n",
       "    fig.rubberband_canvas.style.cursor = cursor;\n",
       "}\n",
       "\n",
       "mpl.figure.prototype.handle_message = function(fig, msg) {\n",
       "    fig.message.textContent = msg['message'];\n",
       "}\n",
       "\n",
       "mpl.figure.prototype.handle_draw = function(fig, msg) {\n",
       "    // Request the server to send over a new figure.\n",
       "    fig.send_draw_message();\n",
       "}\n",
       "\n",
       "mpl.figure.prototype.handle_image_mode = function(fig, msg) {\n",
       "    fig.image_mode = msg['mode'];\n",
       "}\n",
       "\n",
       "mpl.figure.prototype.updated_canvas_event = function() {\n",
       "    // Called whenever the canvas gets updated.\n",
       "    this.send_message(\"ack\", {});\n",
       "}\n",
       "\n",
       "// A function to construct a web socket function for onmessage handling.\n",
       "// Called in the figure constructor.\n",
       "mpl.figure.prototype._make_on_message_function = function(fig) {\n",
       "    return function socket_on_message(evt) {\n",
       "        if (evt.data instanceof Blob) {\n",
       "            /* FIXME: We get \"Resource interpreted as Image but\n",
       "             * transferred with MIME type text/plain:\" errors on\n",
       "             * Chrome.  But how to set the MIME type?  It doesn't seem\n",
       "             * to be part of the websocket stream */\n",
       "            evt.data.type = \"image/png\";\n",
       "\n",
       "            /* Free the memory for the previous frames */\n",
       "            if (fig.imageObj.src) {\n",
       "                (window.URL || window.webkitURL).revokeObjectURL(\n",
       "                    fig.imageObj.src);\n",
       "            }\n",
       "\n",
       "            fig.imageObj.src = (window.URL || window.webkitURL).createObjectURL(\n",
       "                evt.data);\n",
       "            fig.updated_canvas_event();\n",
       "            fig.waiting = false;\n",
       "            return;\n",
       "        }\n",
       "        else if (typeof evt.data === 'string' && evt.data.slice(0, 21) == \"data:image/png;base64\") {\n",
       "            fig.imageObj.src = evt.data;\n",
       "            fig.updated_canvas_event();\n",
       "            fig.waiting = false;\n",
       "            return;\n",
       "        }\n",
       "\n",
       "        var msg = JSON.parse(evt.data);\n",
       "        var msg_type = msg['type'];\n",
       "\n",
       "        // Call the  \"handle_{type}\" callback, which takes\n",
       "        // the figure and JSON message as its only arguments.\n",
       "        try {\n",
       "            var callback = fig[\"handle_\" + msg_type];\n",
       "        } catch (e) {\n",
       "            console.log(\"No handler for the '\" + msg_type + \"' message type: \", msg);\n",
       "            return;\n",
       "        }\n",
       "\n",
       "        if (callback) {\n",
       "            try {\n",
       "                // console.log(\"Handling '\" + msg_type + \"' message: \", msg);\n",
       "                callback(fig, msg);\n",
       "            } catch (e) {\n",
       "                console.log(\"Exception inside the 'handler_\" + msg_type + \"' callback:\", e, e.stack, msg);\n",
       "            }\n",
       "        }\n",
       "    };\n",
       "}\n",
       "\n",
       "// from http://stackoverflow.com/questions/1114465/getting-mouse-location-in-canvas\n",
       "mpl.findpos = function(e) {\n",
       "    //this section is from http://www.quirksmode.org/js/events_properties.html\n",
       "    var targ;\n",
       "    if (!e)\n",
       "        e = window.event;\n",
       "    if (e.target)\n",
       "        targ = e.target;\n",
       "    else if (e.srcElement)\n",
       "        targ = e.srcElement;\n",
       "    if (targ.nodeType == 3) // defeat Safari bug\n",
       "        targ = targ.parentNode;\n",
       "\n",
       "    // jQuery normalizes the pageX and pageY\n",
       "    // pageX,Y are the mouse positions relative to the document\n",
       "    // offset() returns the position of the element relative to the document\n",
       "    var x = e.pageX - $(targ).offset().left;\n",
       "    var y = e.pageY - $(targ).offset().top;\n",
       "\n",
       "    return {\"x\": x, \"y\": y};\n",
       "};\n",
       "\n",
       "/*\n",
       " * return a copy of an object with only non-object keys\n",
       " * we need this to avoid circular references\n",
       " * http://stackoverflow.com/a/24161582/3208463\n",
       " */\n",
       "function simpleKeys (original) {\n",
       "  return Object.keys(original).reduce(function (obj, key) {\n",
       "    if (typeof original[key] !== 'object')\n",
       "        obj[key] = original[key]\n",
       "    return obj;\n",
       "  }, {});\n",
       "}\n",
       "\n",
       "mpl.figure.prototype.mouse_event = function(event, name) {\n",
       "    var canvas_pos = mpl.findpos(event)\n",
       "\n",
       "    if (name === 'button_press')\n",
       "    {\n",
       "        this.canvas.focus();\n",
       "        this.canvas_div.focus();\n",
       "    }\n",
       "\n",
       "    var x = canvas_pos.x * mpl.ratio;\n",
       "    var y = canvas_pos.y * mpl.ratio;\n",
       "\n",
       "    this.send_message(name, {x: x, y: y, button: event.button,\n",
       "                             step: event.step,\n",
       "                             guiEvent: simpleKeys(event)});\n",
       "\n",
       "    /* This prevents the web browser from automatically changing to\n",
       "     * the text insertion cursor when the button is pressed.  We want\n",
       "     * to control all of the cursor setting manually through the\n",
       "     * 'cursor' event from matplotlib */\n",
       "    event.preventDefault();\n",
       "    return false;\n",
       "}\n",
       "\n",
       "mpl.figure.prototype._key_event_extra = function(event, name) {\n",
       "    // Handle any extra behaviour associated with a key event\n",
       "}\n",
       "\n",
       "mpl.figure.prototype.key_event = function(event, name) {\n",
       "\n",
       "    // Prevent repeat events\n",
       "    if (name == 'key_press')\n",
       "    {\n",
       "        if (event.which === this._key)\n",
       "            return;\n",
       "        else\n",
       "            this._key = event.which;\n",
       "    }\n",
       "    if (name == 'key_release')\n",
       "        this._key = null;\n",
       "\n",
       "    var value = '';\n",
       "    if (event.ctrlKey && event.which != 17)\n",
       "        value += \"ctrl+\";\n",
       "    if (event.altKey && event.which != 18)\n",
       "        value += \"alt+\";\n",
       "    if (event.shiftKey && event.which != 16)\n",
       "        value += \"shift+\";\n",
       "\n",
       "    value += 'k';\n",
       "    value += event.which.toString();\n",
       "\n",
       "    this._key_event_extra(event, name);\n",
       "\n",
       "    this.send_message(name, {key: value,\n",
       "                             guiEvent: simpleKeys(event)});\n",
       "    return false;\n",
       "}\n",
       "\n",
       "mpl.figure.prototype.toolbar_button_onclick = function(name) {\n",
       "    if (name == 'download') {\n",
       "        this.handle_save(this, null);\n",
       "    } else {\n",
       "        this.send_message(\"toolbar_button\", {name: name});\n",
       "    }\n",
       "};\n",
       "\n",
       "mpl.figure.prototype.toolbar_button_onmouseover = function(tooltip) {\n",
       "    this.message.textContent = tooltip;\n",
       "};\n",
       "mpl.toolbar_items = [[\"Home\", \"Reset original view\", \"fa fa-home icon-home\", \"home\"], [\"Back\", \"Back to previous view\", \"fa fa-arrow-left icon-arrow-left\", \"back\"], [\"Forward\", \"Forward to next view\", \"fa fa-arrow-right icon-arrow-right\", \"forward\"], [\"\", \"\", \"\", \"\"], [\"Pan\", \"Pan axes with left mouse, zoom with right\", \"fa fa-arrows icon-move\", \"pan\"], [\"Zoom\", \"Zoom to rectangle\", \"fa fa-square-o icon-check-empty\", \"zoom\"], [\"\", \"\", \"\", \"\"], [\"Download\", \"Download plot\", \"fa fa-floppy-o icon-save\", \"download\"]];\n",
       "\n",
       "mpl.extensions = [\"eps\", \"pdf\", \"png\", \"ps\", \"raw\", \"svg\"];\n",
       "\n",
       "mpl.default_extension = \"png\";var comm_websocket_adapter = function(comm) {\n",
       "    // Create a \"websocket\"-like object which calls the given IPython comm\n",
       "    // object with the appropriate methods. Currently this is a non binary\n",
       "    // socket, so there is still some room for performance tuning.\n",
       "    var ws = {};\n",
       "\n",
       "    ws.close = function() {\n",
       "        comm.close()\n",
       "    };\n",
       "    ws.send = function(m) {\n",
       "        //console.log('sending', m);\n",
       "        comm.send(m);\n",
       "    };\n",
       "    // Register the callback with on_msg.\n",
       "    comm.on_msg(function(msg) {\n",
       "        //console.log('receiving', msg['content']['data'], msg);\n",
       "        // Pass the mpl event to the overridden (by mpl) onmessage function.\n",
       "        ws.onmessage(msg['content']['data'])\n",
       "    });\n",
       "    return ws;\n",
       "}\n",
       "\n",
       "mpl.mpl_figure_comm = function(comm, msg) {\n",
       "    // This is the function which gets called when the mpl process\n",
       "    // starts-up an IPython Comm through the \"matplotlib\" channel.\n",
       "\n",
       "    var id = msg.content.data.id;\n",
       "    // Get hold of the div created by the display call when the Comm\n",
       "    // socket was opened in Python.\n",
       "    var element = $(\"#\" + id);\n",
       "    var ws_proxy = comm_websocket_adapter(comm)\n",
       "\n",
       "    function ondownload(figure, format) {\n",
       "        window.open(figure.imageObj.src);\n",
       "    }\n",
       "\n",
       "    var fig = new mpl.figure(id, ws_proxy,\n",
       "                           ondownload,\n",
       "                           element.get(0));\n",
       "\n",
       "    // Call onopen now - mpl needs it, as it is assuming we've passed it a real\n",
       "    // web socket which is closed, not our websocket->open comm proxy.\n",
       "    ws_proxy.onopen();\n",
       "\n",
       "    fig.parent_element = element.get(0);\n",
       "    fig.cell_info = mpl.find_output_cell(\"<div id='\" + id + \"'></div>\");\n",
       "    if (!fig.cell_info) {\n",
       "        console.error(\"Failed to find cell for figure\", id, fig);\n",
       "        return;\n",
       "    }\n",
       "\n",
       "    var output_index = fig.cell_info[2]\n",
       "    var cell = fig.cell_info[0];\n",
       "\n",
       "};\n",
       "\n",
       "mpl.figure.prototype.handle_close = function(fig, msg) {\n",
       "    var width = fig.canvas.width/mpl.ratio\n",
       "    fig.root.unbind('remove')\n",
       "\n",
       "    // Update the output cell to use the data from the current canvas.\n",
       "    fig.push_to_output();\n",
       "    var dataURL = fig.canvas.toDataURL();\n",
       "    // Re-enable the keyboard manager in IPython - without this line, in FF,\n",
       "    // the notebook keyboard shortcuts fail.\n",
       "    IPython.keyboard_manager.enable()\n",
       "    $(fig.parent_element).html('<img src=\"' + dataURL + '\" width=\"' + width + '\">');\n",
       "    fig.close_ws(fig, msg);\n",
       "}\n",
       "\n",
       "mpl.figure.prototype.close_ws = function(fig, msg){\n",
       "    fig.send_message('closing', msg);\n",
       "    // fig.ws.close()\n",
       "}\n",
       "\n",
       "mpl.figure.prototype.push_to_output = function(remove_interactive) {\n",
       "    // Turn the data on the canvas into data in the output cell.\n",
       "    var width = this.canvas.width/mpl.ratio\n",
       "    var dataURL = this.canvas.toDataURL();\n",
       "    this.cell_info[1]['text/html'] = '<img src=\"' + dataURL + '\" width=\"' + width + '\">';\n",
       "}\n",
       "\n",
       "mpl.figure.prototype.updated_canvas_event = function() {\n",
       "    // Tell IPython that the notebook contents must change.\n",
       "    IPython.notebook.set_dirty(true);\n",
       "    this.send_message(\"ack\", {});\n",
       "    var fig = this;\n",
       "    // Wait a second, then push the new image to the DOM so\n",
       "    // that it is saved nicely (might be nice to debounce this).\n",
       "    setTimeout(function () { fig.push_to_output() }, 1000);\n",
       "}\n",
       "\n",
       "mpl.figure.prototype._init_toolbar = function() {\n",
       "    var fig = this;\n",
       "\n",
       "    var nav_element = $('<div/>')\n",
       "    nav_element.attr('style', 'width: 100%');\n",
       "    this.root.append(nav_element);\n",
       "\n",
       "    // Define a callback function for later on.\n",
       "    function toolbar_event(event) {\n",
       "        return fig.toolbar_button_onclick(event['data']);\n",
       "    }\n",
       "    function toolbar_mouse_event(event) {\n",
       "        return fig.toolbar_button_onmouseover(event['data']);\n",
       "    }\n",
       "\n",
       "    for(var toolbar_ind in mpl.toolbar_items){\n",
       "        var name = mpl.toolbar_items[toolbar_ind][0];\n",
       "        var tooltip = mpl.toolbar_items[toolbar_ind][1];\n",
       "        var image = mpl.toolbar_items[toolbar_ind][2];\n",
       "        var method_name = mpl.toolbar_items[toolbar_ind][3];\n",
       "\n",
       "        if (!name) { continue; };\n",
       "\n",
       "        var button = $('<button class=\"btn btn-default\" href=\"#\" title=\"' + name + '\"><i class=\"fa ' + image + ' fa-lg\"></i></button>');\n",
       "        button.click(method_name, toolbar_event);\n",
       "        button.mouseover(tooltip, toolbar_mouse_event);\n",
       "        nav_element.append(button);\n",
       "    }\n",
       "\n",
       "    // Add the status bar.\n",
       "    var status_bar = $('<span class=\"mpl-message\" style=\"text-align:right; float: right;\"/>');\n",
       "    nav_element.append(status_bar);\n",
       "    this.message = status_bar[0];\n",
       "\n",
       "    // Add the close button to the window.\n",
       "    var buttongrp = $('<div class=\"btn-group inline pull-right\"></div>');\n",
       "    var button = $('<button class=\"btn btn-mini btn-primary\" href=\"#\" title=\"Stop Interaction\"><i class=\"fa fa-power-off icon-remove icon-large\"></i></button>');\n",
       "    button.click(function (evt) { fig.handle_close(fig, {}); } );\n",
       "    button.mouseover('Stop Interaction', toolbar_mouse_event);\n",
       "    buttongrp.append(button);\n",
       "    var titlebar = this.root.find($('.ui-dialog-titlebar'));\n",
       "    titlebar.prepend(buttongrp);\n",
       "}\n",
       "\n",
       "mpl.figure.prototype._root_extra_style = function(el){\n",
       "    var fig = this\n",
       "    el.on(\"remove\", function(){\n",
       "\tfig.close_ws(fig, {});\n",
       "    });\n",
       "}\n",
       "\n",
       "mpl.figure.prototype._canvas_extra_style = function(el){\n",
       "    // this is important to make the div 'focusable\n",
       "    el.attr('tabindex', 0)\n",
       "    // reach out to IPython and tell the keyboard manager to turn it's self\n",
       "    // off when our div gets focus\n",
       "\n",
       "    // location in version 3\n",
       "    if (IPython.notebook.keyboard_manager) {\n",
       "        IPython.notebook.keyboard_manager.register_events(el);\n",
       "    }\n",
       "    else {\n",
       "        // location in version 2\n",
       "        IPython.keyboard_manager.register_events(el);\n",
       "    }\n",
       "\n",
       "}\n",
       "\n",
       "mpl.figure.prototype._key_event_extra = function(event, name) {\n",
       "    var manager = IPython.notebook.keyboard_manager;\n",
       "    if (!manager)\n",
       "        manager = IPython.keyboard_manager;\n",
       "\n",
       "    // Check for shift+enter\n",
       "    if (event.shiftKey && event.which == 13) {\n",
       "        this.canvas_div.blur();\n",
       "        event.shiftKey = false;\n",
       "        // Send a \"J\" for go to next cell\n",
       "        event.which = 74;\n",
       "        event.keyCode = 74;\n",
       "        manager.command_mode();\n",
       "        manager.handle_keydown(event);\n",
       "    }\n",
       "}\n",
       "\n",
       "mpl.figure.prototype.handle_save = function(fig, msg) {\n",
       "    fig.ondownload(fig, null);\n",
       "}\n",
       "\n",
       "\n",
       "mpl.find_output_cell = function(html_output) {\n",
       "    // Return the cell and output element which can be found *uniquely* in the notebook.\n",
       "    // Note - this is a bit hacky, but it is done because the \"notebook_saving.Notebook\"\n",
       "    // IPython event is triggered only after the cells have been serialised, which for\n",
       "    // our purposes (turning an active figure into a static one), is too late.\n",
       "    var cells = IPython.notebook.get_cells();\n",
       "    var ncells = cells.length;\n",
       "    for (var i=0; i<ncells; i++) {\n",
       "        var cell = cells[i];\n",
       "        if (cell.cell_type === 'code'){\n",
       "            for (var j=0; j<cell.output_area.outputs.length; j++) {\n",
       "                var data = cell.output_area.outputs[j];\n",
       "                if (data.data) {\n",
       "                    // IPython >= 3 moved mimebundle to data attribute of output\n",
       "                    data = data.data;\n",
       "                }\n",
       "                if (data['text/html'] == html_output) {\n",
       "                    return [cell, data, j];\n",
       "                }\n",
       "            }\n",
       "        }\n",
       "    }\n",
       "}\n",
       "\n",
       "// Register the function which deals with the matplotlib target/channel.\n",
       "// The kernel may be null if the page has been refreshed.\n",
       "if (IPython.notebook.kernel != null) {\n",
       "    IPython.notebook.kernel.comm_manager.register_target('matplotlib', mpl.mpl_figure_comm);\n",
       "}\n"
      ],
      "text/plain": [
       "<IPython.core.display.Javascript object>"
      ]
     },
     "metadata": {},
     "output_type": "display_data"
    },
    {
     "data": {
      "text/html": [
       "<img src=\"data:image/png;base64,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\" width=\"899.9999479814039\">"
      ],
      "text/plain": [
       "<IPython.core.display.HTML object>"
      ]
     },
     "metadata": {},
     "output_type": "display_data"
    },
    {
     "data": {
      "application/vnd.jupyter.widget-view+json": {
       "model_id": "58b64ead9ca84e9d88c563712f3db139",
       "version_major": 2,
       "version_minor": 0
      },
      "text/plain": [
       "Output()"
      ]
     },
     "metadata": {},
     "output_type": "display_data"
    }
   ],
   "source": [
    "# log data\n",
    "log_stepped_sine = lab_3c6.measure_stepped_sine(settings)"
   ]
  },
  {
   "cell_type": "markdown",
   "metadata": {},
   "source": [
    "__Make sure you remembered to save both the data and the figure!__"
   ]
  },
  {
   "cell_type": "code",
   "execution_count": null,
   "metadata": {},
   "outputs": [],
   "source": [
    "data_stepped_sine = dvma.load_data()"
   ]
  },
  {
   "cell_type": "code",
   "execution_count": null,
   "metadata": {},
   "outputs": [],
   "source": [
    "# process and view\n",
    "data_stepped_sine=dvma.load_data()\n",
    "dvma.PlotData(data_stepped_sine)"
   ]
  },
  {
   "cell_type": "markdown",
   "metadata": {},
   "source": [
    "### Noise input\n",
    "\n",
    "The sine-wave method of obtaining the admittance, as you will now know, is laborious and not particularly accurate unless considerable care is taken. An improvement is to employ a forcing signal which contains the whole range of frequencies simultaneously, and to use Fourier analysis to sort out both the input and output signals into frequency components, and thus to obtain the transfer function. One kind of forcing signal which has a broad range of frequency components is random noise. Switch to “Noise” on the selector, and you will hear the sound of the cantilever system responding to such a signal, generated by an analogue noise generator."
   ]
  },
  {
   "cell_type": "markdown",
   "metadata": {},
   "source": [
    "You can bring up the oscilloscope at any time using:"
   ]
  },
  {
   "cell_type": "code",
   "execution_count": null,
   "metadata": {},
   "outputs": [],
   "source": [
    "osc = dvma.Oscilloscope(settings)"
   ]
  },
  {
   "cell_type": "markdown",
   "metadata": {},
   "source": [
    "We will explore the effect of some different logging options: first change the settings to store 2 seconds of data, and start logging:"
   ]
  },
  {
   "cell_type": "code",
   "execution_count": null,
   "metadata": {},
   "outputs": [],
   "source": [
    "# acquisition setup\n",
    "settings.stored_time = 2\n",
    "data_noise_2s = dvma.log_data(settings)\n",
    "dvma.save_data(data_noise_2s)"
   ]
  },
  {
   "cell_type": "markdown",
   "metadata": {},
   "source": [
    "Next try logging 30 seconds of data:"
   ]
  },
  {
   "cell_type": "code",
   "execution_count": null,
   "metadata": {},
   "outputs": [],
   "source": [
    "# log data\n",
    "settings.stored_time = 30\n",
    "data_noise_30s = dvma.log_data(settings)\n",
    "dvma.save_data(data_noise_30s)\n"
   ]
  },
  {
   "cell_type": "code",
   "execution_count": null,
   "metadata": {},
   "outputs": [],
   "source": [
    "data_stepped_sine = dvma.load_data()\n",
    "data_noise_2s = dvma.load_data()\n",
    "data_noise_30s = dvma.load_data()"
   ]
  },
  {
   "cell_type": "markdown",
   "metadata": {},
   "source": [
    "These datasets contain the raw time-series data. We can calculate the FFT and the transfer functions as follows:"
   ]
  },
  {
   "cell_type": "code",
   "execution_count": null,
   "metadata": {},
   "outputs": [],
   "source": [
    "data_noise_2s.calculate_fft_set(window=True)\n",
    "data_noise_2s.calculate_tf_set()\n",
    "\n",
    "data_noise_30s.calculate_fft_set(window=True)\n",
    "data_noise_30s.calculate_tf_set()"
   ]
  },
  {
   "cell_type": "markdown",
   "metadata": {},
   "source": [
    "Plot the datasets and compare:"
   ]
  },
  {
   "cell_type": "code",
   "execution_count": null,
   "metadata": {},
   "outputs": [],
   "source": [
    "dvma.PlotData(data_noise_2s.tf_data_list)"
   ]
  },
  {
   "cell_type": "code",
   "execution_count": null,
   "metadata": {},
   "outputs": [],
   "source": [
    "dvma.PlotData(data_noise_30s.tf_data_list)"
   ]
  },
  {
   "cell_type": "markdown",
   "metadata": {},
   "source": [
    "To smooth out the transfer functions we can average the data: recall that the transfer function is given by:\n",
    "\n",
    "$$G(\\omega) = \\frac{E[YX^*]}{E[XX^*]}$$\n",
    "\n",
    "where $X$ and $Y$ are the FFTs of the input and output respectively, and $E[\\cdot]$ denotes the expectation (or average). If we take the whole time series then no averages are taken. But we can split the time data into sections (or 'frames'), calculate the FFT of each frame, then take the averages of those.\n",
    "\n",
    "Use the interactive slider below to explore the effect of changing the number of frames:"
   ]
  },
  {
   "cell_type": "code",
   "execution_count": null,
   "metadata": {},
   "outputs": [],
   "source": [
    "# Load 3c6 widget\n",
    "lab_3c6.test_num_frames(data_noise_30s.time_data_list[0])"
   ]
  },
  {
   "cell_type": "markdown",
   "metadata": {},
   "source": [
    "Plot the cases N_frames=1, N_frames=30, and the choice of N_frames that you think gives the best data."
   ]
  },
  {
   "cell_type": "code",
   "execution_count": null,
   "metadata": {},
   "outputs": [],
   "source": [
    "tf_data1 = dvma.calculate_tf(data_noise_30s.time_data_list[0], N_frames=1)\n",
    "dvma.PlotData(tf_data1)"
   ]
  },
  {
   "cell_type": "code",
   "execution_count": null,
   "metadata": {},
   "outputs": [],
   "source": [
    "tf_data = dvma.calculate_tf(data_noise_30s.time_data_list[0], N_frames=30)\n",
    "dvma.PlotData(tf_data2)"
   ]
  },
  {
   "cell_type": "code",
   "execution_count": null,
   "metadata": {},
   "outputs": [],
   "source": [
    "tf_data3 = dvma.calculate_tf(data_noise_30s.time_data_list[0], N_frames=2)\n",
    "dvma.PlotData(tf_data3)"
   ]
  },
  {
   "cell_type": "code",
   "execution_count": null,
   "metadata": {},
   "outputs": [],
   "source": [
    "data_noise_30s.add_to_dataset([tf_data1,tf_data2,tf_data3])\n",
    "print(data_noise_30s)"
   ]
  },
  {
   "cell_type": "code",
   "execution_count": null,
   "metadata": {},
   "outputs": [],
   "source": [
    "data_noise_30s.save_data()"
   ]
  },
  {
   "cell_type": "markdown",
   "metadata": {},
   "source": [
    "### Hammer input\n",
    "\n",
    "There is an entirely different kind of forcing signal which contains a broad range of frequencies. This arises if you excite the structure impulsively with a short pulse. This could be done using the shaker, but it is more naturally done using a hammer. Remove the magnet and rod which attaches the shaker to the beams, then move the accelerometer to the underneath of the beams to the position where this coupling was previously attached. Switch the selector to “Hammer”. "
   ]
  },
  {
   "cell_type": "code",
   "execution_count": null,
   "metadata": {},
   "outputs": [],
   "source": [
    "# acquisition setup\n",
    "settings.stored_time = 6\n",
    "settings.pretrig_samples = 100"
   ]
  },
  {
   "cell_type": "markdown",
   "metadata": {},
   "source": [
    "You can now capture the response of the system to a gentle tap with the instrumented hammer: tap on the top of the beams vertically above the accelerometer. Provided you tap within 20 s of starting logging, the computer will detect the moment when your input signal (the hammer force) exceeds a threshold value, and it will automatically save the signal starting just before this moment, by the 200 samples specified by the pretrigger variable.\n",
    "\n",
    "__Data will be collected by the computer for 6 s: hold the hammer still until it is finished, and don’t put it down on the bench.__\n",
    "\n",
    "__Check your hammer impulse in the time-domain display window. Is it clipped? Was there a single, clean impact or multiple impacts? Be prepared to practice your tapping technique until you get good results. Don't proceed until you've got a single clean impulse. Was there any vibration before the impulse? Make sure the beams were not still vibrating from a previous impulse. Did you hear any rattling or buzzing sounds? Try a lighter tap.__"
   ]
  },
  {
   "cell_type": "code",
   "execution_count": null,
   "metadata": {},
   "outputs": [],
   "source": [
    "data_hammer_single = dvma.log_data(settings)"
   ]
  },
  {
   "cell_type": "markdown",
   "metadata": {},
   "source": [
    "The data logger converts voltages in the range $\\pm 5$ V into discrete levels with 16-bit accuracy. If the sampled numbers, which are in Volts, are much less than about 0.5 V, then some useful dynamic range has been wasted. But if 5 V is actually achieved, then the signal has been clipped. This will produce nonlinearity in the frequency response. The program will warn you if either signal is clipped: repeat the measurement if so.\n",
    "\n",
    "Before looking at the transfer function, it is always prudent to examine the time signals of both input and output, and you should do this. If you zoom in on the time signals, you will see the individual samples. Examine the hammer pulse in detail: find out how long it is, and comment in your write-up on what governs this length, and what influence it might have on the transfer function. Examine the signals, both input and output, before the hammer strike. They are probably slightly non-zero: are there different reasons for the input and the output?"
   ]
  },
  {
   "cell_type": "code",
   "execution_count": null,
   "metadata": {},
   "outputs": [],
   "source": [
    "dvma.PlotData(data_hammer_single.time_data_list)"
   ]
  },
  {
   "cell_type": "markdown",
   "metadata": {},
   "source": [
    "Next, calculate frequency spectra with the FFT option, and look at the spectra of input and output signals. What governs the form of the input spectrum? What force spectrum would you expect from an ideal impulse? Why does the spectrum tail off at high frequencies? Why does it tail off at low frequencies? "
   ]
  },
  {
   "cell_type": "code",
   "execution_count": null,
   "metadata": {},
   "outputs": [],
   "source": [
    "data_hammer_single.calculate_fft_set(window=False)"
   ]
  },
  {
   "cell_type": "code",
   "execution_count": null,
   "metadata": {},
   "outputs": [],
   "source": [
    "dvma.PlotData(data_hammer_single.freq_data_list)"
   ]
  },
  {
   "cell_type": "markdown",
   "metadata": {},
   "source": [
    "Obtain a transfer function to compare with those obtained by the earlier methods. You should find that the result is satisfactory, with sharp clear peaks and troughs, without any need for averaging. If it is not, try again. You may have to develop your hammering technique a little to obtain best results. If you find it hard to get a clean transfer function then try moving the magnet, and checking that the brass coupling rod between the beams is well seated. It takes very little time to repeat the impulse response procedure. __You will find the write-up much easier with good data.__"
   ]
  },
  {
   "cell_type": "code",
   "execution_count": null,
   "metadata": {},
   "outputs": [],
   "source": [
    "data_hammer_single.calculate_tf_set(window=None)"
   ]
  },
  {
   "cell_type": "code",
   "execution_count": null,
   "metadata": {},
   "outputs": [],
   "source": [
    "dvma.PlotData(data_hammer_single.tf_data_list)"
   ]
  },
  {
   "cell_type": "code",
   "execution_count": null,
   "metadata": {},
   "outputs": [],
   "source": [
    "dvma.save_data(data_hammer_single)"
   ]
  },
  {
   "cell_type": "markdown",
   "metadata": {},
   "source": [
    "Try measuring an averaged transfer function using the hammer, as you did with the random noise excitation. You should find that just two or three hammer taps are sufficient to produce excellent coherence in the frequency range up to 500 Hz."
   ]
  },
  {
   "cell_type": "code",
   "execution_count": null,
   "metadata": {},
   "outputs": [],
   "source": [
    "# load the 3c6 measurement widget\n",
    "log = dvma.InteractiveLogging(settings)"
   ]
  },
  {
   "cell_type": "markdown",
   "metadata": {},
   "source": [
    "Now calculate the averaged transfer functions across the set of measurements:"
   ]
  },
  {
   "cell_type": "code",
   "execution_count": null,
   "metadata": {},
   "outputs": [],
   "source": [
    "data_hammer_set.calculate_tf_averaged(window=None)"
   ]
  },
  {
   "cell_type": "code",
   "execution_count": null,
   "metadata": {},
   "outputs": [],
   "source": [
    "dvma.save_data(data_hammer_set)"
   ]
  },
  {
   "cell_type": "markdown",
   "metadata": {},
   "source": [
    "Now create a new dataset that contains the transfer functions from your previous measurements, and plot your results."
   ]
  },
  {
   "cell_type": "code",
   "execution_count": null,
   "metadata": {},
   "outputs": [],
   "source": [
    "data_all = dvma.DataSet()\n",
    "data_all.add_to_dataset(data_stepped_sine.tf_data_list)\n",
    "data_all.add_to_dataset(data_noise_30s.tf_data_list)\n",
    "data_all.add_to_dataset(data_hammer_set.tf_data_list)\n",
    "tf_plot = dvma.PlotData(data_all)"
   ]
  },
  {
   "cell_type": "markdown",
   "metadata": {},
   "source": [
    "The most obvious difference should be that the hammer results are shifted vertically relative to the noise results. This is because the two input signals need different calibration factors. The computer can calculate an appropriate scale factor which would allow the peaks in the noise results to be scaled to fit those from the hammer: adjust the display window so that it shows a frequency range around the biggest two or three peaks, then "
   ]
  },
  {
   "cell_type": "code",
   "execution_count": null,
   "metadata": {},
   "outputs": [],
   "source": [
    "factors = dvma.best_match(data_all.tf_plot_list, freq_range=None,n_ref=2)"
   ]
  },
  {
   "cell_type": "markdown",
   "metadata": {},
   "source": [
    "use the option “Best match of 2 chans”. Find the Matlab Command Window, and it will show the answer. Use the option “Scale/calibrate” to apply this factor to the shaker signal.\n",
    "Now compare the results from the three measurement methods. Use the option “Superimpose sine sweep results”, specifying the same scaling factor as just determined for the noise measurements. The three methods should now show good agreement at all the resonance peaks. You should see that there are one or more resonance peaks at low frequency in the admittance functions when measured using the hammer, but not when measured using the shaker. Can you explain why? Hint: notice that the shaker force is applied between the cantilevers and the base. Why is the hammer force different? What is the consequence?"
   ]
  },
  {
   "cell_type": "markdown",
   "metadata": {},
   "source": [
    "### Calibration\n",
    "\n",
    "The final stage of the measurement is to calibrate your transfer functions to give results in physical\n",
    "units. Move the accelerometer to the suspended mass behind the cantilevers. Use the hammer to\n",
    "measure a good transfer function of this mass, swinging in a straight line. Log several measurements. Newton’s law\n",
    "tells us that this transfer function should be very simple: the force should equal the mass times the\n",
    "acceleration, and the mass (weight plus accelerometer) is given on a label on the apparatus: approximately 0.3 kg."
   ]
  },
  {
   "cell_type": "code",
   "execution_count": null,
   "metadata": {},
   "outputs": [],
   "source": [
    "data_calibration_set = dvma.DataSet()\n",
    "\n",
    "words = ['Measure', 'Undo last']\n",
    "buttons = [widgets.Button(description=w) for w in words]\n",
    "display(widgets.HBox(buttons))\n",
    "\n",
    "def measure(b):\n",
    "    global data_calibration_set\n",
    "    d = dvma.log_data(settings)\n",
    "    data_calibration_set.add_to_dataset(d.time_data_list)\n",
    "    \n",
    "def undo(b):\n",
    "    global data_calibration_set\n",
    "    data_calibration_set.remove_last_data_item('TimeData')\n",
    "\n",
    "buttons[0].on_click(measure)\n",
    "buttons[1].on_click(undo)"
   ]
  },
  {
   "cell_type": "markdown",
   "metadata": {},
   "source": [
    "Your measured transfer function relates to velocity rather than acceleration,\n",
    "so it must be converted. In the frequency domain, all that is needed is to multiply each point of the\n",
    "transfer function by $i\\omega$, using the appropriate angular frequency."
   ]
  },
  {
   "cell_type": "code",
   "execution_count": null,
   "metadata": {},
   "outputs": [],
   "source": [
    "data_calibration_set.calculate_tf_averaged(window=None)\n",
    "tf_data = data_calibration_set.tf_data_list[0]\n",
    "tf_data_acc = dvma.mutliply_by_power_of_iw(tf_data,1)\n",
    "data_calibration_set.add_to_dataset(tf_data_acc)"
   ]
  },
  {
   "cell_type": "markdown",
   "metadata": {},
   "source": [
    "Plot the transfer function: it should now show a near-horizontal line over a range of frequencies. Make your\n",
    "best estimate of the value of this constant level: to convert the decibal value back to a linear value note that\n",
    "\n",
    "$$Y_\\text{dB} = 20 \\log_{10} \\left|Y_\\text{linear}\\right|$$\n",
    "\n",
    "Hence deduce the factor by which the measured transfer function must be multiplied in order to give a\n",
    "calibrated result: apply this factor to the data from the mass to verify that your procedure is correct."
   ]
  },
  {
   "cell_type": "code",
   "execution_count": null,
   "metadata": {},
   "outputs": [],
   "source": [
    "data_hammer_single.tf_data_list[0].channel_cal_factors = [4]"
   ]
  },
  {
   "cell_type": "markdown",
   "metadata": {},
   "source": [
    "Now apply this factor (and where needed, the factor found in section 4.3) to convert the results\n",
    "of all three measurements into calibrated units. Save or print the resulting graph, as the culmination\n",
    "of this part of the experiment. What are the units of this calibrated admittance?"
   ]
  },
  {
   "cell_type": "code",
   "execution_count": null,
   "metadata": {},
   "outputs": [],
   "source": [
    "dvma.PlotData(tf_data_acc)"
   ]
  },
  {
   "cell_type": "code",
   "execution_count": null,
   "metadata": {},
   "outputs": [],
   "source": [
    "data_hammer.calibrate_data([0.0018])\n",
    "\n",
    "dva.plot(data_hammer.transferFunction)\n",
    "dva.plot(data_noise.transferFunction)\n",
    "\n",
    "factor = dva.best_match(data_hammer.freqData,data_noise.freqData, freqrange = [150,250])\n",
    "data_noise.calibrate_data(factor)\n",
    "data_steppedsine.calibrate_data(factor)"
   ]
  },
  {
   "cell_type": "markdown",
   "metadata": {},
   "source": [
    "### 3 way comparison"
   ]
  },
  {
   "cell_type": "code",
   "execution_count": null,
   "metadata": {},
   "outputs": [],
   "source": [
    "dva.plot(data_steppedsine.transferFunction)\n",
    "dva.plot(data_noise.transferFunction)\n",
    "dva.plot(data_hammer.transferFunction)"
   ]
  },
  {
   "cell_type": "markdown",
   "metadata": {},
   "source": [
    "### Coupling"
   ]
  },
  {
   "cell_type": "code",
   "execution_count": null,
   "metadata": {},
   "outputs": [],
   "source": [
    "settings = dvm.setup(labsettings = \"3c6\",\n",
    "                     preTrig = 200,\n",
    "                     trigThreshold = 0.5,\n",
    "                     logTime = 6,\n",
    "                     Naverages = 1) # change input settings ready for hammer\n",
    "td = dvm.logdata(settings, testname = \"lower beam\") # returns time data\n",
    "data_lower_beam = dva.newDataSet(td)"
   ]
  },
  {
   "cell_type": "code",
   "execution_count": null,
   "metadata": {},
   "outputs": [],
   "source": [
    "td = dvm.logdata(settings, testname = \"upper beam\") # returns time data\n",
    "data_upper_beam = dva.newDataSet(td)"
   ]
  },
  {
   "cell_type": "code",
   "execution_count": null,
   "metadata": {},
   "outputs": [],
   "source": [
    "coupled_TF = 1/(data_upper_beam.transferFunction + data_lower_beam.transferFunction)"
   ]
  },
  {
   "cell_type": "code",
   "execution_count": null,
   "metadata": {},
   "outputs": [],
   "source": [
    "dva.plot(data_hammer.transferFunction)\n",
    "dva.plot(coupled_TF)"
   ]
  },
  {
   "cell_type": "code",
   "execution_count": null,
   "metadata": {},
   "outputs": [],
   "source": []
  }
 ],
 "metadata": {
  "kernelspec": {
   "display_name": "Python 3",
   "language": "python",
   "name": "python3"
  },
  "language_info": {
   "codemirror_mode": {
    "name": "ipython",
    "version": 3
   },
   "file_extension": ".py",
   "mimetype": "text/x-python",
   "name": "python",
   "nbconvert_exporter": "python",
   "pygments_lexer": "ipython3",
   "version": "3.6.7"
  }
 },
 "nbformat": 4,
 "nbformat_minor": 2
}
