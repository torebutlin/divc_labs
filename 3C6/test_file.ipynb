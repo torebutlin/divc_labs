{
 "cells": [
  {
   "cell_type": "code",
   "execution_count": 1,
   "id": "c642b707",
   "metadata": {},
   "outputs": [
    {
     "name": "stdout",
     "output_type": "stream",
     "text": [
      "Intel MKL WARNING: Support of Intel(R) Streaming SIMD Extensions 4.2 (Intel(R) SSE4.2) enabled only processors has been deprecated. Intel oneAPI Math Kernel Library 2025.0 will require Intel(R) Advanced Vector Extensions (Intel(R) AVX) instructions.\n",
      "Intel MKL WARNING: Support of Intel(R) Streaming SIMD Extensions 4.2 (Intel(R) SSE4.2) enabled only processors has been deprecated. Intel oneAPI Math Kernel Library 2025.0 will require Intel(R) Advanced Vector Extensions (Intel(R) AVX) instructions.\n"
     ]
    }
   ],
   "source": [
    "import pydvma as dvma\n",
    "import lab_3c6"
   ]
  },
  {
   "cell_type": "code",
   "execution_count": 7,
   "id": "4ba9e9f3",
   "metadata": {},
   "outputs": [],
   "source": [
    "settings = dvma.MySettings(channels=1,\n",
    "                           fs=44100,\n",
    "                           viewed_time=1,\n",
    "                           device_driver = 'soundcard')"
   ]
  },
  {
   "cell_type": "code",
   "execution_count": 8,
   "id": "5ae640c0",
   "metadata": {},
   "outputs": [
    {
     "data": {
      "application/vnd.jupyter.widget-view+json": {
       "model_id": "1ca324e0ce3945b98baa9f05af8435d1",
       "version_major": 2,
       "version_minor": 0
      },
      "text/plain": [
       "HBox(children=(Button(button_style='success', description='Measure', layout=Layout(width='25%'), style=ButtonS…"
      ]
     },
     "metadata": {},
     "output_type": "display_data"
    },
    {
     "data": {
      "application/vnd.jupyter.widget-view+json": {
       "model_id": "312aa9ccb778489bb3c7472489f16bd6",
       "version_major": 2,
       "version_minor": 0
      },
      "text/plain": [
       "Output()"
      ]
     },
     "metadata": {},
     "output_type": "display_data"
    },
    {
     "data": {
      "image/png": "[encoded data removed]",
      "text/plain": [
       "<Figure size 900x500 with 1 Axes>"
      ]
     },
     "metadata": {},
     "output_type": "display_data"
    },
    {
     "ename": "IndexError",
     "evalue": "index 1 is out of bounds for axis 1 with size 1",
     "output_type": "error",
     "traceback": [
      "\u001b[0;31m---------------------------------------------------------------------------\u001b[0m",
      "\u001b[0;31mIndexError\u001b[0m                                Traceback (most recent call last)",
      "File \u001b[0;32m~/Documents/GitHub/divc_labs/3C6/lab_3c6.py:70\u001b[0m, in \u001b[0;36mmeasure_stepped_sine.measure\u001b[0;34m(self, b)\u001b[0m\n\u001b[1;32m     67\u001b[0m index \u001b[38;5;241m=\u001b[39m np\u001b[38;5;241m.\u001b[39margmax(np\u001b[38;5;241m.\u001b[39mabs(freq_data\u001b[38;5;241m.\u001b[39mfreq_data[:,\u001b[38;5;241m0\u001b[39m]))\n\u001b[1;32m     69\u001b[0m \u001b[38;5;28mself\u001b[39m\u001b[38;5;241m.\u001b[39mf \u001b[38;5;241m=\u001b[39m np\u001b[38;5;241m.\u001b[39mappend(\u001b[38;5;28mself\u001b[39m\u001b[38;5;241m.\u001b[39mf,freq_data\u001b[38;5;241m.\u001b[39mfreq_axis[index])\n\u001b[0;32m---> 70\u001b[0m \u001b[38;5;28mself\u001b[39m\u001b[38;5;241m.\u001b[39mG \u001b[38;5;241m=\u001b[39m np\u001b[38;5;241m.\u001b[39mappend(\u001b[38;5;28mself\u001b[39m\u001b[38;5;241m.\u001b[39mG,\u001b[43mfreq_data\u001b[49m\u001b[38;5;241;43m.\u001b[39;49m\u001b[43mfreq_data\u001b[49m\u001b[43m[\u001b[49m\u001b[43mindex\u001b[49m\u001b[43m,\u001b[49m\u001b[38;5;241;43m1\u001b[39;49m\u001b[43m]\u001b[49m \u001b[38;5;241m/\u001b[39m freq_data\u001b[38;5;241m.\u001b[39mfreq_data[index,\u001b[38;5;241m0\u001b[39m])\n\u001b[1;32m     72\u001b[0m \u001b[38;5;28mself\u001b[39m\u001b[38;5;241m.\u001b[39mupdate_line()\n",
      "\u001b[0;31mIndexError\u001b[0m: index 1 is out of bounds for axis 1 with size 1"
     ]
    }
   ],
   "source": [
    "logger1 = lab_3c6.measure_stepped_sine(settings)"
   ]
  },
  {
   "cell_type": "code",
   "execution_count": 6,
   "id": "77e1dd9f",
   "metadata": {},
   "outputs": [
    {
     "name": "stdout",
     "output_type": "stream",
     "text": [
      "__________________________________________________________\n",
      "\n",
      "Devices available using device_driver=soundcard, by index:\n",
      "__________________________________________________________\n",
      "\n",
      "0: DELL U2718Q\n",
      "1: Logitech BT Adapter\n",
      "2: MacBook Pro Microphone\n",
      "3: MacBook Pro Speakers\n",
      "4: Microsoft Teams Audio\n",
      "5: Aggregate Device\n",
      "6: Q bluetooth\n",
      "\n",
      "Default device is: [2] MacBook Pro Microphone\n",
      "\n",
      "Default device is: [3] MacBook Pro Speakers\n",
      "\n",
      "\n",
      "______________________________________________________\n",
      "\n",
      "Devices available using device_driver=nidaq, by index:\n",
      "______________________________________________________\n",
      "\n",
      "no NI devices found\n",
      "\n"
     ]
    },
    {
     "data": {
      "text/plain": [
       "'__________________________________________________________\\n\\nDevices available using device_driver=soundcard, by index:\\n__________________________________________________________\\n\\n0: DELL U2718Q\\n1: Logitech BT Adapter\\n2: MacBook Pro Microphone\\n3: MacBook Pro Speakers\\n4: Microsoft Teams Audio\\n5: Aggregate Device\\n6: Q bluetooth\\n\\nDefault device is: [2] MacBook Pro Microphone\\n\\nDefault device is: [3] MacBook Pro Speakers\\n\\n\\n______________________________________________________\\n\\nDevices available using device_driver=nidaq, by index:\\n______________________________________________________\\n\\nno NI devices found\\n'"
      ]
     },
     "execution_count": 6,
     "metadata": {},
     "output_type": "execute_result"
    }
   ],
   "source": [
    "dvma.list_available_devices()"
   ]
  },
  {
   "cell_type": "code",
   "execution_count": null,
   "id": "d1f0e042",
   "metadata": {},
   "outputs": [],
   "source": []
  }
 ],
 "metadata": {
  "kernelspec": {
   "display_name": "Python 3 (ipykernel)",
   "language": "python",
   "name": "python3"
  },
  "language_info": {
   "codemirror_mode": {
    "name": "ipython",
    "version": 3
   },
   "file_extension": ".py",
   "mimetype": "text/x-python",
   "name": "python",
   "nbconvert_exporter": "python",
   "pygments_lexer": "ipython3",
   "version": "3.10.11"
  }
 },
 "nbformat": 4,
 "nbformat_minor": 5
}
