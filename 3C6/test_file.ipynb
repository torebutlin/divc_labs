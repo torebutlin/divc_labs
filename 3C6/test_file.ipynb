{
 "cells": [
  {
   "cell_type": "code",
   "execution_count": 1,
   "id": "c642b707",
   "metadata": {
    "scrolled": true
   },
   "outputs": [
    {
     "name": "stdout",
     "output_type": "stream",
     "text": [
      "Intel MKL WARNING: Support of Intel(R) Streaming SIMD Extensions 4.2 (Intel(R) SSE4.2) enabled only processors has been deprecated. Intel oneAPI Math Kernel Library 2025.0 will require Intel(R) Advanced Vector Extensions (Intel(R) AVX) instructions.\n",
      "Intel MKL WARNING: Support of Intel(R) Streaming SIMD Extensions 4.2 (Intel(R) SSE4.2) enabled only processors has been deprecated. Intel oneAPI Math Kernel Library 2025.0 will require Intel(R) Advanced Vector Extensions (Intel(R) AVX) instructions.\n"
     ]
    }
   ],
   "source": [
    "import pydvma as dvma\n",
    "import lab_3c6"
   ]
  },
  {
   "cell_type": "code",
   "execution_count": 2,
   "id": "4ba9e9f3",
   "metadata": {},
   "outputs": [],
   "source": [
    "settings = dvma.MySettings(channels=1,\n",
    "                           fs=44100,\n",
    "                           viewed_time=1,\n",
    "                           device_driver = 'soundcard')"
   ]
  },
  {
   "cell_type": "code",
   "execution_count": null,
   "id": "5ae640c0",
   "metadata": {},
   "outputs": [],
   "source": [
    "osc = dvma.Oscilloscope(settings)\n",
    "\n"
   ]
  },
  {
   "cell_type": "code",
   "execution_count": 4,
   "id": "c7dc7d7a",
   "metadata": {},
   "outputs": [],
   "source": [
    "logger = dvma.Logger(settings)"
   ]
  },
  {
   "cell_type": "code",
   "execution_count": null,
   "id": "77e1dd9f",
   "metadata": {},
   "outputs": [],
   "source": [
    "dvma.list_available_devices()"
   ]
  },
  {
   "cell_type": "code",
   "execution_count": null,
   "id": "d1f0e042",
   "metadata": {},
   "outputs": [],
   "source": [
    "dvma.gui.app.applicationState()"
   ]
  },
  {
   "cell_type": "code",
   "execution_count": null,
   "id": "cb9c5d22",
   "metadata": {},
   "outputs": [],
   "source": []
  }
 ],
 "metadata": {
  "kernelspec": {
   "display_name": "Python 3 (ipykernel)",
   "language": "python",
   "name": "python3"
  },
  "language_info": {
   "codemirror_mode": {
    "name": "ipython",
    "version": 3
   },
   "file_extension": ".py",
   "mimetype": "text/x-python",
   "name": "python",
   "nbconvert_exporter": "python",
   "pygments_lexer": "ipython3",
   "version": "3.10.11"
  }
 },
 "nbformat": 4,
 "nbformat_minor": 5
}
