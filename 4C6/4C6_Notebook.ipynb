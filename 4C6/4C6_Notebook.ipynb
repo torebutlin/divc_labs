{
 "cells": [
  {
   "cell_type": "markdown",
   "metadata": {},
   "source": [
    "<hr style=\"height:2px;border:none\" />\n",
    "<h1><center> Engineering Tripos Part IIB Module Experiment: 4C6 </center></h1> \n",
    "<h1><center> Experimental Modal Analysis, South Wing Mechanics Laboratory </center></h1>\n",
    "<hr style=\"height:2px;border:none\" />\n",
    "\n",
    "## 1. Objectives\n",
    "\n",
    "-  To explore the technique of experimental modal analysis, and to use it to find the mode shapes corresponding to the first few resonant frequencies of a structure;\n",
    "- To use this information to make a simple design modification to the structure to achieve improved vibration performance."
   ]
  },
  {
   "cell_type": "markdown",
   "metadata": {},
   "source": [
    "## 2. Introduction\n",
    "\n",
    "Experimental modal analysis is a modern technique of vibration investigation which has become very popular. Provided the modal overlap of a system is low, it is reasonably straightforward to recognise resonances by peaks in the vibration response and to map out the corresponding mode shapes by determining how the amplitude and phase of that modal contribution varies over the surface of the system. This information can be used to validate theoretical models of the structure, or to allow design modifications to be undertaken on a rational basis when a vibration problem has to be solved.\n",
    "\n",
    "The usual method is to measure transfer functions from a grid of points distributed over the system. One envisages applying a force at a fixed point and measuring the vibration response (displacement, velocity or acceleration) at the grid of points. In practice, it is often easier to take advantage of the reciprocal theorem: a fixed sensor, usually an accelerometer, is used, and force is applied to the structure at each of the grid points using a force-transducer hammer. This is the approach to be used in this experiment. The system you will use has much in common with commercial modal analysers, but you will be required to do certain stages by hand rather than having the computer do everything automatically.\n",
    "\n",
    "Your report should describe the key results of the experiments, with plots where appropriate. A number of specific questions to be addressed are contained in the detailed instructions in Section 4. Your completed report should be submitted online as a PDF file using the 4C6 Moodle page before the last lecture of term when a feedback session on the experiment will be held."
   ]
  },
  {
   "cell_type": "markdown",
   "metadata": {},
   "source": [
    "## 3. Apparatus\n",
    "\n",
    "The apparatus comprises a thin metal plate fixed around part of its perimeter to a heavy base-plate; an instrumented hammer to apply controlled forces to it; a sensor to measure the response; a datalogging computer provided with suitable analysis software; and some miscellaneous electronic instrumentation. The shape of the thin plate is based on the floor panel of a helicopter — a rounded nose, two doorways, and a tail section. Force can be applied to the structure impulsively, using an instrumented hammer. This has a piezoelectric force transducer built in to it, so that the precise waveform of force can be determined. The signal from this transducer is buffered by a suitable amplifier. Vibration response is measured using an accelerometer fixed to the plate near one of the ''doorways''. The signal from this also passes through a suitable buffer amplifier. The signals corresponding to the force and the acceleration response go to the PC, which is used to perform\n",
    "data logging and analysis via a Python package, which this notebook uses. The person who logs in will hold all saved files.\n",
    "\n",
    "If the computer is not already on, switch it on, then log in using your usual Teaching System ID and password. If the power is not on, the switch for the computer is on a pillar at the north end of the bench, and the switch for the bench apparatus is somewhere on the central white trunking: follow the wires back to find the correct place. **You may need to plug in the two BNC cables** carrying your input and output signals to the diecast box on the bottom shelf of the computer trolley. Your cables are labelled “4C6 CH1” and “4C6 CH2”, to be plugged into the corresponding channels."
   ]
  },
  {
   "cell_type": "markdown",
   "metadata": {},
   "source": [
    "<hr style=\"height:2px;border:none\" />\n",
    "\n",
    "## 4. Experimental procedure\n",
    "\n",
    "\n",
    "### 4.1 Measuring one transfer function\n",
    "\n",
    "<hr style=\"height:2px;border:none\" />\n",
    "\n",
    "The first stage of the experiment is to measure one transfer function, to find out roughly how the system behaves and to familiarise yourself with the equipment and software.\n",
    "\n",
    "Start by double-clicking on the 'Start 4C6.bat' file on the desktop. This copies across a fresh copy of this notebook to the folder 'lab_4C6' in your teaching system filespace, then it opens Jupyter Notebooks starting in this folder. You will likely see some error messages in the command prompt: these are normal and are just part of the system looking in different directories for your teaching system username. If you need to (e.g. if you accidentally deleted part of this notebook), then you can get a fresh copy by running 'Start_4C6.bat' again.\n",
    "\n",
    "Click '4C6_Notebook.ipynb' to open.\n",
    "\n",
    "The next cells import the necessary modules: pydvma is a python package written for data acquisition at CUED.\n",
    "\n",
    "Remember:\n",
    "\n",
    "* to actually run a cell of code, click inside the cell then press 'shift+enter'\n",
    "* the cell is running while [ * ] is displayed\n",
    "* the cell has finished running when it changes to a number\n",
    "* under the 'view' menu above you can toggle off the header and toolbar, which is useful to give a bit more screen space\n",
    "* you can control the cell output view by clicking on the left beside the cell: single click to expand/compress, double-click to hide.\n",
    "\n",
    "***"
   ]
  },
  {
   "cell_type": "code",
   "execution_count": null,
   "metadata": {},
   "outputs": [],
   "source": [
    "%gui qt"
   ]
  },
  {
   "cell_type": "markdown",
   "metadata": {},
   "source": [
    "Wait a second before running the imports: it takes a moment for the previous command to take effect behind the scenes. If you get an error, just try it again."
   ]
  },
  {
   "cell_type": "code",
   "execution_count": null,
   "metadata": {},
   "outputs": [],
   "source": [
    "import matplotlib\n",
    "import numpy as np\n",
    "import pydvma as dvma"
   ]
  },
  {
   "cell_type": "code",
   "execution_count": null,
   "metadata": {},
   "outputs": [],
   "source": [
    "matplotlib.use('nbagg')"
   ]
  },
  {
   "cell_type": "markdown",
   "metadata": {},
   "source": [
    "Choose your acquisition settings. The settings for this part of the 4C6 lab are:\n",
    "\n",
    "* channels=2 (number of channels to record)\n",
    "* fs=3000 (sampling rate in Hz)\n",
    "* stored_time=3 (time in seconds to store data)\n",
    "* device_driver = 'nidaq'"
   ]
  },
  {
   "cell_type": "code",
   "execution_count": null,
   "metadata": {},
   "outputs": [],
   "source": [
    "# acquisition setup\n",
    "settings = dvma.MySettings(channels=2,\n",
    "                           fs=3000,\n",
    "                           stored_time=3,\n",
    "                           device_driver = 'nidaq')"
   ]
  },
  {
   "cell_type": "markdown",
   "metadata": {},
   "source": [
    "Now open a PC oscilloscope using your settings. This shows three plots:\n",
    "\n",
    "* the top one is like a normal oscilloscope showing the signal (toggle on/off with 'T');\n",
    "* the middle one shows the frequency spectrum of the signal (toggle on/off with 'F');\n",
    "* the bottom one shows the signal amplitudes (toggle on/off with 'L');\n",
    "* you can pause the data shown by pressing 'P' (press again to continue streaming data);\n",
    "* you can toggle whether the window is always on top by pressing 'A'\n",
    "\n",
    "Tap the structure gently with the instrumented hammer on the point labelled “0”. Check that you can see a response in the oscilloscope: the top plot shows the time data, the middle shows the FFT, and the bottom shows the levels. If you get no data at all, check that you've plugged the cables into the computer and that everything is switched on.\n",
    "\n",
    "Once you have checked that the signal levels are ok, close the oscilloscope or move and rescale the window to a corner of the screen so you can carry on working in this notebook."
   ]
  },
  {
   "cell_type": "code",
   "execution_count": null,
   "metadata": {},
   "outputs": [],
   "source": [
    "# open oscilloscope\n",
    "osc = dvma.Oscilloscope(settings)"
   ]
  },
  {
   "cell_type": "markdown",
   "metadata": {},
   "source": [
    "Now open the logger window by running the next cell (shift+enter). The settings now include ''pretrig_samples=100''. This will store the data that starts 100 samples **before** the impulse is detected (after pressing ''Log Data'').\n",
    "\n",
    "Familiarise yourself with the logger window:\n",
    "- the centre panel contains the figure - note the zooming / panning tools under the figure.\n",
    "- when data is shown, you can click on the legend lines to select which channels are shown.\n",
    "- when using the box-zoom tool (from under the figure), then left-click-drag will zoom to the rectangle, and right-click-drag will zoom out.\n",
    "- the left panel controls what is plotted (you can select which plot to show using the top dropdown).\n",
    "- use the 'auto x' and 'auto y' buttons to automatically adjust the x and y axes to fit the selected data ('auto y' changes the y-limits to fit the selected data, 'auto x' changes the x-limits to the whole data range).\n",
    "- the right panel provides data analysis tools (you can select which tools are displayed using the top dropdown).\n",
    "- the centre top panel is for basic data management (logging / loading / deleting).\n",
    "- the centre bottom panel is to save data or figures."
   ]
  },
  {
   "cell_type": "code",
   "execution_count": null,
   "metadata": {},
   "outputs": [],
   "source": [
    "# acquisition setup\n",
    "settings = dvma.MySettings(channels=2,\n",
    "                           fs=3000,\n",
    "                           stored_time=3,\n",
    "                           pretrig_samples=100,\n",
    "                           device_driver = 'nidaq')\n",
    "logger1 = dvma.Logger(settings)"
   ]
  },
  {
   "cell_type": "markdown",
   "metadata": {},
   "source": [
    "Next:\n",
    "1. Press ''Log Data''. The logger will wait for you to use the instrumented hammer to tap the structure (20 seconds before timeout).\n",
    "- Tap the structure gently with the instrumented hammer at the position labelled '0'.\n",
    "- The measured data will appear in the figure when logging completes after 3 seconds.\n",
    "- You can examine the results closely by zooming, using either the tools at the bottom of the figure, or the axis options in the left panel.\n",
    "- You can display either channel separately, or both together, by clicking the legend lines. You can hide or show all lines using the buttons in the left panel. You can cycle through your selection using the arrow buttons..\n",
    "- Check your results. Are they clipped? Was there a single, clean impact or multiple impacts? Be prepared to practise your tapping technique until you get good results. If you get no data at all, check that you've plugged the cables into the computer and that everything is switched on.\n",
    "- If you want to redo a measurement, then press ''Delete Last'' or ''Delete All'', and re-measure. You should end up with a single good measurement set.\n",
    "- If you think that the logger has stopped responding, you can restart this notebook by selecting 'Restart & clear output' from the 'Kernel' menu of the notebook.\n",
    "\n",
    "Obtain the corresponding frequency response using the ''Calculate FFT'' button (right panel), which takes the Discrete Fourier Transform of both channels of data, using the Fast Fourier Transform algorithm. The ''window'' dropdown should be set to ''None''."
   ]
  },
  {
   "cell_type": "markdown",
   "metadata": {},
   "source": [
    "The results will appear in the figure. Note that the top left dropdown shows the view is now ''FFT Data''. The display will initially show the log magnitude, but you can also plot the phase, the real or imaginary parts, or the Nyquist plot (real part against imaginary part in the complex plane) via the menu option ''Plot type'' in the left panel.\n",
    "\n",
    "After examining the details, you can obtain a transfer function using the ''Calculate TF'' button, with ''window'' and ''averaging method'' both set to ''None''. This will divide the accelerometer spectrum by the force spectrum, to obtain a transfer function which should be independent of the precise forcing used to obtain it. \n",
    "\n",
    "- Press 'Save Figure' to save the plot: it will save a PNG and PDF of the figure as seen on the screen.\n",
    "\n",
    "- Press 'Save Dataset' to save all the data to disk (it will save the data that has been calculated so far, so press it after you have calculated the FFT and Transfer Functions)\n",
    "\n",
    "__Save your figures at each stage of the lab so that you can insert them directly into your report.__"
   ]
  },
  {
   "cell_type": "markdown",
   "metadata": {},
   "source": [
    "The transfer function you have measured will show evidence of noise, making the plot less clear than you might ideally like. One source of this noise can be investigated easily. In the right panel, press ''Clean Impulse''. The signal in Channel 0, the hammer force, will be processed by detecting the time range when there is significant force, and tapering the signal down to zero outside that range. Then press ''Calculate TF'' again. This should result in a cleaner transfer function. Discuss why this works in your report. Use this ''Clean Impulse'' button before calculating transfer functions throughout this experiment.\n",
    "\n",
    "From your transfer function, how many modes does the structure seem to have with frequencies below 1 kHz? The next portion of the experiment will study these modes, to obtain accurate estimates of the frequencies, damping factors and mode shapes. To introduce the method you should work through one case by hand."
   ]
  },
  {
   "cell_type": "markdown",
   "metadata": {},
   "source": [
    "__Make sure you remembered to save both the data and the figure!__\n",
    "\n",
    "__Any files you save during this experiment should be put in your own file space on the central computer network: this space is mounted as the Drive Y when you logged in to the Teaching System (it should be where this notebook has already been copied to and is the default location for all saved data). Do not put files on the local disk of the PC you are using. Make sure you avoid file names containing a dot! Windows doesn’t like them.__\n",
    "\n",
    "You can check you have saved your data by loading and replotting the results:"
   ]
  },
  {
   "cell_type": "code",
   "execution_count": null,
   "metadata": {},
   "outputs": [],
   "source": [
    "data_single_measurement = dvma.load_data()\n",
    "data_single_measurement.plot_time_data()\n",
    "data_single_measurement.plot_freq_data()\n",
    "data_single_measurement.plot_tf_data()"
   ]
  },
  {
   "cell_type": "markdown",
   "metadata": {},
   "source": [
    "<div class=\"alert alert-block alert-info\">\n",
    "    \n",
    "<b> Understanding the logger: </b><br/>\n",
    "\n",
    "When you press 'Save Dataset', the logger saves a &lt;DataSet&gt; object which has the following structure:\n",
    "\n",
    "<pre><code>\n",
    "    &lt;DataSet> class:\n",
    "          time_data_list: [&lt;TimeData>, &lt;TimeData>, &lt;TimeData>]\n",
    "          freq_data_list: [&lt;FreqData>, &lt;FreqData>, &lt;FreqData>]\n",
    "    cross_spec_data_list: []\n",
    "            tf_data_list: [&lt;TfData>, &lt;TfData>, &lt;TfData>]\n",
    "         modal_data_list: [&lt;ModalData>]\n",
    "          sono_data_list: []\n",
    "          meta_data_list: []\n",
    "          \n",
    "</code></pre>\n",
    "\n",
    "    \n",
    "Each type of data is arranged in 'sets', e.g. each measurement will add another &lt;TimeData&gt; set to time_data_list. This example has three sets of time, frequency and transfer function data types, and a &lt;ModalData&gt; set (which you will use later). Similarly each time you load data it will add the loaded sets to the appropriate data list.<br/><br/>\n",
    "\n",
    "<li> When you press 'Calc FFT' then a &lt;FreqData&gt; item is calculated for each &lt;TimeData&gt; set.</li>\n",
    "<li> When you press 'Calc TF' then a &lt;TfData&gt; item is calculated for each &lt;TimeData&gt; set.</li>\n",
    "<li> When you press 'Calc TF average' then a single &lt;TfData&gt; item is calculated averaging across all &lt;TimeData&gt; items, with an assumption that the time data sets all have the same settings.</li>\n",
    "</div>"
   ]
  },
  {
   "cell_type": "markdown",
   "metadata": {},
   "source": [
    "<hr style=\"height:2px;border:none\" />\n",
    "\n",
    "### 4.2 Determining modal frequencies and damping\n",
    "\n",
    "<hr style=\"height:2px;border:none\" />\n",
    "\n",
    "You will need to keep the logger window open. If you have already closed it then **don't worry** you can re-open it, without losing any data, using:"
   ]
  },
  {
   "cell_type": "code",
   "execution_count": null,
   "metadata": {},
   "outputs": [],
   "source": [
    "logger1.show()"
   ]
  },
  {
   "cell_type": "markdown",
   "metadata": {},
   "source": [
    "__Don't forget to save your data and figures so you can use them for your report.__\n",
    "\n",
    "Examine the log magnitude plot carefully in the vicinity of the strong resonance at approximately 250 Hz. Estimate its frequency and bandwidth (to the 3 dB points). One way to do this is to:\n",
    "1. Zoom into the peak using the box zoom at the bottom of the figure\n",
    "- You can zoom in by left-click-dragging rectangles, or zoom out by right-click-dragging rectangles\n",
    "- Press ''Auto Y'' in the left panel\n",
    "- Use the text box to set ymin to 3dB less than ymax\n",
    "- Iterate xmin / xmax until it fills the figure\n",
    "- You might want to turn the legend off using the legend controls in the left panel so that it's not in the way.\n",
    "\n",
    "From the bandwidth estimate the modal damping factor. To what accuracy do you think you can obtain the damping factor by this method?"
   ]
  },
  {
   "cell_type": "markdown",
   "metadata": {},
   "source": [
    "Now select a frequency range in the vicinity of this resonant peak, i.e. widen the displayed frequency to include around 20–40 dB from the peak value (making sure just one peak is in view). Using the ''Plot type'' dropdown select ''Nyquist'', and you should see a portion of a circle, as was explained in the lectures.\n",
    "\n",
    "Now use the tool selection dropdown (top-right) to choose ''Mode Fitting''. Check that ''TF Type'' is set to ''Acceleration'' and tweak the frequency range if needed using the fmin / fmax settings. Then press ''Fit''. This will attempt to fit a single term of a modal summation to the displayed peak: if successful you should now see a computed circle that matches the data reasonably well, and a message that gives a summary of the fitted modal parameters (natural frequency $f_n$, damping factor $z_n$, the Q-factor $Q_n = 1/(2 z_n)$, modal coefficient $a_n$, and phase $p_n$ - the phase is the angle from the origin to the centre of the circle). If the fit looks like a poor match, then try again using a different frequency range.\n",
    "\n",
    "Compare your estimate above with the modal fit."
   ]
  },
  {
   "cell_type": "markdown",
   "metadata": {},
   "source": [
    "__CHECK 1: Did you remember to clean the impulse data before calculating the transfer function?__\n",
    "\n",
    "__CHECK 2: Did you remember to save your data *after* calculating the transfer function?__\n",
    "\n",
    "__CHECK 3: Did you remember to save the figures that you want to keep for the report?__ \n",
    "\n",
    "__CHECK 4: Did you remember to check that you are happy with the saved figures? (find the files using wndows explorer and open the pdf's)__\n",
    "\n",
    "__Remember to save your data as well as all figures to the teaching system__"
   ]
  },
  {
   "cell_type": "markdown",
   "metadata": {},
   "source": [
    "<hr style=\"height:2px;border:none\" />\n",
    "\n",
    "### 4.3 Measuring the grid and finding the mode shapes\n",
    "\n",
    "<hr style=\"height:2px;border:none\" />\n",
    "\n",
    "You are now ready to investigate the mode shapes. For simplicity we will start afresh (and re-do the measurement for Position 0). Make sure you have saved your data, then close your first logger window before starting the new one."
   ]
  },
  {
   "cell_type": "code",
   "execution_count": null,
   "metadata": {},
   "outputs": [],
   "source": [
    "# acquisition setup\n",
    "logger1.close()\n",
    "settings = dvma.MySettings(channels=2,\n",
    "                           fs=3000,\n",
    "                           stored_time=3,\n",
    "                           pretrig_samples=100,\n",
    "                           device_driver = 'nidaq')\n",
    "logger2 = dvma.Logger(settings)"
   ]
  },
  {
   "cell_type": "markdown",
   "metadata": {},
   "source": [
    "For each measurement position in turn, labelled 0 to 11 on the plate, do the following:\n",
    "1. Press ''Log Data''\n",
    "- Use the hammer to deliver an impulse to the appropriate position: **strike the grid intersections as accurately as possible**\n",
    "    1. if you see a warning about clipped data then press ''undo'' and ''Log Data'' again\n",
    "    - if you think you have not done a good measurement (e.g. double tap or too gentle hit), then press ''Delete Last'' and ''Log Data'' again\n",
    "    - the triggering mechanism will time-out after 20 seconds if the threshold is not detected, so don’t wait too long before tapping. Be careful to hold the hammer still during the 3 second logging, i.e. don’t put it down on the bench during this time!\n",
    "- Repeat until you have a single good measurement for each point. Note that the legend labels each measurement as a 'Set', which should correspond to the grid point labels you have measured.\n",
    "\n",
    "__Press ''Save Dataset'' to store the Time Data you have just logged.__\n",
    "\n",
    "__To reset the figure axes at any stage, press 'Auto X' then 'Auto Y'.__"
   ]
  },
  {
   "cell_type": "markdown",
   "metadata": {},
   "source": [
    "You will have a large collection of data: before continuing, maximise the logger window if you haven't already, then zoom in on the initial impulse. Press ''Show Chan Only'' which will only select the lines from Channel 0 of each set. Make sure that they are all a reasonable amplitude (~0.3 or above), and with no double-hits. If any show a double hit, identify which 'Set' it belongs to, then choose ''Edit Dataset'' from the tool selection dropdown (top-right), enter the set to replace into the text box, then press ''Log & Replace Selected Set''. This will log data as usual, but the data will directly replace the chosen set.\n",
    "\n",
    "Once you have a good set of time data, go back to ''Standard Tools'' (top-right dropdown) and press ''Clean Impulse''. This will clean all the impulse data channels. Then press ''Calculate FFT'' and ''Calculate TF''.\n",
    "\n",
    "The result will be 12 channels of transfer-function data, corresponding to the 12 grid points labelled 0-11. Look at the transfer function set carefully - do all the channels look good, or do some of them look wrong in one way or another? If so, identify the doubtful sets, and use the ''Edit Dataset'' tool to re-log data for the corresponding positions. Don't forget to ''Clean Impulse'', ''Calculate FFT'' and ''Calculate TF'' afterwards.\n",
    "\n",
    "To see individual channels, press 'None' under 'line selection' in the left panel, then use the legend to select a line. You can then use the previous (<) and next (>) arrows to cycle through the selection.\n",
    "\n",
    "__Press ''Save Dataset'' to store all the data you have logged and calculated.__\n",
    "\n",
    "If for any reason you have to restart, you can read these transfer functions back in quickly using the ''Load Data'' option."
   ]
  },
  {
   "cell_type": "markdown",
   "metadata": {},
   "source": [
    "Now proceed to the modal analysis proper. Display all channels in ''Amplitude (dB)'' form, and select a frequency range in the vicinity of a resonant frequency, just as you did in the previous stage when you performed a modal fit. Select ''Nyquist'' from the plot type dropdown to reveal a set of portions of circles. Now select ''Mode Fitting'' and press ''Fit'', and the logger will work through all 12 channels, trying to fit a single frequency and damping factor for the dataset, and amplitude and phases for each position. (The phase is the angle from the origin to the centre of the circle.)"
   ]
  },
  {
   "cell_type": "markdown",
   "metadata": {},
   "source": [
    "After processing each channel, the logger will list the results in the message area, as well as show the locally reconstructed transfer functions. The reconstructions are placed in a single new set with 12 channels. In the left panel under ''Line Selection'' press the ''None'' button then use the legend to select specific lines to compare each reconstruction with the corresponding measurement."
   ]
  },
  {
   "cell_type": "markdown",
   "metadata": {},
   "source": [
    "You know that a given mode manifests itself in all of your measured transfer functions and moreover that it should in theory always have the same frequency and damping factor, but the amplitude will vary from place to place (make sure you know why). If certain sets show poor fits, then something has gone wrong with the fitting procedure. Look at the data carefully in any such cases. Most often, this problem arises when the relevant peak in the transfer function is very tiny, implying that the corresponding point on the structure is near to a node line of that mode. This is useful to know for sketching mode shapes later on. In other cases, the problem may arise because the optimisation routine used to fit the modal parameters has not converged. Try taking a slightly different frequency range and repeating the calculation. If the problem won't go away then simply ignore any rogue data for the purposes of forming your damping factor estimate."
   ]
  },
  {
   "cell_type": "markdown",
   "metadata": {},
   "source": [
    "Repeat this exercise for each of the resonances lying below 1 kHz. This is easiest using the ''Amplitude (dB)'' view, where adjusting the frequency range is more straightforward: **you don't need to have ''Nyquist'' view selected for the fit to work**. To replace a previous fit then simply zoom into the mode to replace, a message will appear if you have already fitted this mode, and press ''Fit''. To delete mode fits then select a frequency range containing the modes to delete, a message will appear to summarise the modes fitted within that range, and press ''Reject''.\n",
    "\n",
    "Spend a little bit of time getting a good fit for each mode. If you deal with oddities now the quality of your mode shapes will be much improved which will make things easier for you later on.\n",
    "\n",
    "__Remember to save your data (after fitting all the modes) and figures to the teaching system__"
   ]
  },
  {
   "cell_type": "markdown",
   "metadata": {},
   "source": [
    "Once you have processed each mode the mode shapes can be visualised simply by drawing a sketch of the structure with its grid of points, and writing the modal amplitudes on it. Do this for each mode, and try to deduce the mode shape: sketch in the position of any nodal lines, and describe the motion briefly in words.\n",
    "\n",
    "The modal amplitudes are in a 2D numpy array, with each row showing the 12 amplitudes for a given mode. The actual values are awkward to read, so for convenience we can scale them to be in the range [-100,+100], and print the result:"
   ]
  },
  {
   "cell_type": "code",
   "execution_count": null,
   "metadata": {},
   "outputs": [],
   "source": [
    "modal_data = logger2.dataset.modal_data_list[0]\n",
    "for n_mode in range(len(modal_data.fn)):\n",
    "    fn=modal_data.fn[n_mode]\n",
    "    zn=modal_data.zn[n_mode]\n",
    "    an=modal_data.an[n_mode,:]\n",
    "    print('Mode {}: fn={:.3f}, zn={:.5g}, Qn={:.1f}'.format(n_mode,fn,zn,1/2/zn))\n",
    "    scaled_amplitudes = an/np.max(np.abs(an)) * 100\n",
    "    print('scaled amplitudes={}'.format(np.array2string(scaled_amplitudes,precision=0)))\n",
    "    print('_____')"
   ]
  },
  {
   "cell_type": "markdown",
   "metadata": {},
   "source": [
    "__Make a note of these values, or save this notebook, or copy-paste the text in an email to yourself!__"
   ]
  },
  {
   "cell_type": "markdown",
   "metadata": {},
   "source": [
    "<hr style=\"height:2px;border:none\" />\n",
    "\n",
    "### 4.4 Reconstructing Transfer Functions\n",
    "\n",
    "<hr style=\"height:2px;border:none\" />\n",
    "\n",
    "One standard way to check the accuracy of the modal parameters determined by the procedure you have just followed is to reconstruct some of the transfer functions using the theoretical expression together with the parameter values you have found. If the transfer functions match, the analysis is confirmed, while any mismatch will give clues as to what is missing in the analysis.\n",
    "\n",
    "Press the ''Reconstruction'' button in the ''Mode Fitting'' tool. This will use the data from your previous mode fits in the modal summation formula to reconstruct all 12 transfer functions. Recall that the reconstructions are placed in a single new set with 12 channels. In the left panel under ''Line Selection'', press  the ''None'' button and use the legend to select specific lines to compare a reconstruction with its corresponding measurement. Once you have selected a pair for comparison, you can then use the arrow selection buttons to increment the comparison."
   ]
  },
  {
   "cell_type": "markdown",
   "metadata": {},
   "source": [
    "Once the reconstruction is complete, you should compare it directly with the original in channel 5. How well does it fit? Comment in your write-up. This particular transfer function is (almost) the driving-point response. What pattern of signs do you expect? Does the reconstruction agree?\n",
    "\n",
    "Repeat the reconstruction exercise for channel 10. Is the quality of fit better or worse than in the case of channel 5?\n",
    "\n",
    "__Remember to save your data (after doing the reconstruction) and figures to the teaching system__\n",
    "\n",
    "__CHECK 1: Have you remembered to save the figures you need for your report?__\n",
    "\n",
    "__CHECK 2: Have you saved your dataset after carrying out all the processing?__\n",
    "\n",
    "__CHECK 3: Have you remembered to save the figures you need for your report?__"
   ]
  },
  {
   "cell_type": "markdown",
   "metadata": {},
   "source": [
    "<hr style=\"height:2px;border:none\" />\n",
    "\n",
    "### 4.5 Measuring the grid and finding the mode shapes\n",
    "\n",
    "<hr style=\"height:2px;border:none\" />\n",
    "\n",
    "A common reason to carry out a modal test is to provide a rational basis for design modifications to cure a vibration problem in the structure. As an example, we can suppose that the helicopter of which this is the floor panel normally operates at an engine speed such that the gearbox provides narrow-band drive in the frequency range 350–500 Hz. If a resonance in the floor panel is excited, this causes discomfort to the pilot and is undesirable. It is thus desired to modify the panel so as to have the widest possible gap in the sequence of resonant frequencies around the range specified. \n",
    "\n",
    "One way to modify the panel is to add mass. You are provided with a selection of magnets. If the keepers are attached to the magnets, don’t forget to remove them before you start! You can attach any or all of them to the panel. From your calculated mode shapes, explain how you could choose suitable positions for these added masses to achieve the design goal. Try the magnets in your suggested placement, and repeat the measurement of one suitable transfer function to see the effect on the resonant frequencies. Experiment with the number of masses and their positions to find the best arrangement. Does the behaviour follow your expectation?"
   ]
  },
  {
   "cell_type": "markdown",
   "metadata": {},
   "source": [
    "You can start a new logger below. Make sure you have saved your data, then close your previous logger window before starting the new one.\n",
    "\n",
    "In practice, adding mass might not be the best way to tackle this problem on a helicopter - why not? What other modifications might be made to a floor panel to reduce the problem from resonances? Briefly describe the effect of each possibility on the vibration behaviour, the advantages and disadvantages, and how you would set about a design incorporating one or more of the possibilities."
   ]
  },
  {
   "cell_type": "code",
   "execution_count": null,
   "metadata": {},
   "outputs": [],
   "source": [
    "# acquisition setup\n",
    "logger1.close()\n",
    "logger2.close()\n",
    "settings = dvma.MySettings(channels=2,\n",
    "                           fs=3000,\n",
    "                           stored_time=3,\n",
    "                           pretrig_samples=100,\n",
    "                           device_driver = 'nidaq')\n",
    "logger3 = dvma.Logger(settings)"
   ]
  },
  {
   "cell_type": "markdown",
   "metadata": {},
   "source": [
    "Note that you can re-open any of the logger instances you have previously started, and it will re-open where you left off including with any data so far stored. For example, to restart logger2 use:"
   ]
  },
  {
   "cell_type": "code",
   "execution_count": null,
   "metadata": {},
   "outputs": [],
   "source": [
    "logger2.show()"
   ]
  },
  {
   "cell_type": "markdown",
   "metadata": {},
   "source": [
    "## AT THE END OF THE EXPERIMENT\n",
    "* __check you have saved your data and figures to the teaching system__\n",
    "* share your data with lab-group partners (e.g. using [Firefox Send](https://send.firefox.com/) or [wetransfer](https://wetransfer.com/))\n",
    "* sign-out of the pc"
   ]
  },
  {
   "cell_type": "markdown",
   "metadata": {},
   "source": [
    "<div class=\"alert alert-block alert-danger\">\n",
    "    \n",
    "<b> NOTE: </b><br/>\n",
    "\n",
    "* __Please note that the state of the loggers is not saved along with the notebook itself, so when you close the notebook then you can no longer use logger.show().__\n",
    "\n",
    "* __Therefore, please remember to save data and figures as needed for the report before leaving the lab__\n",
    "\n",
    "* __The pydvma logger is opensource, so you can install it on your own device (windows/mac/linux), however it is still in development so may not work.__\n",
    "\n",
    "</div>"
   ]
  },
  {
   "cell_type": "markdown",
   "metadata": {},
   "source": [
    "### Installation instructions\n",
    "\n",
    "1. Install anaconda by downloading from https://www.anaconda.com/distribution/\n",
    "- Open Anaconda prompt and type:\n",
    "    >conda install pyaudio<br>pip install pydvma\n",
    "- If you get an error about not having the correct permissions, then try opening Anaconda prompt by right-clicking and choosing 'run as administrator'\n",
    "- then open Jupyter notebooks from the windows start menu, and this notebook should work."
   ]
  },
  {
   "cell_type": "code",
   "execution_count": null,
   "metadata": {},
   "outputs": [],
   "source": []
  }
 ],
 "metadata": {
  "kernelspec": {
   "display_name": "Python 3",
   "language": "python",
   "name": "python3"
  },
  "language_info": {
   "codemirror_mode": {
    "name": "ipython",
    "version": 3
   },
   "file_extension": ".py",
   "mimetype": "text/x-python",
   "name": "python",
   "nbconvert_exporter": "python",
   "pygments_lexer": "ipython3",
   "version": "3.7.6"
  }
 },
 "nbformat": 4,
 "nbformat_minor": 2
}
